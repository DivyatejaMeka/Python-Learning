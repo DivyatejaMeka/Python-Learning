{
 "cells": [
  {
   "cell_type": "code",
   "execution_count": 1,
   "id": "3712f7df",
   "metadata": {},
   "outputs": [
    {
     "name": "stdout",
     "output_type": "stream",
     "text": [
      "\n",
      "Your current account balance is: Rs. 200\n",
      "Your e-wallet balance is: Rs. 5000\n",
      "You need Rs. 800 more to start playing.\n",
      "Enter the amount to withdraw from e-wallet: 500\n",
      "\n",
      "Your current account balance is: Rs. 700\n",
      "Your e-wallet balance is: Rs. 4500\n",
      "You need Rs. 300 more to start playing.\n",
      "Enter the amount to withdraw from e-wallet: 200\n",
      "\n",
      "Your current account balance is: Rs. 900\n",
      "Your e-wallet balance is: Rs. 4300\n",
      "You need Rs. 100 more to start playing.\n",
      "Enter the amount to withdraw from e-wallet: 300\n",
      "\n",
      "Now, you are ready to play the game!\n",
      "Final account balance: Rs. 1200\n",
      "Remaining e-wallet balance: Rs. 4000\n"
     ]
    }
   ],
   "source": [
    "# Initial account balance and e-wallet balance\n",
    "account_balance = 200\n",
    "e_wallet_balance = 5000\n",
    "required_amount = 1000\n",
    "\n",
    "# Function to handle withdrawal and gameplay readiness\n",
    "def play_game():\n",
    "    global account_balance, e_wallet_balance\n",
    "\n",
    "    while account_balance < required_amount:\n",
    "        print(f\"\\nYour current account balance is: Rs. {account_balance}\")\n",
    "        print(f\"Your e-wallet balance is: Rs. {e_wallet_balance}\")\n",
    "\n",
    "        if e_wallet_balance <= 0:\n",
    "            print(\"Your e-wallet is empty. You cannot add more money.\")\n",
    "            break\n",
    "\n",
    "        needed = required_amount - account_balance\n",
    "        print(f\"You need Rs. {needed} more to start playing.\")\n",
    "\n",
    "        try:\n",
    "            # Prompt the user to withdraw money from e-wallet\n",
    "            withdraw_amount = int(input(\"Enter the amount to withdraw from e-wallet: \"))\n",
    "\n",
    "            if withdraw_amount > e_wallet_balance:\n",
    "                print(\"You cannot withdraw more than the e-wallet balance!\")\n",
    "            elif withdraw_amount <= 0:\n",
    "                print(\"Please enter a valid withdrawal amount.\")\n",
    "            else:\n",
    "                e_wallet_balance -= withdraw_amount\n",
    "                account_balance += withdraw_amount\n",
    "\n",
    "                if account_balance >= required_amount:\n",
    "                    print(\"\\nNow, you are ready to play the game!\")\n",
    "                    print(f\"Final account balance: Rs. {account_balance}\")\n",
    "                    print(f\"Remaining e-wallet balance: Rs. {e_wallet_balance}\")\n",
    "                    break\n",
    "        except ValueError:\n",
    "            print(\"Invalid input! Please enter a numeric value.\")\n",
    "\n",
    "    if account_balance < required_amount and e_wallet_balance == 0:\n",
    "        print(\"\\nYou still do not have enough money to play, and your e-wallet is empty. Game cannot start.\")\n",
    "\n",
    "# Execution\n",
    "play_game()\n"
   ]
  },
  {
   "cell_type": "code",
   "execution_count": null,
   "id": "1c31435f",
   "metadata": {},
   "outputs": [],
   "source": []
  }
 ],
 "metadata": {
  "kernelspec": {
   "display_name": "Python 3 (ipykernel)",
   "language": "python",
   "name": "python3"
  },
  "language_info": {
   "codemirror_mode": {
    "name": "ipython",
    "version": 3
   },
   "file_extension": ".py",
   "mimetype": "text/x-python",
   "name": "python",
   "nbconvert_exporter": "python",
   "pygments_lexer": "ipython3",
   "version": "3.11.5"
  }
 },
 "nbformat": 4,
 "nbformat_minor": 5
}
