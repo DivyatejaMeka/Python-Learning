{
 "cells": [
  {
   "cell_type": "code",
   "execution_count": 1,
   "id": "fc383a3e",
   "metadata": {},
   "outputs": [
    {
     "name": "stdout",
     "output_type": "stream",
     "text": [
      "Enter a number: 5\n",
      "The square of 5 is 25\n"
     ]
    }
   ],
   "source": [
    "# Solution-1\n",
    "user = int(input(\"Enter a number: \"))\n",
    "sqr = user ** 2\n",
    "print(f\"The square of {user} is {sqr}\")"
   ]
  },
  {
   "cell_type": "code",
   "execution_count": 8,
   "id": "8835fc52",
   "metadata": {},
   "outputs": [
    {
     "name": "stdout",
     "output_type": "stream",
     "text": [
      "Enter a number: 7\n",
      "7---14---21---28---35\n"
     ]
    }
   ],
   "source": [
    "# Solution-2\n",
    "user = int(input(\"Enter a number: \"))\n",
    "x = user\n",
    "x2 = 2*user\n",
    "x3 = 3*user\n",
    "x4 = 4*user\n",
    "x5 = 5*user\n",
    "print(x,x2,x3,x4,x5, sep='---')"
   ]
  },
  {
   "cell_type": "code",
   "execution_count": 11,
   "id": "068795d1",
   "metadata": {},
   "outputs": [
    {
     "name": "stdout",
     "output_type": "stream",
     "text": [
      "Enter your weight in Kilograms: 50\n",
      "Your weight in pounds is 110.00000000000001\n"
     ]
    }
   ],
   "source": [
    "# Solution-3\n",
    "user = float(input(\"Enter your weight in Kilograms: \"))\n",
    "pounds = 2.2 * user\n",
    "print(f\"Your weight in pounds is {pounds}\")"
   ]
  },
  {
   "cell_type": "code",
   "execution_count": 12,
   "id": "921dde16",
   "metadata": {},
   "outputs": [
    {
     "name": "stdout",
     "output_type": "stream",
     "text": [
      "Enter num1: 3\n",
      "Enter num2: 4\n",
      "Enter num3: 5\n",
      "The total and average of three numbers 3, 4, 5 is 12 and 4.0\n"
     ]
    }
   ],
   "source": [
    "# Solution-4\n",
    "num1 = int(input(\"Enter num1: \"))\n",
    "num2 = int(input(\"Enter num2: \"))\n",
    "num3 = int(input(\"Enter num3: \"))\n",
    "total = num1+num2+num3\n",
    "average = total / 3\n",
    "print(f\"The total and average of three numbers {num1}, {num2}, {num3} is {total} and {average}\")"
   ]
  },
  {
   "cell_type": "code",
   "execution_count": 13,
   "id": "db9f7c5f",
   "metadata": {},
   "outputs": [
    {
     "name": "stdout",
     "output_type": "stream",
     "text": [
      "Enter the bill amount: 300\n",
      "Enter tip percentage to give: 15\n",
      "Bill amount is 300 and tip percentage given is 15, tip want to give 45.0, total bill 345.0\n"
     ]
    }
   ],
   "source": [
    "# Solution-5\n",
    "bill = eval(input(\"Enter the bill amount: \"))\n",
    "tip = eval(input(\"Enter tip percentage to give: \"))\n",
    "total = (bill * tip)/100\n",
    "totalbill = bill + total\n",
    "print(f\"Bill amount is {bill} and tip percentage given is {tip}, tip want to give {total}, total bill {totalbill}\")"
   ]
  },
  {
   "cell_type": "code",
   "execution_count": 16,
   "id": "b54a3e12",
   "metadata": {},
   "outputs": [
    {
     "name": "stdout",
     "output_type": "stream",
     "text": [
      "Enter num1: 4\n",
      "Enter num2: 2\n",
      "Given numbers 4 and 2, their subtraction is 2, addition is 6, multiplication is 8, division is 2.0\n"
     ]
    }
   ],
   "source": [
    "# Solution-6\n",
    "num1 = eval(input(\"Enter num1: \"))\n",
    "num2 = eval(input(\"Enter num2: \"))\n",
    "sub = num1 - num2\n",
    "add = num1 + num2\n",
    "mul = num1 * num2\n",
    "div = num1 / num2\n",
    "print(f\"Given numbers {num1} and {num2}, their subtraction is {sub}, addition is {add}, multiplication is {mul}, division is {div}\",)"
   ]
  },
  {
   "cell_type": "code",
   "execution_count": 17,
   "id": "27004249",
   "metadata": {},
   "outputs": [
    {
     "name": "stdout",
     "output_type": "stream",
     "text": [
      "Enter the radius of the circle: 4\n",
      "Enter the value of pi: 3.14\n",
      "The area of the circle is: 50.24\n"
     ]
    }
   ],
   "source": [
    "# Solution-7\n",
    "radius = float(input(\"Enter the radius of the circle: \"))\n",
    "pi = float(input(\"Enter the value of pi: \"))\n",
    "area = pi * (radius ** 2)\n",
    "print(\"The area of the circle is:\", area)"
   ]
  },
  {
   "cell_type": "code",
   "execution_count": 18,
   "id": "2a98290f",
   "metadata": {},
   "outputs": [
    {
     "name": "stdout",
     "output_type": "stream",
     "text": [
      "Enter the bill amount in dollars: 400\n",
      "Enter the exchange rate (Indian Rupees per 1 Dollar): 83\n",
      "The bill amount in Indian Rupees is: 33200.0\n"
     ]
    }
   ],
   "source": [
    "# Solution-8\n",
    "bill_amount_dollars = float(input(\"Enter the bill amount in dollars: \"))\n",
    "conversion_rate = float(input(\"Enter the exchange rate (Indian Rupees per 1 Dollar): \"))\n",
    "bill_amount_rupees = bill_amount_dollars * conversion_rate\n",
    "print(\"The bill amount in Indian Rupees is:\", bill_amount_rupees)"
   ]
  },
  {
   "cell_type": "code",
   "execution_count": 19,
   "id": "2ac9c179",
   "metadata": {},
   "outputs": [
    {
     "name": "stdout",
     "output_type": "stream",
     "text": [
      "Enter the base of the triangle: 5\n",
      "Enter the height of the triangle: 10\n",
      "The area of the triangle is: 25.0\n"
     ]
    }
   ],
   "source": [
    "# Solution-9\n",
    "base = float(input(\"Enter the base of the triangle: \"))\n",
    "height = float(input(\"Enter the height of the triangle: \"))\n",
    "area = 0.5 * base * height\n",
    "print(\"The area of the triangle is:\", area)"
   ]
  },
  {
   "cell_type": "code",
   "execution_count": 20,
   "id": "94eb2458",
   "metadata": {},
   "outputs": [
    {
     "name": "stdout",
     "output_type": "stream",
     "text": [
      "Enter the length of the rectangle: 10\n",
      "Enter the breadth of the rectangle: 20\n",
      "The area of the rectangle is: 200.0\n"
     ]
    }
   ],
   "source": [
    "# Solution-10\n",
    "length = float(input(\"Enter the length of the rectangle: \"))\n",
    "breadth = float(input(\"Enter the breadth of the rectangle: \"))\n",
    "area = length * breadth\n",
    "print(\"The area of the rectangle is:\", area)"
   ]
  },
  {
   "cell_type": "code",
   "execution_count": 23,
   "id": "ca632e0d",
   "metadata": {},
   "outputs": [
    {
     "name": "stdout",
     "output_type": "stream",
     "text": [
      "Father: Hey Baby!\n",
      "Daughter: Hello Daddy\n",
      "Father: I heard your exams are over, what about the result?\n",
      "Daughter: Yes dad! Results are out.\n",
      "Father: What is the percentage?\n",
      "Daughter: I will give my subject-wise marks, you tell me the percentage.\n",
      "Father: Okay!\n",
      "First Language: 80\n",
      "Second Language: 90\n",
      "Third Language: 70\n",
      "Science: 100\n",
      "Maths: 90\n",
      "Daughter: Dad, now tell me how much percentage I got.\n",
      "Father: Tell me the max marks for each subject.\n",
      "Daughter: 100\n",
      "Father: You got 86.0 percent!\n"
     ]
    }
   ],
   "source": [
    "input(\"Father: Hey Baby!\")\n",
    "input(\"Daughter: Hello Daddy\")\n",
    "input(\"Father: I heard your exams are over, what about the result?\")\n",
    "input(\"Daughter: Yes dad! Results are out.\")\n",
    "input(\"Father: What is the percentage?\")\n",
    "input(\"Daughter: I will give my subject-wise marks, you tell me the percentage.\")\n",
    "input(\"Father: Okay!\")\n",
    "\n",
    "sub1 = eval(input(\"First Language: \"))\n",
    "sub2 = eval(input(\"Second Language: \"))\n",
    "sub3 = eval(input(\"Third Language: \"))\n",
    "sub4 = eval(input(\"Science: \"))\n",
    "sub5 = eval(input(\"Maths: \"))\n",
    "\n",
    "input(\"Daughter: Dad, now tell me how much percentage I got.\")\n",
    "input(\"Father: Tell me the max marks for each subject.\")\n",
    "\n",
    "max_marks = eval(input(\"Daughter: \")) \n",
    "\n",
    "total_marks_obtained = sub1 + sub2 + sub3 + sub4 + sub5\n",
    "total_max_marks = max_marks * 5  \n",
    "percentage = (total_marks_obtained / total_max_marks) * 100\n",
    "\n",
    "print(\"Father: You got\", percentage, \"percent!\")"
   ]
  },
  {
   "cell_type": "code",
   "execution_count": null,
   "id": "f19e0c79",
   "metadata": {},
   "outputs": [],
   "source": []
  }
 ],
 "metadata": {
  "kernelspec": {
   "display_name": "Python 3 (ipykernel)",
   "language": "python",
   "name": "python3"
  },
  "language_info": {
   "codemirror_mode": {
    "name": "ipython",
    "version": 3
   },
   "file_extension": ".py",
   "mimetype": "text/x-python",
   "name": "python",
   "nbconvert_exporter": "python",
   "pygments_lexer": "ipython3",
   "version": "3.11.5"
  }
 },
 "nbformat": 4,
 "nbformat_minor": 5
}
