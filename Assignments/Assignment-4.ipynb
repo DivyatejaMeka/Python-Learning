{
 "cells": [
  {
   "cell_type": "code",
   "execution_count": 1,
   "id": "a2fdaeb8",
   "metadata": {},
   "outputs": [
    {
     "name": "stdout",
     "output_type": "stream",
     "text": [
      "Enter Ramesh's basic salary: 50000\n",
      "Ramesh's gross salary is: 80000.0\n"
     ]
    }
   ],
   "source": [
    "# Question-1\n",
    "# Get basic salary input from user\n",
    "basic_salary = float(input(\"Enter Ramesh's basic salary: \"))\n",
    "\n",
    "# Calculate dearness allowance (40% of basic salary)\n",
    "dearness_allowance = 0.40 * basic_salary\n",
    "\n",
    "# Calculate house rent allowance (20% of basic salary)\n",
    "house_rent_allowance = 0.20 * basic_salary\n",
    "\n",
    "# Calculate gross salary\n",
    "gross_salary = basic_salary + dearness_allowance + house_rent_allowance\n",
    "\n",
    "# Display the gross salary\n",
    "print(f\"Ramesh's gross salary is: {gross_salary}\")"
   ]
  },
  {
   "cell_type": "code",
   "execution_count": 2,
   "id": "5c5382b6",
   "metadata": {},
   "outputs": [
    {
     "name": "stdout",
     "output_type": "stream",
     "text": [
      "Enter the distance between two cities in kilometers: 20\n",
      "Distance in meters: 20000.0\n",
      "Distance in feet: 65616.8\n",
      "Distance in inches: 787402.0\n",
      "Distance in centimeters: 2000000.0\n"
     ]
    }
   ],
   "source": [
    "# Question-2\n",
    "# Get distance in kilometers as input\n",
    "distance_km = float(input(\"Enter the distance between two cities in kilometers: \"))\n",
    "\n",
    "# Convert to meters\n",
    "distance_meters = distance_km * 1000\n",
    "\n",
    "# Convert to feet (1 km = 3280.84 feet)\n",
    "distance_feet = distance_km * 3280.84\n",
    "\n",
    "# Convert to inches (1 km = 39370.1 inches)\n",
    "distance_inches = distance_km * 39370.1\n",
    "\n",
    "# Convert to centimeters (1 km = 100000 cm)\n",
    "distance_cm = distance_km * 100000\n",
    "\n",
    "# Display the results\n",
    "print(f\"Distance in meters: {distance_meters}\")\n",
    "print(f\"Distance in feet: {distance_feet}\")\n",
    "print(f\"Distance in inches: {distance_inches}\")\n",
    "print(f\"Distance in centimeters: {distance_cm}\")"
   ]
  },
  {
   "cell_type": "code",
   "execution_count": 3,
   "id": "daaa0685",
   "metadata": {},
   "outputs": [
    {
     "name": "stdout",
     "output_type": "stream",
     "text": [
      "Enter marks for Subject 1: 70\n",
      "Enter marks for Subject 2: 80\n",
      "Enter marks for Subject 3: 90\n",
      "Enter marks for Subject 4: 89.7\n",
      "Enter marks for Subject 5: 88\n",
      "Aggregate marks: 417.7\n",
      "Percentage marks: 83.54%\n"
     ]
    }
   ],
   "source": [
    "# Question-3\n",
    "# Get marks for each subject as input\n",
    "marks_subject1 = float(input(\"Enter marks for Subject 1: \"))\n",
    "marks_subject2 = float(input(\"Enter marks for Subject 2: \"))\n",
    "marks_subject3 = float(input(\"Enter marks for Subject 3: \"))\n",
    "marks_subject4 = float(input(\"Enter marks for Subject 4: \"))\n",
    "marks_subject5 = float(input(\"Enter marks for Subject 5: \"))\n",
    "\n",
    "# Calculate aggregate marks\n",
    "aggregate_marks = marks_subject1 + marks_subject2 + marks_subject3 + marks_subject4 + marks_subject5\n",
    "\n",
    "# Calculate percentage marks\n",
    "# Assuming maximum marks per subject is 100, so total maximum marks for 5 subjects is 500\n",
    "percentage_marks = (aggregate_marks / 500) * 100\n",
    "\n",
    "# Display the results\n",
    "print(f\"Aggregate marks: {aggregate_marks}\")\n",
    "print(f\"Percentage marks: {percentage_marks:.2f}%\")"
   ]
  },
  {
   "cell_type": "code",
   "execution_count": 4,
   "id": "db07edba",
   "metadata": {},
   "outputs": [
    {
     "name": "stdout",
     "output_type": "stream",
     "text": [
      "Enter the temperature in Fahrenheit: 70\n",
      "The temperature in Celsius is: 21.11°C\n"
     ]
    }
   ],
   "source": [
    "# Question-4\n",
    "# Get temperature in Fahrenheit as input\n",
    "temperature_fahrenheit = float(input(\"Enter the temperature in Fahrenheit: \"))\n",
    "\n",
    "# Convert Fahrenheit to Celsius using the formula\n",
    "temperature_celsius = (temperature_fahrenheit - 32) * 5 / 9\n",
    "\n",
    "# Display the result\n",
    "print(f\"The temperature in Celsius is: {temperature_celsius:.2f}°C\")"
   ]
  },
  {
   "cell_type": "code",
   "execution_count": 5,
   "id": "0a57d552",
   "metadata": {},
   "outputs": [
    {
     "name": "stdout",
     "output_type": "stream",
     "text": [
      "Enter the length of the rectangle: 50\n",
      "Enter the breadth of the rectangle: 66\n",
      "Enter the radius of the circle: 90\n",
      "Area of the rectangle: 3300.0\n",
      "Perimeter of the rectangle: 232.0\n",
      "Area of the circle: 25446.90\n",
      "Circumference of the circle: 565.49\n"
     ]
    }
   ],
   "source": [
    "# Question-5\n",
    "import math\n",
    "\n",
    "# Get length and breadth of the rectangle as input\n",
    "length = float(input(\"Enter the length of the rectangle: \"))\n",
    "breadth = float(input(\"Enter the breadth of the rectangle: \"))\n",
    "\n",
    "# Get radius of the circle as input\n",
    "radius = float(input(\"Enter the radius of the circle: \"))\n",
    "\n",
    "# Calculate area and perimeter of the rectangle\n",
    "rectangle_area = length * breadth\n",
    "rectangle_perimeter = 2 * (length + breadth)\n",
    "\n",
    "# Calculate area and circumference of the circle\n",
    "circle_area = math.pi * radius ** 2\n",
    "circle_circumference = 2 * math.pi * radius\n",
    "\n",
    "# Display the results\n",
    "print(f\"Area of the rectangle: {rectangle_area}\")\n",
    "print(f\"Perimeter of the rectangle: {rectangle_perimeter}\")\n",
    "print(f\"Area of the circle: {circle_area:.2f}\")\n",
    "print(f\"Circumference of the circle: {circle_circumference:.2f}\")"
   ]
  },
  {
   "cell_type": "code",
   "execution_count": 6,
   "id": "778d9985",
   "metadata": {},
   "outputs": [
    {
     "name": "stdout",
     "output_type": "stream",
     "text": [
      "Enter the value for C: 7\n",
      "Enter the value for D: 9\n",
      "Original values - C: 7.0, D: 9.0\n",
      "Swapped values - C: 9.0, D: 7.0\n"
     ]
    }
   ],
   "source": [
    "# Question-6\n",
    "# Get input values for C and D\n",
    "C = float(input(\"Enter the value for C: \"))\n",
    "D = float(input(\"Enter the value for D: \"))\n",
    "\n",
    "# Display original values\n",
    "print(f\"Original values - C: {C}, D: {D}\")\n",
    "\n",
    "# Swap the values\n",
    "C, D = D, C\n",
    "\n",
    "# Display swapped values\n",
    "print(f\"Swapped values - C: {C}, D: {D}\")"
   ]
  },
  {
   "cell_type": "code",
   "execution_count": 7,
   "id": "17a918e5",
   "metadata": {},
   "outputs": [
    {
     "name": "stdout",
     "output_type": "stream",
     "text": [
      "Enter a five-digit number: 89089\n",
      "The reversed number is: 98098\n"
     ]
    }
   ],
   "source": [
    "# Question-7\n",
    "# Get a five-digit number as input\n",
    "number = input(\"Enter a five-digit number: \")\n",
    "\n",
    "# Check if the input is a five-digit number\n",
    "if len(number) == 5 and number.isdigit():\n",
    "    # Reverse the number\n",
    "    reversed_number = number[::-1]\n",
    "    print(f\"The reversed number is: {reversed_number}\")\n",
    "else:\n",
    "    print(\"Please enter a valid five-digit number.\")"
   ]
  },
  {
   "cell_type": "code",
   "execution_count": 8,
   "id": "d21d3016",
   "metadata": {},
   "outputs": [
    {
     "name": "stdout",
     "output_type": "stream",
     "text": [
      "Enter a four-digit number: 8907\n",
      "The sum of the first and last digits is: 15\n"
     ]
    }
   ],
   "source": [
    "# Question-8\n",
    "# Get a four-digit number as input\n",
    "number = input(\"Enter a four-digit number: \")\n",
    "\n",
    "# Check if the input is a four-digit number\n",
    "if len(number) == 4 and number.isdigit():\n",
    "    # Convert the first and last characters to integers\n",
    "    first_digit = int(number[0])\n",
    "    last_digit = int(number[-1])\n",
    "\n",
    "    # Calculate the sum of the first and last digits\n",
    "    sum_first_last = first_digit + last_digit\n",
    "\n",
    "    # Display the result\n",
    "    print(f\"The sum of the first and last digits is: {sum_first_last}\")\n",
    "else:\n",
    "    print(\"Please enter a valid four-digit number.\")"
   ]
  },
  {
   "cell_type": "code",
   "execution_count": 9,
   "id": "f3dc3083",
   "metadata": {},
   "outputs": [
    {
     "name": "stdout",
     "output_type": "stream",
     "text": [
      "Number of illiterate men: 13600\n",
      "Number of illiterate women: 28000\n"
     ]
    }
   ],
   "source": [
    "# Question-9\n",
    "# Given data\n",
    "total_population = 80000\n",
    "percentage_men = 52\n",
    "percentage_total_literacy = 48\n",
    "percentage_literate_men = 35\n",
    "\n",
    "# Calculate the number of men and women in the town\n",
    "total_men = (percentage_men / 100) * total_population\n",
    "total_women = total_population - total_men\n",
    "\n",
    "# Calculate the number of literate men and total literate people\n",
    "literate_men = (percentage_literate_men / 100) * total_population\n",
    "total_literates = (percentage_total_literacy / 100) * total_population\n",
    "\n",
    "# Calculate the number of literate women\n",
    "literate_women = total_literates - literate_men\n",
    "\n",
    "# Calculate the number of illiterate men and women\n",
    "illiterate_men = total_men - literate_men\n",
    "illiterate_women = total_women - literate_women\n",
    "\n",
    "# Display the results\n",
    "print(f\"Number of illiterate men: {int(illiterate_men)}\")\n",
    "print(f\"Number of illiterate women: {int(illiterate_women)}\")"
   ]
  },
  {
   "cell_type": "code",
   "execution_count": 12,
   "id": "778eb89e",
   "metadata": {},
   "outputs": [
    {
     "name": "stdout",
     "output_type": "stream",
     "text": [
      "Enter the amount to be withdrawn (in hundreds): 670\n",
      "Number of 100 notes: 6\n",
      "Number of 50 notes: 1\n",
      "Number of 10 notes: 2\n"
     ]
    }
   ],
   "source": [
    "# Question-10\n",
    "# Get the amount to be withdrawn\n",
    "amount = int(input(\"Enter the amount to be withdrawn (in hundreds): \"))\n",
    "\n",
    "# Ensure that the amount is in multiples of 10\n",
    "if amount % 10 != 0:\n",
    "    print(\"Please enter an amount in multiples of 10.\")\n",
    "else:\n",
    "    # Calculate the number of 100, 50, and 10 denomination notes\n",
    "    num_hundreds = amount // 100\n",
    "    remaining_amount = amount % 100\n",
    "\n",
    "    num_fifties = remaining_amount // 50\n",
    "    remaining_amount = remaining_amount % 50\n",
    "\n",
    "    num_tens = remaining_amount // 10\n",
    "\n",
    "    # Display the number of each denomination\n",
    "    print(f\"Number of 100 notes: {num_hundreds}\")\n",
    "    print(f\"Number of 50 notes: {num_fifties}\")\n",
    "    print(f\"Number of 10 notes: {num_tens}\")"
   ]
  },
  {
   "cell_type": "code",
   "execution_count": null,
   "id": "5580fe73",
   "metadata": {},
   "outputs": [],
   "source": []
  }
 ],
 "metadata": {
  "kernelspec": {
   "display_name": "Python 3 (ipykernel)",
   "language": "python",
   "name": "python3"
  },
  "language_info": {
   "codemirror_mode": {
    "name": "ipython",
    "version": 3
   },
   "file_extension": ".py",
   "mimetype": "text/x-python",
   "name": "python",
   "nbconvert_exporter": "python",
   "pygments_lexer": "ipython3",
   "version": "3.11.5"
  }
 },
 "nbformat": 4,
 "nbformat_minor": 5
}
