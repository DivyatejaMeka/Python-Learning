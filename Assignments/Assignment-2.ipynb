{
 "cells": [
  {
   "cell_type": "markdown",
   "id": "a7c4e0cc",
   "metadata": {},
   "source": [
    "## Assignment-2: if-else practice question"
   ]
  },
  {
   "cell_type": "code",
   "execution_count": 1,
   "id": "09c324ec",
   "metadata": {},
   "outputs": [
    {
     "name": "stdout",
     "output_type": "stream",
     "text": [
      "Enter num1: 2\n",
      "Enter num2: 2\n",
      "We won\n"
     ]
    }
   ],
   "source": [
    "# Question1\n",
    "n1 = eval(input(\"Enter num1: \"))\n",
    "n2 = eval(input(\"Enter num2: \"))\n",
    "if n1 == n2:\n",
    "    print(\"We won\")\n",
    "else:\n",
    "    print(\"We lost\")"
   ]
  },
  {
   "cell_type": "code",
   "execution_count": 2,
   "id": "db3ab781",
   "metadata": {},
   "outputs": [
    {
     "name": "stdout",
     "output_type": "stream",
     "text": [
      "Enter num2: 2\n",
      "We lost\n"
     ]
    }
   ],
   "source": [
    "# Question2\n",
    "import random\n",
    "n1 = random.randint(1, 10)\n",
    "n2 = eval(input(\"Enter num2: \"))\n",
    "if n1 == n2:\n",
    "    print(\"We won\")\n",
    "else:\n",
    "    print(\"We lost\")"
   ]
  },
  {
   "cell_type": "code",
   "execution_count": 3,
   "id": "485ff6cf",
   "metadata": {},
   "outputs": [
    {
     "name": "stdout",
     "output_type": "stream",
     "text": [
      "Enter a num: 3\n",
      "The given number 3 is odd\n"
     ]
    }
   ],
   "source": [
    "# Question3\n",
    "num = eval(input(\"Enter a num: \"))\n",
    "if num%2 == 0:\n",
    "    print(f\"The given number {num} is even\")\n",
    "else:\n",
    "    print(f\"The given number {num} is odd\")"
   ]
  },
  {
   "cell_type": "code",
   "execution_count": 4,
   "id": "46cf29f3",
   "metadata": {},
   "outputs": [
    {
     "name": "stdout",
     "output_type": "stream",
     "text": [
      "Enter distance: 90\n",
      "Give cut off distance: 56\n",
      "The charge applicable only on: 34 kms\n",
      "Enter the charge: 10\n",
      "The total charge is: 650 rs\n"
     ]
    }
   ],
   "source": [
    "# Question4\n",
    "d = eval(input(\"Enter distance: \"))\n",
    "cutoff = eval(input(\"Give cut off distance: \"))\n",
    "if d>cutoff:\n",
    "    print(f\"The charge applicable only on: {d-cutoff} kms\")\n",
    "    charge = eval(input(\"Enter the charge: \"))\n",
    "    total_charge = (d-25)*charge\n",
    "    print(f\"The total charge is: {total_charge} rs\")\n",
    "else:\n",
    "    print(\"free ride\")"
   ]
  },
  {
   "cell_type": "code",
   "execution_count": 5,
   "id": "13b25c0c",
   "metadata": {},
   "outputs": [
    {
     "name": "stdout",
     "output_type": "stream",
     "text": [
      "Enter num1: 4\n",
      "Enter num2: 2\n",
      "The greater number is 4\n"
     ]
    }
   ],
   "source": [
    "# Question5\n",
    "n1 = eval(input(\"Enter num1: \"))\n",
    "n2 = eval(input(\"Enter num2: \"))\n",
    "if n1<n2:\n",
    "    print(f\"The greater number is {n2}\")\n",
    "else:\n",
    "    print(f\"The greater number is {n1}\")"
   ]
  },
  {
   "cell_type": "code",
   "execution_count": 6,
   "id": "f3ed540a",
   "metadata": {},
   "outputs": [
    {
     "name": "stdout",
     "output_type": "stream",
     "text": [
      "Enter course name: data Science\n",
      "Enter institute name: naresh IT\n",
      "We are good\n"
     ]
    }
   ],
   "source": [
    "# Question6\n",
    "course_name = input(\"Enter course name: \").lower()\n",
    "inst_name = input(\"Enter institute name: \").lower()\n",
    "if course_name == \"data science\" and inst_name == \"naresh it\":\n",
    "    print(\"We are good\")\n",
    "else: \n",
    "    print(\"Not Good\")"
   ]
  },
  {
   "cell_type": "code",
   "execution_count": null,
   "id": "a38f1003",
   "metadata": {},
   "outputs": [],
   "source": []
  }
 ],
 "metadata": {
  "kernelspec": {
   "display_name": "Python 3 (ipykernel)",
   "language": "python",
   "name": "python3"
  },
  "language_info": {
   "codemirror_mode": {
    "name": "ipython",
    "version": 3
   },
   "file_extension": ".py",
   "mimetype": "text/x-python",
   "name": "python",
   "nbconvert_exporter": "python",
   "pygments_lexer": "ipython3",
   "version": "3.11.5"
  }
 },
 "nbformat": 4,
 "nbformat_minor": 5
}
