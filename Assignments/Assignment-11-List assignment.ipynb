{
 "cells": [
  {
   "cell_type": "code",
   "execution_count": 1,
   "id": "c74ba687",
   "metadata": {},
   "outputs": [
    {
     "data": {
      "text/plain": [
       "['Hyd', 'Chennai', 'Mumbai', 'Pune']"
      ]
     },
     "execution_count": 1,
     "metadata": {},
     "output_type": "execute_result"
    }
   ],
   "source": [
    "# Q4)  l1=['hyd','chennai','mumbai','pune']\n",
    "#     ans=['Hyd','Chennai','Mumabi','Pune']\n",
    "l1=['hyd','chennai','mumbai','pune']\n",
    "ans=[]\n",
    "for i in l1:\n",
    "    ans.append(i.capitalize())\n",
    "ans"
   ]
  },
  {
   "cell_type": "code",
   "execution_count": 2,
   "id": "55a22c54",
   "metadata": {},
   "outputs": [
    {
     "data": {
      "text/plain": [
       "['HYD', 'CHENNAI', 'MUMBAI', 'PUNE']"
      ]
     },
     "execution_count": 2,
     "metadata": {},
     "output_type": "execute_result"
    }
   ],
   "source": [
    "#Q5)  l1=['hyd','chennai','mumbai','pune']\n",
    "#     ans=['HYD','CHENNAI','MUMBAI','PUNE']\n",
    "l1=['hyd','chennai','mumbai','pune']\n",
    "ans=[]\n",
    "for i in l1:\n",
    "    ans.append(i.upper())\n",
    "ans"
   ]
  },
  {
   "cell_type": "code",
   "execution_count": 4,
   "id": "dbca9a7d",
   "metadata": {},
   "outputs": [
    {
     "data": {
      "text/plain": [
       "['chen#ai', 'mu#bai']"
      ]
     },
     "execution_count": 4,
     "metadata": {},
     "output_type": "execute_result"
    }
   ],
   "source": [
    "#Q6)  l1=['hyd','chen#ai','mu#bai','pune']\n",
    "#     ans=['chen#ai','mu#bai']\n",
    "l1=['hyd','chen#ai','mu#bai','pune']\n",
    "ans1=[]\n",
    "ans2=[]\n",
    "for i in l1:\n",
    "    if '#' in i:\n",
    "        ans1.append(i)\n",
    "    if '#' not in i:\n",
    "        ans2.append(i)\n",
    "ans1 "
   ]
  },
  {
   "cell_type": "code",
   "execution_count": 5,
   "id": "00f2ab00",
   "metadata": {},
   "outputs": [
    {
     "data": {
      "text/plain": [
       "['hyd', 'pune']"
      ]
     },
     "execution_count": 5,
     "metadata": {},
     "output_type": "execute_result"
    }
   ],
   "source": [
    "#Q7)  l1=['hyd','chen#ai','mu#bai','pune']\n",
    "#     ans=['hyd','pune']\n",
    "l1=['hyd','chen#ai','mu#bai','pune']\n",
    "ans1=[]\n",
    "ans2=[]\n",
    "for i in l1:\n",
    "    if '#' in i:\n",
    "        ans1.append(i)\n",
    "    if '#' not in i:\n",
    "        ans2.append(i)\n",
    "ans2  "
   ]
  },
  {
   "cell_type": "code",
   "execution_count": 6,
   "id": "d86d5a4e",
   "metadata": {},
   "outputs": [
    {
     "data": {
      "text/plain": [
       "['Hello', 'Hai', 'How', 'Are', 'You']"
      ]
     },
     "execution_count": 6,
     "metadata": {},
     "output_type": "execute_result"
    }
   ],
   "source": [
    "#Q8) str1= 'hello hai how are you'\n",
    "#    ans=['Hello','Hai','How','Are','You']\n",
    "\n",
    "str1= 'hello hai how are you'\n",
    "str1.title().split()"
   ]
  },
  {
   "cell_type": "code",
   "execution_count": 7,
   "id": "376fc8ef",
   "metadata": {},
   "outputs": [],
   "source": [
    "# Question-9\n",
    "str1='virat.kohli@rcb.com; rohit.sharma@mi.com; dhoni.ms@csk.com'\n",
    "l=str1.split(';')\n",
    "f_name,s_name,c_name=[],[],[]\n",
    "for i in l:\n",
    "    first_dot=i.find('.')\n",
    "    second_dot=i.find('.',first_dot+1)\n",
    "    at_index=i.find('@')\n",
    "    f_name.append(i[:first_dot])\n",
    "    s_name.append(i[first_dot+1:at_index])\n",
    "    c_name.append(i[at_index+1:second_dot])"
   ]
  },
  {
   "cell_type": "code",
   "execution_count": 9,
   "id": "bf1e2c65",
   "metadata": {},
   "outputs": [
    {
     "data": {
      "text/plain": [
       "['virat', ' rohit', ' dhoni']"
      ]
     },
     "execution_count": 9,
     "metadata": {},
     "output_type": "execute_result"
    }
   ],
   "source": [
    "f_name\n"
   ]
  },
  {
   "cell_type": "code",
   "execution_count": 10,
   "id": "6573dd45",
   "metadata": {},
   "outputs": [
    {
     "data": {
      "text/plain": [
       "['kohli', 'sharma', 'ms']"
      ]
     },
     "execution_count": 10,
     "metadata": {},
     "output_type": "execute_result"
    }
   ],
   "source": [
    "s_name"
   ]
  },
  {
   "cell_type": "code",
   "execution_count": 11,
   "id": "456b1868",
   "metadata": {},
   "outputs": [
    {
     "data": {
      "text/plain": [
       "['rcb', 'mi', 'csk']"
      ]
     },
     "execution_count": 11,
     "metadata": {},
     "output_type": "execute_result"
    }
   ],
   "source": [
    "c_name"
   ]
  },
  {
   "cell_type": "code",
   "execution_count": 12,
   "id": "022a0c64",
   "metadata": {},
   "outputs": [
    {
     "data": {
      "text/plain": [
       "[62, 23, 13, 71, 71, 72, 60]"
      ]
     },
     "execution_count": 12,
     "metadata": {},
     "output_type": "execute_result"
    }
   ],
   "source": [
    "# q10) get the 7 random numbers in a list between 1 to 100\n",
    "#      find the min and max value with out using min and max function\n",
    "\n",
    "import random\n",
    "\n",
    "l=[]\n",
    "for i in range(7):\n",
    "    num=random.randint(1,100)\n",
    "    l.append(num)\n",
    "\n",
    "l"
   ]
  },
  {
   "cell_type": "code",
   "execution_count": 13,
   "id": "86fcd218",
   "metadata": {},
   "outputs": [
    {
     "name": "stdout",
     "output_type": "stream",
     "text": [
      "['can', 'canner', 'can', 'not', 'can', 'you', 'canner', 'can', 'be', 'can', 'you', 'can', 'not']\n",
      "can 6\n",
      "canner 2\n",
      "not 2\n",
      "you 2\n",
      "be 1\n"
     ]
    }
   ],
   "source": [
    "# q11) str1='can canner can not can you canner can be can you can not'\n",
    "#      list=['can-6','canner-2','not-2','you-2','be-1']\n",
    "\n",
    "str1='can canner can not can you canner can be can you can not'\n",
    "l=str1.split()\n",
    "print(l)\n",
    "\n",
    "l2=[]\n",
    "for i in l:\n",
    "    if i not in l2:\n",
    "        print(i,l.count(i))\n",
    "        l2.append(i)"
   ]
  },
  {
   "cell_type": "code",
   "execution_count": 15,
   "id": "55a3cf23",
   "metadata": {},
   "outputs": [
    {
     "name": "stdout",
     "output_type": "stream",
     "text": [
      "who is pm of india: modi\n",
      "who is ICT captain: rohit\n",
      "what is the capital of india: delhi\n",
      "The total correct answers: 3\n"
     ]
    }
   ],
   "source": [
    "# Question-12\n",
    "qns= ['who is pm of india: ','who is ICT captain: ','what is the capital of india: ']\n",
    "ans=['modi','rohit','delhi']\n",
    "count=0\n",
    "for i in range(len(qns)):\n",
    "    ANSWER=input(qns[i])\n",
    "    if ANSWER.lower()==ans[i].lower():\n",
    "        count=count+1\n",
    "print(\"The total correct answers:\",count)"
   ]
  },
  {
   "cell_type": "code",
   "execution_count": null,
   "id": "6308b1dc",
   "metadata": {},
   "outputs": [],
   "source": []
  }
 ],
 "metadata": {
  "kernelspec": {
   "display_name": "Python 3 (ipykernel)",
   "language": "python",
   "name": "python3"
  },
  "language_info": {
   "codemirror_mode": {
    "name": "ipython",
    "version": 3
   },
   "file_extension": ".py",
   "mimetype": "text/x-python",
   "name": "python",
   "nbconvert_exporter": "python",
   "pygments_lexer": "ipython3",
   "version": "3.11.5"
  }
 },
 "nbformat": 4,
 "nbformat_minor": 5
}
