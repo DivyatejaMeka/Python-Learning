{
 "cells": [
  {
   "cell_type": "code",
   "execution_count": 1,
   "id": "8b476d6e",
   "metadata": {},
   "outputs": [
    {
     "name": "stdout",
     "output_type": "stream",
     "text": [
      "2\n",
      "2\n"
     ]
    }
   ],
   "source": [
    "# 1. count\n",
    "print(\"hello\".count(\"l\"))  \n",
    "print([1, 2, 2, 3].count(2)) "
   ]
  },
  {
   "cell_type": "code",
   "execution_count": 2,
   "id": "3977d4e0",
   "metadata": {},
   "outputs": [
    {
     "name": "stdout",
     "output_type": "stream",
     "text": [
      "2\n",
      "1\n"
     ]
    }
   ],
   "source": [
    "# 2. index\n",
    "print(\"hello\".index(\"l\"))  \n",
    "print([1, 2, 3].index(2))"
   ]
  },
  {
   "cell_type": "code",
   "execution_count": 3,
   "id": "7b0bf16a",
   "metadata": {},
   "outputs": [
    {
     "name": "stdout",
     "output_type": "stream",
     "text": [
      "2\n"
     ]
    }
   ],
   "source": [
    "# 3. find (only in strings)\n",
    "print(\"hello\".find(\"l\"))  \n"
   ]
  },
  {
   "cell_type": "code",
   "execution_count": 4,
   "id": "70089990",
   "metadata": {},
   "outputs": [
    {
     "name": "stdout",
     "output_type": "stream",
     "text": [
      "2\n",
      "[1, 3]\n",
      "1\n",
      "{'b': 2}\n"
     ]
    }
   ],
   "source": [
    "# 4. pop\n",
    "lst = [1, 2, 3]\n",
    "print(lst.pop(1)) \n",
    "print(lst)  \n",
    "\n",
    "d = {\"a\": 1, \"b\": 2}\n",
    "print(d.pop(\"a\")) \n",
    "print(d)  \n"
   ]
  },
  {
   "cell_type": "code",
   "execution_count": 5,
   "id": "598caa32",
   "metadata": {},
   "outputs": [
    {
     "name": "stdout",
     "output_type": "stream",
     "text": [
      "[1, 3]\n"
     ]
    }
   ],
   "source": [
    "# 5. remove\n",
    "lst = [1, 2, 3]\n",
    "lst.remove(2) \n",
    "print(lst)  \n"
   ]
  },
  {
   "cell_type": "code",
   "execution_count": 6,
   "id": "9b76638f",
   "metadata": {},
   "outputs": [
    {
     "name": "stdout",
     "output_type": "stream",
     "text": [
      "[1, 2, 3, 4]\n",
      "[1, 2, 3, 4]\n"
     ]
    }
   ],
   "source": [
    "# 6. concatenation vs extend\n",
    "lst1 = [1, 2]\n",
    "lst2 = [3, 4]\n",
    "print(lst1 + lst2)  \n",
    "lst1.extend(lst2)\n",
    "print(lst1)  \n"
   ]
  },
  {
   "cell_type": "code",
   "execution_count": 7,
   "id": "4d87755f",
   "metadata": {},
   "outputs": [
    {
     "name": "stdout",
     "output_type": "stream",
     "text": [
      "1\n",
      "2\n"
     ]
    }
   ],
   "source": [
    "# 7. Access value using key\n",
    "d = {\"a\": 1, \"b\": 2}\n",
    "print(d[\"a\"]) \n",
    "print(d.get(\"b\")) \n"
   ]
  },
  {
   "cell_type": "code",
   "execution_count": 8,
   "id": "f7cce9a5",
   "metadata": {},
   "outputs": [
    {
     "name": "stdout",
     "output_type": "stream",
     "text": [
      "[1, 3]\n",
      "{'b': 2}\n"
     ]
    }
   ],
   "source": [
    "# 8. del for list and dictionary\n",
    "lst = [1, 2, 3]\n",
    "del lst[1] \n",
    "print(lst)  \n",
    "\n",
    "d = {\"a\": 1, \"b\": 2}\n",
    "del d[\"a\"]  \n",
    "print(d)  \n"
   ]
  },
  {
   "cell_type": "code",
   "execution_count": 9,
   "id": "9cd30763",
   "metadata": {},
   "outputs": [
    {
     "name": "stdout",
     "output_type": "stream",
     "text": [
      "['a', 'b', 'c']\n",
      "[1, 2, 3]\n",
      "[3, 2, 1]\n"
     ]
    }
   ],
   "source": [
    "# 9. sorted and reversed\n",
    "print(sorted(\"cba\"))  \n",
    "print(sorted([3, 1, 2]))  \n",
    "print(list(reversed([1, 2, 3])))  \n"
   ]
  },
  {
   "cell_type": "code",
   "execution_count": 10,
   "id": "d450af95",
   "metadata": {},
   "outputs": [
    {
     "name": "stdout",
     "output_type": "stream",
     "text": [
      "['h', 'e', 'l', 'l', 'o']\n"
     ]
    }
   ],
   "source": [
    "# 10. strings to list\n",
    "s = \"hello\"\n",
    "print(list(s))  \n"
   ]
  },
  {
   "cell_type": "code",
   "execution_count": 11,
   "id": "bf08cb92",
   "metadata": {},
   "outputs": [
    {
     "name": "stdout",
     "output_type": "stream",
     "text": [
      "hello\n"
     ]
    }
   ],
   "source": [
    "# 11. list to strings\n",
    "lst = ['h', 'e', 'l', 'l', 'o']\n",
    "print(\"\".join(lst)) \n"
   ]
  },
  {
   "cell_type": "code",
   "execution_count": 12,
   "id": "359440ee",
   "metadata": {},
   "outputs": [
    {
     "name": "stdout",
     "output_type": "stream",
     "text": [
      "{'a': 1, 'b': 2}\n"
     ]
    }
   ],
   "source": [
    "# 12. list to dictionary\n",
    "lst = [(\"a\", 1), (\"b\", 2)]\n",
    "print(dict(lst)) \n"
   ]
  },
  {
   "cell_type": "code",
   "execution_count": 13,
   "id": "714f18e9",
   "metadata": {},
   "outputs": [
    {
     "name": "stdout",
     "output_type": "stream",
     "text": [
      "[('a', 1), ('b', 2)]\n"
     ]
    }
   ],
   "source": [
    "# 13. dictionary to list\n",
    "d = {\"a\": 1, \"b\": 2}\n",
    "print(list(d.items()))  "
   ]
  },
  {
   "cell_type": "code",
   "execution_count": null,
   "id": "b0c812a5",
   "metadata": {},
   "outputs": [],
   "source": []
  }
 ],
 "metadata": {
  "kernelspec": {
   "display_name": "Python 3 (ipykernel)",
   "language": "python",
   "name": "python3"
  },
  "language_info": {
   "codemirror_mode": {
    "name": "ipython",
    "version": 3
   },
   "file_extension": ".py",
   "mimetype": "text/x-python",
   "name": "python",
   "nbconvert_exporter": "python",
   "pygments_lexer": "ipython3",
   "version": "3.11.5"
  }
 },
 "nbformat": 4,
 "nbformat_minor": 5
}
