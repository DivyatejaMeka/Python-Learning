{
 "cells": [
  {
   "cell_type": "code",
   "execution_count": 1,
   "id": "634dd95a",
   "metadata": {},
   "outputs": [
    {
     "name": "stdout",
     "output_type": "stream",
     "text": [
      "1\n"
     ]
    }
   ],
   "source": [
    "# Question-1\n",
    "string = 'hello how are you'\n",
    "count_a = sum(1 for char in string if char == 'a')\n",
    "print(count_a)"
   ]
  },
  {
   "cell_type": "code",
   "execution_count": 2,
   "id": "0d815953",
   "metadata": {},
   "outputs": [
    {
     "name": "stdout",
     "output_type": "stream",
     "text": [
      "1\n"
     ]
    }
   ],
   "source": [
    "# Question-2\n",
    "string = 'hello how are you'\n",
    "count_a = sum(1 for i in range(len(string)) if string[i] == 'a')\n",
    "print(count_a)"
   ]
  },
  {
   "cell_type": "code",
   "execution_count": 3,
   "id": "e068ca1d",
   "metadata": {},
   "outputs": [
    {
     "name": "stdout",
     "output_type": "stream",
     "text": [
      "[10]\n"
     ]
    }
   ],
   "source": [
    "# Question-3\n",
    "string = 'hello how are you'\n",
    "indices = [i for i, char in enumerate(string) if char == 'a']\n",
    "print(indices)"
   ]
  },
  {
   "cell_type": "code",
   "execution_count": 4,
   "id": "d6d17a6d",
   "metadata": {},
   "outputs": [
    {
     "name": "stdout",
     "output_type": "stream",
     "text": [
      "10\n"
     ]
    }
   ],
   "source": [
    "# Question-4\n",
    "string = 'hello how are you'\n",
    "indices_sum = sum(i for i, char in enumerate(string) if char == 'a')\n",
    "print(indices_sum)"
   ]
  },
  {
   "cell_type": "code",
   "execution_count": 5,
   "id": "5c2421d1",
   "metadata": {},
   "outputs": [
    {
     "name": "stdout",
     "output_type": "stream",
     "text": [
      "7\n"
     ]
    }
   ],
   "source": [
    "# Question-5\n",
    "string = 'hello how are you'\n",
    "vowels = 'aeiou'\n",
    "count_vowels = sum(1 for char in string if char in vowels)\n",
    "print(count_vowels)"
   ]
  },
  {
   "cell_type": "code",
   "execution_count": 6,
   "id": "adf858ff",
   "metadata": {},
   "outputs": [
    {
     "name": "stdout",
     "output_type": "stream",
     "text": [
      "7\n"
     ]
    }
   ],
   "source": [
    "# Question-6\n",
    "string = 'hello how are you'\n",
    "vowels = 'aeiou'\n",
    "count_vowels = sum(1 for i in range(len(string)) if string[i] in vowels)\n",
    "print(count_vowels)"
   ]
  },
  {
   "cell_type": "code",
   "execution_count": 7,
   "id": "43cbbb39",
   "metadata": {},
   "outputs": [
    {
     "name": "stdout",
     "output_type": "stream",
     "text": [
      "4\n"
     ]
    }
   ],
   "source": [
    "# Question-7\n",
    "string = 'hello how are you'\n",
    "vowels = 'aeiou'\n",
    "non_repeated_vowels = len(set(char for char in string if char in vowels))\n",
    "print(non_repeated_vowels)"
   ]
  },
  {
   "cell_type": "code",
   "execution_count": 8,
   "id": "57c297de",
   "metadata": {},
   "outputs": [
    {
     "name": "stdout",
     "output_type": "stream",
     "text": [
      "4\n"
     ]
    }
   ],
   "source": [
    "# Question-8\n",
    "string = 'hello how are you'\n",
    "vowels = 'aeiou'\n",
    "non_repeated_vowels = len(set(string[i] for i in range(len(string)) if string[i] in vowels))\n",
    "print(non_repeated_vowels)"
   ]
  },
  {
   "cell_type": "code",
   "execution_count": 9,
   "id": "97c40410",
   "metadata": {},
   "outputs": [
    {
     "name": "stdout",
     "output_type": "stream",
     "text": [
      "Positive Index: 0, Negative Index: -17, Character: h\n",
      "Positive Index: 1, Negative Index: -16, Character: e\n",
      "Positive Index: 2, Negative Index: -15, Character: l\n",
      "Positive Index: 3, Negative Index: -14, Character: l\n",
      "Positive Index: 4, Negative Index: -13, Character: o\n",
      "Positive Index: 5, Negative Index: -12, Character:  \n",
      "Positive Index: 6, Negative Index: -11, Character: h\n",
      "Positive Index: 7, Negative Index: -10, Character: o\n",
      "Positive Index: 8, Negative Index: -9, Character: w\n",
      "Positive Index: 9, Negative Index: -8, Character:  \n",
      "Positive Index: 10, Negative Index: -7, Character: a\n",
      "Positive Index: 11, Negative Index: -6, Character: r\n",
      "Positive Index: 12, Negative Index: -5, Character: e\n",
      "Positive Index: 13, Negative Index: -4, Character:  \n",
      "Positive Index: 14, Negative Index: -3, Character: y\n",
      "Positive Index: 15, Negative Index: -2, Character: o\n",
      "Positive Index: 16, Negative Index: -1, Character: u\n"
     ]
    }
   ],
   "source": [
    "# Question-9\n",
    "string = 'hello how are you'\n",
    "for i in range(len(string)):\n",
    "    print(f\"Positive Index: {i}, Negative Index: {i - len(string)}, Character: {string[i]}\")"
   ]
  },
  {
   "cell_type": "code",
   "execution_count": 10,
   "id": "185d8e2c",
   "metadata": {},
   "outputs": [
    {
     "name": "stdout",
     "output_type": "stream",
     "text": [
      "Positive Index: 0, Negative Index: -17, Character: h\n",
      "Positive Index: 1, Negative Index: -16, Character: e\n",
      "Positive Index: 2, Negative Index: -15, Character: l\n",
      "Positive Index: 3, Negative Index: -14, Character: l\n",
      "Positive Index: 4, Negative Index: -13, Character: o\n",
      "Positive Index: 5, Negative Index: -12, Character:  \n",
      "Positive Index: 6, Negative Index: -11, Character: h\n",
      "Positive Index: 7, Negative Index: -10, Character: o\n",
      "Positive Index: 8, Negative Index: -9, Character: w\n",
      "Positive Index: 9, Negative Index: -8, Character:  \n",
      "Positive Index: 10, Negative Index: -7, Character: a\n",
      "Positive Index: 11, Negative Index: -6, Character: r\n",
      "Positive Index: 12, Negative Index: -5, Character: e\n",
      "Positive Index: 13, Negative Index: -4, Character:  \n",
      "Positive Index: 14, Negative Index: -3, Character: y\n",
      "Positive Index: 15, Negative Index: -2, Character: o\n",
      "Positive Index: 16, Negative Index: -1, Character: u\n"
     ]
    }
   ],
   "source": [
    "# Question-10\n",
    "string = 'hello how are you'\n",
    "i = 0\n",
    "while i < len(string):\n",
    "    print(f\"Positive Index: {i}, Negative Index: {i - len(string)}, Character: {string[i]}\")\n",
    "    i += 1"
   ]
  },
  {
   "cell_type": "code",
   "execution_count": null,
   "id": "e964cc93",
   "metadata": {},
   "outputs": [],
   "source": []
  }
 ],
 "metadata": {
  "kernelspec": {
   "display_name": "Python 3 (ipykernel)",
   "language": "python",
   "name": "python3"
  },
  "language_info": {
   "codemirror_mode": {
    "name": "ipython",
    "version": 3
   },
   "file_extension": ".py",
   "mimetype": "text/x-python",
   "name": "python",
   "nbconvert_exporter": "python",
   "pygments_lexer": "ipython3",
   "version": "3.11.5"
  }
 },
 "nbformat": 4,
 "nbformat_minor": 5
}
