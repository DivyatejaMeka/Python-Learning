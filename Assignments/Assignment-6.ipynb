{
 "cells": [
  {
   "cell_type": "code",
   "execution_count": 1,
   "id": "5b3ee441",
   "metadata": {},
   "outputs": [
    {
     "name": "stdout",
     "output_type": "stream",
     "text": [
      "Enter number 1: 2\n",
      "The square of 2 is 4\n",
      "Enter number 2: 13\n",
      "The square of 13 is 169\n",
      "Enter number 3: 55\n",
      "The square of 55 is 3025\n",
      "Enter number 4: 11\n",
      "The square of 11 is 121\n",
      "Enter number 5: 15\n",
      "The square of 15 is 225\n"
     ]
    }
   ],
   "source": [
    "# Question-1\n",
    "i = 1\n",
    "while i <= 5:\n",
    "    num = int(input(f\"Enter number {i}: \"))\n",
    "    print(f\"The square of {num} is {num ** 2}\")\n",
    "    i += 1"
   ]
  },
  {
   "cell_type": "code",
   "execution_count": 2,
   "id": "5d954170",
   "metadata": {},
   "outputs": [
    {
     "name": "stdout",
     "output_type": "stream",
     "text": [
      "Enter number 1: 5\n",
      "5 is an odd number.\n",
      "Enter number 2: 2\n",
      "2 is an even number.\n",
      "Enter number 3: 3\n",
      "3 is an odd number.\n",
      "Enter number 4: 4\n",
      "4 is an even number.\n",
      "Enter number 5: 6\n",
      "6 is an even number.\n"
     ]
    }
   ],
   "source": [
    "# Question-2\n",
    "i = 1\n",
    "while i <= 5:\n",
    "    num = int(input(f\"Enter number {i}: \"))\n",
    "    if num % 2 == 0:\n",
    "        print(f\"{num} is an even number.\")\n",
    "    else:\n",
    "        print(f\"{num} is an odd number.\")\n",
    "    i += 1"
   ]
  },
  {
   "cell_type": "code",
   "execution_count": 3,
   "id": "bea1d66d",
   "metadata": {},
   "outputs": [
    {
     "name": "stdout",
     "output_type": "stream",
     "text": [
      "7 x 1 = 7\n",
      "7 x 2 = 14\n",
      "7 x 3 = 21\n",
      "7 x 4 = 28\n",
      "7 x 5 = 35\n",
      "7 x 6 = 42\n",
      "7 x 7 = 49\n",
      "7 x 8 = 56\n",
      "7 x 9 = 63\n",
      "7 x 10 = 70\n"
     ]
    }
   ],
   "source": [
    "# Question-3\n",
    "i = 1\n",
    "while i <= 10:\n",
    "    print(f\"7 x {i} = {7 * i}\")\n",
    "    i += 1"
   ]
  },
  {
   "cell_type": "code",
   "execution_count": 4,
   "id": "19277d7f",
   "metadata": {},
   "outputs": [
    {
     "name": "stdout",
     "output_type": "stream",
     "text": [
      "Enter a number to find its divisors: 6\n",
      "Divisors of 6: 1, 2, 3, 6\n"
     ]
    }
   ],
   "source": [
    "# Question-4\n",
    "num = int(input(\"Enter a number to find its divisors: \"))\n",
    "i = 1\n",
    "print(f\"Divisors of {num}: \", end=\"\")\n",
    "while i <= num:\n",
    "    if num % i == 0:\n",
    "        print(i, end=\", \")\n",
    "    i += 1\n",
    "print(\"\\b\\b\")  "
   ]
  },
  {
   "cell_type": "code",
   "execution_count": 5,
   "id": "a48bf23d",
   "metadata": {},
   "outputs": [
    {
     "name": "stdout",
     "output_type": "stream",
     "text": [
      "1 + 2 + 3 + 4 + 5 + 6 + 7 + 8 + 9 + 10 = 55\n"
     ]
    }
   ],
   "source": [
    "# Question-5\n",
    "i = 1\n",
    "total = 0\n",
    "while i <= 10:\n",
    "    total += i\n",
    "    i += 1\n",
    "print(\"1 + 2 + 3 + 4 + 5 + 6 + 7 + 8 + 9 + 10 =\", total)"
   ]
  },
  {
   "cell_type": "code",
   "execution_count": 6,
   "id": "dc170c5a",
   "metadata": {},
   "outputs": [
    {
     "name": "stdout",
     "output_type": "stream",
     "text": [
      "Enter a number to find the count of its divisors: 33\n",
      "The number 33 has 4 divisors.\n"
     ]
    }
   ],
   "source": [
    "# Question-6\n",
    "num = int(input(\"Enter a number to find the count of its divisors: \"))\n",
    "i = 1\n",
    "count = 0\n",
    "while i <= num:\n",
    "    if num % i == 0:\n",
    "        count += 1\n",
    "    i += 1\n",
    "print(f\"The number {num} has {count} divisors.\")"
   ]
  },
  {
   "cell_type": "code",
   "execution_count": 7,
   "id": "f942a35f",
   "metadata": {},
   "outputs": [
    {
     "name": "stdout",
     "output_type": "stream",
     "text": [
      "Enter number 1: 5\n",
      "Enter number 2: 8\n",
      "Enter number 3: 9\n",
      "Enter number 4: 7\n",
      "Enter number 5: 1\n",
      "Count of even numbers: 1\n",
      "Count of odd numbers: 4\n"
     ]
    }
   ],
   "source": [
    "# Question-7\n",
    "even_count = 0\n",
    "odd_count = 0\n",
    "i = 1\n",
    "\n",
    "while i <= 5:\n",
    "    num = int(input(f\"Enter number {i}: \"))\n",
    "    if num % 2 == 0:\n",
    "        even_count += 1\n",
    "    else:\n",
    "        odd_count += 1\n",
    "    i += 1\n",
    "\n",
    "print(f\"Count of even numbers: {even_count}\")\n",
    "print(f\"Count of odd numbers: {odd_count}\")"
   ]
  },
  {
   "cell_type": "code",
   "execution_count": null,
   "id": "724e7585",
   "metadata": {},
   "outputs": [],
   "source": []
  }
 ],
 "metadata": {
  "kernelspec": {
   "display_name": "Python 3 (ipykernel)",
   "language": "python",
   "name": "python3"
  },
  "language_info": {
   "codemirror_mode": {
    "name": "ipython",
    "version": 3
   },
   "file_extension": ".py",
   "mimetype": "text/x-python",
   "name": "python",
   "nbconvert_exporter": "python",
   "pygments_lexer": "ipython3",
   "version": "3.11.5"
  }
 },
 "nbformat": 4,
 "nbformat_minor": 5
}
