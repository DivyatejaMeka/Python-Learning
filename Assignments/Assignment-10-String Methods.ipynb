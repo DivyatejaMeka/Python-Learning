{
 "cells": [
  {
   "cell_type": "code",
   "execution_count": 2,
   "id": "38e23dff",
   "metadata": {},
   "outputs": [
    {
     "name": "stdout",
     "output_type": "stream",
     "text": [
      "True\n",
      "False\n"
     ]
    }
   ],
   "source": [
    "# isalnum\n",
    "s = \"Hello123\"\n",
    "print(s.isalnum())  # True\n",
    "\n",
    "s = \"Hello 123\"\n",
    "print(s.isalnum())  # False (space is not alphanumeric)\n"
   ]
  },
  {
   "cell_type": "code",
   "execution_count": 3,
   "id": "c0697752",
   "metadata": {},
   "outputs": [
    {
     "name": "stdout",
     "output_type": "stream",
     "text": [
      "True\n",
      "False\n"
     ]
    }
   ],
   "source": [
    "# isalpha\n",
    "s = \"Hello\"\n",
    "print(s.isalpha())  # True\n",
    "\n",
    "s = \"Hello123\"\n",
    "print(s.isalpha())  # False (contains numbers)"
   ]
  },
  {
   "cell_type": "code",
   "execution_count": 4,
   "id": "7dcf5a45",
   "metadata": {},
   "outputs": [
    {
     "name": "stdout",
     "output_type": "stream",
     "text": [
      "True\n",
      "False\n"
     ]
    }
   ],
   "source": [
    "# isascii\n",
    "s = \"Hello!\"\n",
    "print(s.isascii())  # True\n",
    "\n",
    "s = \"Héllo\"\n",
    "print(s.isascii())  # False (é is not an ASCII character)"
   ]
  },
  {
   "cell_type": "code",
   "execution_count": 5,
   "id": "e1b1f8d8",
   "metadata": {},
   "outputs": [
    {
     "name": "stdout",
     "output_type": "stream",
     "text": [
      "True\n",
      "False\n"
     ]
    }
   ],
   "source": [
    "# isdecimal\n",
    "s = \"123\"\n",
    "print(s.isdecimal())  # True\n",
    "\n",
    "s = \"123.45\"\n",
    "print(s.isdecimal())  # False (contains a dot)"
   ]
  },
  {
   "cell_type": "code",
   "execution_count": 6,
   "id": "40e6420f",
   "metadata": {},
   "outputs": [
    {
     "name": "stdout",
     "output_type": "stream",
     "text": [
      "True\n",
      "True\n"
     ]
    }
   ],
   "source": [
    "# isdigit\n",
    "s = \"123\"\n",
    "print(s.isdigit())  # True\n",
    "\n",
    "s = \"²\"\n",
    "print(s.isdigit())  # True (superscript two is a Unicode digit)"
   ]
  },
  {
   "cell_type": "code",
   "execution_count": 7,
   "id": "fe7b1659",
   "metadata": {},
   "outputs": [
    {
     "name": "stdout",
     "output_type": "stream",
     "text": [
      "True\n",
      "False\n"
     ]
    }
   ],
   "source": [
    "# isidentifier\n",
    "s = \"variable\"\n",
    "print(s.isidentifier())  # True\n",
    "\n",
    "s = \"123variable\"\n",
    "print(s.isidentifier())  # False (cannot start with a digit)"
   ]
  },
  {
   "cell_type": "code",
   "execution_count": 8,
   "id": "e6a382ce",
   "metadata": {},
   "outputs": [
    {
     "name": "stdout",
     "output_type": "stream",
     "text": [
      "True\n",
      "False\n"
     ]
    }
   ],
   "source": [
    "# islower\n",
    "s = \"hello\"\n",
    "print(s.islower())  # True\n",
    "\n",
    "s = \"Hello\"\n",
    "print(s.islower())  # False"
   ]
  },
  {
   "cell_type": "code",
   "execution_count": 9,
   "id": "9adddbc4",
   "metadata": {},
   "outputs": [
    {
     "name": "stdout",
     "output_type": "stream",
     "text": [
      "True\n",
      "True\n"
     ]
    }
   ],
   "source": [
    "# isnumeric\n",
    "s = \"123\"\n",
    "print(s.isnumeric())  # True\n",
    "\n",
    "s = \"½\"\n",
    "print(s.isnumeric())  # True (fractional one-half is numeric)"
   ]
  },
  {
   "cell_type": "code",
   "execution_count": 10,
   "id": "83769dc0",
   "metadata": {},
   "outputs": [
    {
     "name": "stdout",
     "output_type": "stream",
     "text": [
      "True\n",
      "False\n"
     ]
    }
   ],
   "source": [
    "# isprintable\n",
    "s = \"Hello World!\"\n",
    "print(s.isprintable())  # True\n",
    "\n",
    "s = \"Hello\\nWorld!\"\n",
    "print(s.isprintable())  # False"
   ]
  },
  {
   "cell_type": "code",
   "execution_count": 11,
   "id": "0cb24b8d",
   "metadata": {},
   "outputs": [
    {
     "name": "stdout",
     "output_type": "stream",
     "text": [
      "True\n",
      "False\n"
     ]
    }
   ],
   "source": [
    "# isspace\n",
    "s = \"   \"\n",
    "print(s.isspace())  # True\n",
    "\n",
    "s = \"Hello World\"\n",
    "print(s.isspace())  # False"
   ]
  },
  {
   "cell_type": "code",
   "execution_count": 12,
   "id": "82481a32",
   "metadata": {},
   "outputs": [
    {
     "name": "stdout",
     "output_type": "stream",
     "text": [
      "True\n",
      "False\n"
     ]
    }
   ],
   "source": [
    "# istitle\n",
    "s = \"Hello World\"\n",
    "print(s.istitle())  # True\n",
    "\n",
    "s = \"hello World\"\n",
    "print(s.istitle())  # False"
   ]
  },
  {
   "cell_type": "code",
   "execution_count": 13,
   "id": "eb174180",
   "metadata": {},
   "outputs": [
    {
     "name": "stdout",
     "output_type": "stream",
     "text": [
      "True\n",
      "False\n"
     ]
    }
   ],
   "source": [
    "# isupper\n",
    "s = \"HELLO\"\n",
    "print(s.isupper())  # True\n",
    "\n",
    "s = \"Hello\"\n",
    "print(s.isupper())  # False"
   ]
  },
  {
   "cell_type": "code",
   "execution_count": null,
   "id": "c35b6c3a",
   "metadata": {},
   "outputs": [],
   "source": []
  }
 ],
 "metadata": {
  "kernelspec": {
   "display_name": "Python 3 (ipykernel)",
   "language": "python",
   "name": "python3"
  },
  "language_info": {
   "codemirror_mode": {
    "name": "ipython",
    "version": 3
   },
   "file_extension": ".py",
   "mimetype": "text/x-python",
   "name": "python",
   "nbconvert_exporter": "python",
   "pygments_lexer": "ipython3",
   "version": "3.11.5"
  }
 },
 "nbformat": 4,
 "nbformat_minor": 5
}
