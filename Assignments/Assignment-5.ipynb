{
 "cells": [
  {
   "cell_type": "code",
   "execution_count": 1,
   "id": "5b5b9e26",
   "metadata": {},
   "outputs": [
    {
     "name": "stdout",
     "output_type": "stream",
     "text": [
      "Enter a length in centimeters: 50\n",
      "The length in inches is: 19.69\n"
     ]
    }
   ],
   "source": [
    "# Question-1\n",
    "# Prompt the user to enter a length in centimeters\n",
    "length_cm = float(input(\"Enter a length in centimeters: \"))\n",
    "\n",
    "# Check if the entered length is negative\n",
    "if length_cm < 0:\n",
    "    print(\"Invalid entry. Length cannot be negative.\")\n",
    "else:\n",
    "    # Convert the length to inches (1 inch = 2.54 cm)\n",
    "    length_inches = length_cm / 2.54\n",
    "    print(f\"The length in inches is: {length_inches:.2f}\")\n"
   ]
  },
  {
   "cell_type": "code",
   "execution_count": 2,
   "id": "0846074a",
   "metadata": {},
   "outputs": [
    {
     "name": "stdout",
     "output_type": "stream",
     "text": [
      "Enter the temperature: 50\n",
      "Is the temperature in Celsius or Fahrenheit? (C/F): c\n",
      "The temperature in Fahrenheit is: 122.00 °F\n"
     ]
    }
   ],
   "source": [
    "# Question-2\n",
    "# Ask the user for a temperature\n",
    "temperature = float(input(\"Enter the temperature: \"))\n",
    "\n",
    "# Ask the user for the unit of the temperature\n",
    "unit = input(\"Is the temperature in Celsius or Fahrenheit? (C/F): \").strip().upper()\n",
    "\n",
    "# Perform the conversion based on the unit\n",
    "if unit == \"C\":\n",
    "    # Convert Celsius to Fahrenheit\n",
    "    fahrenheit = (9 / 5) * temperature + 32\n",
    "    print(f\"The temperature in Fahrenheit is: {fahrenheit:.2f} °F\")\n",
    "elif unit == \"F\":\n",
    "    # Convert Fahrenheit to Celsius\n",
    "    celsius = (5 / 9) * (temperature - 32)\n",
    "    print(f\"The temperature in Celsius is: {celsius:.2f} °C\")\n",
    "else:\n",
    "    print(\"Invalid unit. Please enter 'C' for Celsius or 'F' for Fahrenheit.\")\n"
   ]
  },
  {
   "cell_type": "code",
   "execution_count": 3,
   "id": "7b2c8e9f",
   "metadata": {},
   "outputs": [
    {
     "name": "stdout",
     "output_type": "stream",
     "text": [
      "Enter a temperature in Celsius: 30\n",
      "The temperature is in the normal range.\n"
     ]
    }
   ],
   "source": [
    "# Question-3\n",
    "# Ask the user to enter a temperature in Celsius\n",
    "temperature = float(input(\"Enter a temperature in Celsius: \"))\n",
    "\n",
    "# Determine the message based on the temperature\n",
    "if temperature < -273.15:\n",
    "    print(\"The temperature is invalid because it is below absolute zero.\")\n",
    "elif temperature == -273.15:\n",
    "    print(\"The temperature is absolute zero.\")\n",
    "elif -273.15 < temperature < 0:\n",
    "    print(\"The temperature is below freezing.\")\n",
    "elif temperature == 0:\n",
    "    print(\"The temperature is at the freezing point.\")\n",
    "elif 0 < temperature < 100:\n",
    "    print(\"The temperature is in the normal range.\")\n",
    "elif temperature == 100:\n",
    "    print(\"The temperature is at the boiling point.\")\n",
    "else:  # temperature > 100\n",
    "    print(\"The temperature is above the boiling point.\")\n"
   ]
  },
  {
   "cell_type": "code",
   "execution_count": 4,
   "id": "e4c7af43",
   "metadata": {},
   "outputs": [
    {
     "name": "stdout",
     "output_type": "stream",
     "text": [
      "Enter the number of credits you have taken: 60\n",
      "You are a junior.\n"
     ]
    }
   ],
   "source": [
    "# Question-4\n",
    "# Ask the user how many credits they have taken\n",
    "credits = int(input(\"Enter the number of credits you have taken: \"))\n",
    "\n",
    "# Determine the student's year based on the number of credits\n",
    "if credits <= 23:\n",
    "    print(\"You are a freshman.\")\n",
    "elif 24 <= credits <= 53:\n",
    "    print(\"You are a sophomore.\")\n",
    "elif 54 <= credits <= 83:\n",
    "    print(\"You are a junior.\")\n",
    "else:  # credits >= 84\n",
    "    print(\"You are a senior.\")\n"
   ]
  },
  {
   "cell_type": "code",
   "execution_count": 5,
   "id": "e95337f4",
   "metadata": {},
   "outputs": [
    {
     "name": "stdout",
     "output_type": "stream",
     "text": [
      "Guess a number between 1 and 10: 6\n",
      "Sorry, the correct number was 8. Better luck next time!\n"
     ]
    }
   ],
   "source": [
    "# Question-5\n",
    "import random\n",
    "\n",
    "# Generate a random number between 1 and 10\n",
    "random_number = random.randint(1, 10)\n",
    "\n",
    "# Ask the user to guess the number\n",
    "user_guess = int(input(\"Guess a number between 1 and 10: \"))\n",
    "\n",
    "# Check if the user's guess is correct\n",
    "if user_guess == random_number:\n",
    "    print(\"Congratulations! You guessed it right!\")\n",
    "else:\n",
    "    print(f\"Sorry, the correct number was {random_number}. Better luck next time!\")\n"
   ]
  },
  {
   "cell_type": "code",
   "execution_count": 6,
   "id": "af246ff0",
   "metadata": {},
   "outputs": [
    {
     "name": "stdout",
     "output_type": "stream",
     "text": [
      "Enter the number of items you are buying: 8\n",
      "The total cost is: $96\n"
     ]
    }
   ],
   "source": [
    "# Question-6\n",
    "# Ask the user how many items they are buying\n",
    "num_items = int(input(\"Enter the number of items you are buying: \"))\n",
    "\n",
    "# Determine the cost per item based on the number of items\n",
    "if num_items < 10:\n",
    "    cost_per_item = 12\n",
    "elif 10 <= num_items <= 99:\n",
    "    cost_per_item = 10\n",
    "else:  # num_items >= 100\n",
    "    cost_per_item = 7\n",
    "\n",
    "# Calculate the total cost\n",
    "total_cost = num_items * cost_per_item\n",
    "\n",
    "# Print the total cost\n",
    "print(f\"The total cost is: ${total_cost}\")\n"
   ]
  },
  {
   "cell_type": "code",
   "execution_count": 7,
   "id": "e2ad471f",
   "metadata": {},
   "outputs": [
    {
     "name": "stdout",
     "output_type": "stream",
     "text": [
      "Enter the first number: 8\n",
      "Enter the second number: 5\n",
      "Not close\n"
     ]
    }
   ],
   "source": [
    "# Question-7\n",
    "# Ask the user for two numbers\n",
    "num1 = float(input(\"Enter the first number: \"))\n",
    "num2 = float(input(\"Enter the second number: \"))\n",
    "\n",
    "# Check if the numbers are within 0.001 of each other\n",
    "if abs(num1 - num2) <= 0.001:\n",
    "    print(\"Close\")\n",
    "else:\n",
    "    print(\"Not close\")\n"
   ]
  },
  {
   "cell_type": "code",
   "execution_count": 8,
   "id": "e8793b8f",
   "metadata": {},
   "outputs": [
    {
     "name": "stdout",
     "output_type": "stream",
     "text": [
      "Enter a year: 2004\n",
      "2004 is a leap year.\n"
     ]
    }
   ],
   "source": [
    "# Question-8\n",
    "# Ask the user for a year\n",
    "year = int(input(\"Enter a year: \"))\n",
    "\n",
    "# Determine if the year is a leap year\n",
    "if (year % 4 == 0 and year % 100 != 0) or (year % 400 == 0):\n",
    "    print(f\"{year} is a leap year.\")\n",
    "else:\n",
    "    print(f\"{year} is not a leap year.\")\n"
   ]
  },
  {
   "cell_type": "code",
   "execution_count": 9,
   "id": "56a30275",
   "metadata": {},
   "outputs": [
    {
     "name": "stdout",
     "output_type": "stream",
     "text": [
      "Enter a number: 5\n",
      "The divisors of 5 are:\n",
      "1\n",
      "5\n"
     ]
    }
   ],
   "source": [
    "# Question-9\n",
    "# Ask the user to enter a number\n",
    "number = int(input(\"Enter a number: \"))\n",
    "\n",
    "# Print all divisors of the number\n",
    "print(f\"The divisors of {number} are:\")\n",
    "for i in range(1, number + 1):\n",
    "    if number % i == 0:\n",
    "        print(i)\n"
   ]
  },
  {
   "cell_type": "code",
   "execution_count": 10,
   "id": "46d1fdf8",
   "metadata": {},
   "outputs": [
    {
     "name": "stdout",
     "output_type": "stream",
     "text": [
      "Enter the current hour (1-12): 8\n",
      "Enter 'am' or 'pm': am\n",
      "How many hours into the future do you want to go? 20\n",
      "The time 20 hours into the future will be 4 am.\n"
     ]
    }
   ],
   "source": [
    "# Question-10\n",
    "# Ask the user for the current hour (1-12)\n",
    "current_hour = int(input(\"Enter the current hour (1-12): \"))\n",
    "\n",
    "# Ask whether it is AM or PM\n",
    "am_pm = input(\"Enter 'am' or 'pm': \").strip().lower()\n",
    "\n",
    "# Ask how many hours into the future they want to go\n",
    "hours_ahead = int(input(\"How many hours into the future do you want to go? \"))\n",
    "\n",
    "# Validate the inputs\n",
    "if not (1 <= current_hour <= 12) or am_pm not in [\"am\", \"pm\"]:\n",
    "    print(\"Invalid input. Please enter an hour between 1 and 12 and 'am' or 'pm'.\")\n",
    "else:\n",
    "    # Calculate the future hour\n",
    "    total_hours = current_hour + hours_ahead\n",
    "    future_hour = total_hours % 12\n",
    "    if future_hour == 0:\n",
    "        future_hour = 12\n",
    "\n",
    "    # Determine if it switches between AM and PM\n",
    "    am_pm_switches = (current_hour + hours_ahead) // 12\n",
    "    if am_pm_switches % 2 == 1:\n",
    "        am_pm = \"pm\" if am_pm == \"am\" else \"am\"\n",
    "\n",
    "    # Print the future hour and period\n",
    "    print(f\"The time {hours_ahead} hours into the future will be {future_hour} {am_pm}.\")\n"
   ]
  },
  {
   "cell_type": "code",
   "execution_count": null,
   "id": "68631c45",
   "metadata": {},
   "outputs": [],
   "source": []
  }
 ],
 "metadata": {
  "kernelspec": {
   "display_name": "Python 3 (ipykernel)",
   "language": "python",
   "name": "python3"
  },
  "language_info": {
   "codemirror_mode": {
    "name": "ipython",
    "version": 3
   },
   "file_extension": ".py",
   "mimetype": "text/x-python",
   "name": "python",
   "nbconvert_exporter": "python",
   "pygments_lexer": "ipython3",
   "version": "3.11.5"
  }
 },
 "nbformat": 4,
 "nbformat_minor": 5
}
