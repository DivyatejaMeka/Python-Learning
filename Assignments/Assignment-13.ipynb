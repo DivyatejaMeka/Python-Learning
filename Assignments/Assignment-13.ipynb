{
 "cells": [
  {
   "cell_type": "code",
   "execution_count": 1,
   "id": "7c2a221e",
   "metadata": {},
   "outputs": [
    {
     "name": "stdout",
     "output_type": "stream",
     "text": [
      "Enter a string: Hello how are you\n",
      "a) Total number of characters: 17\n",
      "b) String repeated 10 times: Hello how are youHello how are youHello how are youHello how are youHello how are youHello how are youHello how are youHello how are youHello how are youHello how are you\n",
      "c) First character of the string: H\n",
      "d) First three characters of the string: Hel\n",
      "e) Last three characters of the string: you\n",
      "f) String backwards: uoy era woh olleH\n",
      "g) Seventh character of the string: h\n",
      "h) String with first and last characters removed: ello how are yo\n",
      "i) String in all caps: HELLO HOW ARE YOU\n",
      "j) String with every 'a' replaced with 'e': Hello how ere you\n"
     ]
    }
   ],
   "source": [
    "# Q1)\n",
    "string = input(\"Enter a string: \")\n",
    "\n",
    "print(\"a) Total number of characters:\", len(string))\n",
    "print(\"b) String repeated 10 times:\", string * 10)\n",
    "print(\"c) First character of the string:\", string[0])\n",
    "print(\"d) First three characters of the string:\", string[:3])\n",
    "print(\"e) Last three characters of the string:\", string[-3:])\n",
    "print(\"f) String backwards:\", string[::-1])\n",
    "if len(string) >= 7:\n",
    "    print(\"g) Seventh character of the string:\", string[6])\n",
    "else:\n",
    "    print(\"g) String is not long enough.\")\n",
    "print(\"h) String with first and last characters removed:\", string[1:-1])\n",
    "print(\"i) String in all caps:\", string.upper())\n",
    "print(\"j) String with every 'a' replaced with 'e':\", string.replace('a', 'e'))"
   ]
  },
  {
   "cell_type": "code",
   "execution_count": 2,
   "id": "10bdfb27",
   "metadata": {},
   "outputs": [
    {
     "name": "stdout",
     "output_type": "stream",
     "text": [
      "Enter a string: HEya hope u are well\n",
      "Estimated number of words: 5\n"
     ]
    }
   ],
   "source": [
    "# Q2)\n",
    "text = input(\"Enter a string: \")\n",
    "word_count = text.count(' ') + 1\n",
    "print(\"Estimated number of words:\", word_count)"
   ]
  },
  {
   "cell_type": "code",
   "execution_count": 3,
   "id": "26fa0d32",
   "metadata": {},
   "outputs": [
    {
     "name": "stdout",
     "output_type": "stream",
     "text": [
      "Enter a word: Hello how are you\n",
      "The word contains vowels.\n"
     ]
    }
   ],
   "source": [
    "# Q3)\n",
    "word = input(\"Enter a word: \")\n",
    "if any(vowel in word for vowel in 'aeiouAEIOU'):\n",
    "    print(\"The word contains vowels.\")\n",
    "else:\n",
    "    print(\"The word does not contain vowels.\")"
   ]
  },
  {
   "cell_type": "code",
   "execution_count": 4,
   "id": "c80eda71",
   "metadata": {},
   "outputs": [
    {
     "name": "stdout",
     "output_type": "stream",
     "text": [
      "Enter a word: Hello how are you\n",
      "Unique vowels in the word: {'a', 'e', 'u', 'o'}\n"
     ]
    }
   ],
   "source": [
    "# Q4)\n",
    "word = input(\"Enter a word: \")\n",
    "unique_vowels = {char for char in word if char in 'aeiouAEIOU'}\n",
    "print(\"Unique vowels in the word:\", unique_vowels)"
   ]
  },
  {
   "cell_type": "code",
   "execution_count": 5,
   "id": "9c6e35a0",
   "metadata": {},
   "outputs": [
    {
     "name": "stdout",
     "output_type": "stream",
     "text": [
      "Enter your string: Welcome to python\n",
      "Output: W*lcome to python!!!\n"
     ]
    }
   ],
   "source": [
    "# Q5)\n",
    "string = input(\"Enter your string: \")\n",
    "new_string = string[:1] + '*' + string[2:] + '!!!'\n",
    "print(\"Output:\", new_string)"
   ]
  },
  {
   "cell_type": "code",
   "execution_count": 9,
   "id": "42c942c5",
   "metadata": {},
   "outputs": [
    {
     "name": "stdout",
     "output_type": "stream",
     "text": [
      "Enter a word: abcba\n",
      "The word is a palindrome.\n"
     ]
    }
   ],
   "source": [
    "# Q6)\n",
    "word = input(\"Enter a word: \")\n",
    "if word == word[::-1]:\n",
    "    print(\"The word is a palindrome.\")\n",
    "else:\n",
    "    print(\"The word is not a palindrome.\")"
   ]
  },
  {
   "cell_type": "code",
   "execution_count": 3,
   "id": "121cfcd1",
   "metadata": {},
   "outputs": [
    {
     "name": "stdout",
     "output_type": "stream",
     "text": [
      "How many email addresses will you enter? 1\n",
      "Enter email address: dadad@student.college.edu\n",
      "All addresses are student addresses.\n"
     ]
    }
   ],
   "source": [
    "# Q7)\n",
    "n = int(input(\"How many email addresses will you enter? \"))\n",
    "emails = [input(\"Enter email address: \") for _ in range(n)]\n",
    "\n",
    "if all(email.endswith('@student.college.edu') for email in emails):\n",
    "    print(\"All addresses are student addresses.\")\n",
    "else:\n",
    "    print(\"Some professor addresses were entered.\")"
   ]
  },
  {
   "cell_type": "code",
   "execution_count": 4,
   "id": "d23948a0",
   "metadata": {},
   "outputs": [
    {
     "name": "stdout",
     "output_type": "stream",
     "text": [
      "Enter a string: Hello Mawa\n",
      "HH\n",
      "ee\n",
      "ll\n",
      "ll\n",
      "oo\n",
      "  \n",
      "MM\n",
      "aa\n",
      "ww\n",
      "aa\n"
     ]
    }
   ],
   "source": [
    "# Q8)\n",
    "string = input(\"Enter a string: \")\n",
    "for char in string:\n",
    "    print(char * 2)"
   ]
  },
  {
   "cell_type": "code",
   "execution_count": 6,
   "id": "291fc208",
   "metadata": {},
   "outputs": [
    {
     "name": "stdout",
     "output_type": "stream",
     "text": [
      "Enter a word containing the letter 'a': buffalo\n",
      "buffa\n",
      "lo\n"
     ]
    }
   ],
   "source": [
    "# Q9)\n",
    "word = input(\"Enter a word containing the letter 'a': \")\n",
    "if 'a' in word:\n",
    "    index = word.index('a') + 1\n",
    "    print(word[:index])\n",
    "    print(word[index:])\n",
    "else:\n",
    "    print(\"The word does not contain the letter 'a'.\")"
   ]
  },
  {
   "cell_type": "code",
   "execution_count": 9,
   "id": "5f7bb8a8",
   "metadata": {},
   "outputs": [
    {
     "name": "stdout",
     "output_type": "stream",
     "text": [
      "Enter a word: rhinoceros\n",
      "rHiNoCeRoS\n"
     ]
    }
   ],
   "source": [
    "# Q10)\n",
    "word = input(\"Enter a word: \")\n",
    "print(''.join(char.upper() if i % 2 else char.lower() for i, char in enumerate(word)))"
   ]
  },
  {
   "cell_type": "code",
   "execution_count": 12,
   "id": "2fbdeaa8",
   "metadata": {},
   "outputs": [
    {
     "name": "stdout",
     "output_type": "stream",
     "text": [
      "Enter the first string: ababa\n",
      "Enter the second string: ABABA\n",
      "The alternated string is: aAbBaAbBaA\n"
     ]
    }
   ],
   "source": [
    "# Q11)\n",
    "str1 = input(\"Enter the first string: \")\n",
    "str2 = input(\"Enter the second string: \")\n",
    "\n",
    "if len(str1) != len(str2):\n",
    "    print(\"The strings are not of the same length. Please try again with equal-length strings.\")\n",
    "else:\n",
    "    result = ''.join(a + b for a, b in zip(str1, str2))\n",
    "    print(\"The alternated string is:\", result)"
   ]
  },
  {
   "cell_type": "code",
   "execution_count": 13,
   "id": "16e1a878",
   "metadata": {},
   "outputs": [
    {
     "name": "stdout",
     "output_type": "stream",
     "text": [
      "Enter your name in lowercase: divyateja\n",
      "Divyateja\n"
     ]
    }
   ],
   "source": [
    "# Q12)\n",
    "name = input(\"Enter your name in lowercase: \")\n",
    "print(name.title())"
   ]
  },
  {
   "cell_type": "code",
   "execution_count": 15,
   "id": "2384960a",
   "metadata": {},
   "outputs": [
    {
     "name": "stdout",
     "output_type": "stream",
     "text": [
      "Enter a string: puspha is super movie\n",
      "Enter a letter: p\n",
      "The letter is in the string.\n",
      "Enter a string: night is very beautiful\n",
      "Enter a letter: d\n",
      "The letter appears 0 times.\n",
      "Enter a string: so much for a penny'\n",
      "Enter a letter: m\n",
      "The first occurrence of the letter is at index 3.\n"
     ]
    }
   ],
   "source": [
    "# Q13)\n",
    "# a) in operator\n",
    "string = input(\"Enter a string: \")\n",
    "letter = input(\"Enter a letter: \")\n",
    "found = False\n",
    "for char in string:\n",
    "    if char == letter:\n",
    "        found = True\n",
    "        break\n",
    "print(f\"The letter {'is' if found else 'is not'} in the string.\")\n",
    "\n",
    "# b) count method\n",
    "string = input(\"Enter a string: \")\n",
    "letter = input(\"Enter a letter: \")\n",
    "count = 0\n",
    "for char in string:\n",
    "    if char == letter:\n",
    "        count += 1\n",
    "print(f\"The letter appears {count} times.\")\n",
    "\n",
    "# c) index method\n",
    "string = input(\"Enter a string: \")\n",
    "letter = input(\"Enter a letter: \")\n",
    "index = -1\n",
    "for i, char in enumerate(string):\n",
    "    if char == letter:\n",
    "        index = i\n",
    "        break\n",
    "if index == -1:\n",
    "    print(\"The letter is not in the string.\")\n",
    "else:\n",
    "    print(f\"The first occurrence of the letter is at index {index}.\")"
   ]
  },
  {
   "cell_type": "code",
   "execution_count": 17,
   "id": "94a3efee",
   "metadata": {},
   "outputs": [
    {
     "name": "stdout",
     "output_type": "stream",
     "text": [
      "Enter the formatted string: From stephen.marquard@uct.ac.za Sat Jan 5 09:14:16 2008\n",
      "Extracted substring: uct.ac.za\n"
     ]
    }
   ],
   "source": [
    "# Q14)\n",
    "line = input(\"Enter the formatted string: \")\n",
    "start = line.find('@') + 1\n",
    "end = line.find(' ', start)\n",
    "print(\"Extracted substring:\", line[start:end])"
   ]
  },
  {
   "cell_type": "code",
   "execution_count": 19,
   "id": "6e64dd0e",
   "metadata": {},
   "outputs": [
    {
     "name": "stdout",
     "output_type": "stream",
     "text": [
      "Enter a string: string\n",
      "Modified string: stringly\n"
     ]
    }
   ],
   "source": [
    "# Q15)\n",
    "string = input(\"Enter a string: \")\n",
    "if len(string) >= 3:\n",
    "    if string.endswith('ing'):\n",
    "        string += 'ly'\n",
    "    else:\n",
    "        string += 'ing'\n",
    "print(\"Modified string:\", string)"
   ]
  },
  {
   "cell_type": "code",
   "execution_count": 20,
   "id": "a206c382",
   "metadata": {},
   "outputs": [
    {
     "name": "stdout",
     "output_type": "stream",
     "text": [
      "Extracted number: 0.8475\n"
     ]
    }
   ],
   "source": [
    "# Q16)\n",
    "string = 'X-DSPAM-Confidence: 0.8475'\n",
    "colon_index = string.find(':')\n",
    "number = float(string[colon_index + 1:].strip())\n",
    "print(\"Extracted number:\", number)"
   ]
  },
  {
   "cell_type": "code",
   "execution_count": null,
   "id": "cbe3e467",
   "metadata": {},
   "outputs": [],
   "source": []
  }
 ],
 "metadata": {
  "kernelspec": {
   "display_name": "Python 3 (ipykernel)",
   "language": "python",
   "name": "python3"
  },
  "language_info": {
   "codemirror_mode": {
    "name": "ipython",
    "version": 3
   },
   "file_extension": ".py",
   "mimetype": "text/x-python",
   "name": "python",
   "nbconvert_exporter": "python",
   "pygments_lexer": "ipython3",
   "version": "3.11.5"
  }
 },
 "nbformat": 4,
 "nbformat_minor": 5
}
