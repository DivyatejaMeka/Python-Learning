{
 "cells": [
  {
   "cell_type": "code",
   "execution_count": 1,
   "id": "3d456706",
   "metadata": {},
   "outputs": [
    {
     "name": "stdout",
     "output_type": "stream",
     "text": [
      "30\n",
      "20\n"
     ]
    },
    {
     "data": {
      "text/plain": [
       "(None, None)"
      ]
     },
     "execution_count": 1,
     "metadata": {},
     "output_type": "execute_result"
    }
   ],
   "source": [
    "num1 = 30\n",
    "num2 = 20\n",
    "print(num1), print(num2) #Not printing num1,num2 side by side so it prints (None,None)"
   ]
  },
  {
   "cell_type": "code",
   "execution_count": 2,
   "id": "f5e039b3",
   "metadata": {},
   "outputs": [
    {
     "name": "stdout",
     "output_type": "stream",
     "text": [
      "30 20\n"
     ]
    }
   ],
   "source": [
    "num1 = 30\n",
    "num2 = 20\n",
    "print(num1,num2)"
   ]
  },
  {
   "cell_type": "code",
   "execution_count": 4,
   "id": "29bac3a1",
   "metadata": {},
   "outputs": [
    {
     "name": "stdout",
     "output_type": "stream",
     "text": [
      "30\n",
      "20\n"
     ]
    },
    {
     "data": {
      "text/plain": [
       "(30, 20)"
      ]
     },
     "execution_count": 4,
     "metadata": {},
     "output_type": "execute_result"
    }
   ],
   "source": [
    "num1 = 30\n",
    "num2 = 20\n",
    "print(num1)\n",
    "print(num2)\n",
    "num1, num2"
   ]
  },
  {
   "cell_type": "code",
   "execution_count": 5,
   "id": "fb721cc1",
   "metadata": {},
   "outputs": [
    {
     "name": "stdout",
     "output_type": "stream",
     "text": [
      "30 20 python\n"
     ]
    }
   ],
   "source": [
    "print(30, 20, 'python')"
   ]
  },
  {
   "cell_type": "code",
   "execution_count": 6,
   "id": "7d5338c6",
   "metadata": {},
   "outputs": [
    {
     "name": "stdout",
     "output_type": "stream",
     "text": [
      "The addition of a and b is: 300\n"
     ]
    }
   ],
   "source": [
    "a=100\n",
    "b=200\n",
    "c=a+b\n",
    "#The addition of 100 and 200 is 300\n",
    "print('The addition of a and b is:', c)"
   ]
  },
  {
   "cell_type": "code",
   "execution_count": 7,
   "id": "b74a69b2",
   "metadata": {},
   "outputs": [
    {
     "name": "stdout",
     "output_type": "stream",
     "text": [
      "My name is python I am 10 years old and from Hyd\n"
     ]
    }
   ],
   "source": [
    "name='python'\n",
    "age=10\n",
    "city='Hyd'\n",
    "# My name is python I am 10 years old and from Hyd\n",
    "print('My name is',name,'I am',age,'years old and from',city)"
   ]
  },
  {
   "cell_type": "markdown",
   "id": "453298d8",
   "metadata": {},
   "source": [
    "## Format Method"
   ]
  },
  {
   "cell_type": "code",
   "execution_count": 11,
   "id": "a807b03a",
   "metadata": {},
   "outputs": [
    {
     "name": "stdout",
     "output_type": "stream",
     "text": [
      "The addition of 100 and 200 is 300\n",
      "The addition of 100 and 200 is 300\n"
     ]
    }
   ],
   "source": [
    "a=100\n",
    "b=200\n",
    "c=a+b\n",
    "#The addition of 100 and 200 is 300\n",
    "print('The addition of 100 and 200 is 300')\n",
    "print('The addition of {} and {} is {}'.format(a,b,c))"
   ]
  },
  {
   "cell_type": "code",
   "execution_count": 12,
   "id": "7e4e3e44",
   "metadata": {},
   "outputs": [
    {
     "name": "stdout",
     "output_type": "stream",
     "text": [
      "My name is python I am 10 years old and from Hyd\n",
      "My name is python I am 10 years old and from Hyd\n"
     ]
    }
   ],
   "source": [
    "name='python'\n",
    "age=10\n",
    "city='Hyd'\n",
    "# My name is python I am 10 years old and from Hyd\n",
    "print('My name is',name,'I am',age,'years old and from',city)\n",
    "print('My name is {} I am {} years old and from {}'.format(name,age,city))"
   ]
  },
  {
   "cell_type": "code",
   "execution_count": 14,
   "id": "72e5b368",
   "metadata": {},
   "outputs": [
    {
     "name": "stdout",
     "output_type": "stream",
     "text": [
      "The addition of 100 and 200 is 300\n",
      "The subtraction of 100 and 200 is -100\n",
      "The multiplication of 100 and 200 is 20000\n",
      "The division of 100 and 200 is 0.5\n"
     ]
    }
   ],
   "source": [
    "n1=100\n",
    "n2=200\n",
    "add=n1+n2\n",
    "sub=n1-n2\n",
    "mul=n1*n2\n",
    "div=n1/n2\n",
    "print('The addition of {} and {} is {}'.format(n1,n2,add))\n",
    "print('The subtraction of {} and {} is {}'.format(n1,n2,sub))\n",
    "print('The multiplication of {} and {} is {}'.format(n1,n2,mul))\n",
    "print('The division of {} and {} is {}'.format(n1,n2,div))"
   ]
  },
  {
   "cell_type": "markdown",
   "id": "53f199c0",
   "metadata": {},
   "source": [
    "## F String Method"
   ]
  },
  {
   "cell_type": "code",
   "execution_count": 15,
   "id": "81f96383",
   "metadata": {},
   "outputs": [
    {
     "name": "stdout",
     "output_type": "stream",
     "text": [
      "The addition of 100 and 200 is 300\n",
      "The subtraction of 100 and 200 is -100\n",
      "The multiplication of 100 and 200 is 20000\n",
      "The division of 100 and 200 is 0.5\n"
     ]
    }
   ],
   "source": [
    "n1=100\n",
    "n2=200\n",
    "add=n1+n2\n",
    "sub=n1-n2\n",
    "mul=n1*n2\n",
    "div=n1/n2\n",
    "print(f'The addition of {n1} and {n2} is {add}')\n",
    "print(f'The subtraction of {n1} and {n2} is {sub}')\n",
    "print(f'The multiplication of {n1} and {n2} is {mul}')\n",
    "print(f'The division of {n1} and {n2} is {div}')"
   ]
  },
  {
   "cell_type": "markdown",
   "id": "aa173adc",
   "metadata": {},
   "source": [
    "- We have a situation wants to combine two print statements"
   ]
  },
  {
   "cell_type": "code",
   "execution_count": 16,
   "id": "4f7d3191",
   "metadata": {},
   "outputs": [
    {
     "name": "stdout",
     "output_type": "stream",
     "text": [
      "Hello\n",
      "Good Morning\n"
     ]
    }
   ],
   "source": [
    "print('Hello')\n",
    "print('Good Morning')\n",
    "\n",
    "# Hello Good Morning"
   ]
  },
  {
   "cell_type": "markdown",
   "id": "63b22454",
   "metadata": {},
   "source": [
    "$end$"
   ]
  },
  {
   "cell_type": "code",
   "execution_count": 20,
   "id": "2326451f",
   "metadata": {},
   "outputs": [
    {
     "name": "stdout",
     "output_type": "stream",
     "text": [
      "20****30\n"
     ]
    }
   ],
   "source": [
    "print(20,end='****') #Can manipulate in end\n",
    "print(30)"
   ]
  },
  {
   "cell_type": "code",
   "execution_count": 21,
   "id": "4a8cfede",
   "metadata": {},
   "outputs": [
    {
     "name": "stdout",
     "output_type": "stream",
     "text": [
      "1 2 3\n"
     ]
    }
   ],
   "source": [
    "print(1,end=' ')\n",
    "print(2,end=' ')\n",
    "print(3)"
   ]
  },
  {
   "cell_type": "markdown",
   "id": "dd8a15e9",
   "metadata": {},
   "source": [
    "- We want to seperate multiple variables in one print statement"
   ]
  },
  {
   "cell_type": "code",
   "execution_count": 23,
   "id": "28b5e49a",
   "metadata": {},
   "outputs": [
    {
     "name": "stdout",
     "output_type": "stream",
     "text": [
      "20 --> 30\n"
     ]
    }
   ],
   "source": [
    "print(20,'-->',30)"
   ]
  },
  {
   "cell_type": "markdown",
   "id": "bd0a42f1",
   "metadata": {},
   "source": [
    "$sep$"
   ]
  },
  {
   "cell_type": "code",
   "execution_count": 24,
   "id": "b30082d6",
   "metadata": {},
   "outputs": [
    {
     "name": "stdout",
     "output_type": "stream",
     "text": [
      "20---30---50\n"
     ]
    }
   ],
   "source": [
    "print(20,30,50,sep='---')"
   ]
  },
  {
   "cell_type": "markdown",
   "id": "eacad1da",
   "metadata": {},
   "source": [
    "- end operator used to combine mutliple print statements\n",
    "- sep operator used to seperate the mutiple variables in a single print statement"
   ]
  },
  {
   "cell_type": "code",
   "execution_count": 31,
   "id": "a62ea6f4",
   "metadata": {},
   "outputs": [
    {
     "name": "stdout",
     "output_type": "stream",
     "text": [
      "The addition of 3+4 is 7\n",
      "The addition of 3+4 is 7\n",
      "The addition of 3+4 is 7\n",
      "3+4\n"
     ]
    }
   ],
   "source": [
    "print('The addition of 3+4 is',3+4)\n",
    "print('The addition of 3+4 is',format(3+4))\n",
    "print(f'The addition of 3+4 is {3+4}')\n",
    "print(3,4,sep='+')"
   ]
  },
  {
   "cell_type": "code",
   "execution_count": null,
   "id": "68460ebe",
   "metadata": {},
   "outputs": [],
   "source": []
  }
 ],
 "metadata": {
  "kernelspec": {
   "display_name": "Python 3 (ipykernel)",
   "language": "python",
   "name": "python3"
  },
  "language_info": {
   "codemirror_mode": {
    "name": "ipython",
    "version": 3
   },
   "file_extension": ".py",
   "mimetype": "text/x-python",
   "name": "python",
   "nbconvert_exporter": "python",
   "pygments_lexer": "ipython3",
   "version": "3.11.5"
  }
 },
 "nbformat": 4,
 "nbformat_minor": 5
}
