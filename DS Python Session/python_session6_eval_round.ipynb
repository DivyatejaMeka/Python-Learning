{
 "cells": [
  {
   "cell_type": "markdown",
   "id": "8dfad152",
   "metadata": {},
   "source": [
    "- Generally if you observe any application\n",
    "- user will provide values\n",
    "- backend some programming language will work\n",
    "- if any code the values we give is called **Hard Code**\n",
    "- always the code should be generic\n",
    "- in python the user can provide the values from keyboard using **Input**"
   ]
  },
  {
   "cell_type": "code",
   "execution_count": 2,
   "id": "6252f91f",
   "metadata": {},
   "outputs": [
    {
     "name": "stdout",
     "output_type": "stream",
     "text": [
      "DT\n"
     ]
    },
    {
     "data": {
      "text/plain": [
       "'DT'"
      ]
     },
     "execution_count": 2,
     "metadata": {},
     "output_type": "execute_result"
    }
   ],
   "source": [
    "input()"
   ]
  },
  {
   "cell_type": "code",
   "execution_count": 4,
   "id": "0434278a",
   "metadata": {},
   "outputs": [
    {
     "name": "stdout",
     "output_type": "stream",
     "text": [
      "20\n",
      "30\n",
      "done\n"
     ]
    },
    {
     "data": {
      "text/plain": [
       "'done'"
      ]
     },
     "execution_count": 4,
     "metadata": {},
     "output_type": "execute_result"
    }
   ],
   "source": [
    "input()\n",
    "input()\n",
    "input()\n"
   ]
  },
  {
   "cell_type": "code",
   "execution_count": 5,
   "id": "8168db02",
   "metadata": {},
   "outputs": [
    {
     "name": "stdout",
     "output_type": "stream",
     "text": [
      "Enter ur name:DT\n",
      "Enter age:20\n",
      "Enter city:Hyd\n"
     ]
    },
    {
     "data": {
      "text/plain": [
       "'Hyd'"
      ]
     },
     "execution_count": 5,
     "metadata": {},
     "output_type": "execute_result"
    }
   ],
   "source": [
    "input('Enter ur name:')\n",
    "input('Enter age:')\n",
    "input('Enter city:')"
   ]
  },
  {
   "cell_type": "code",
   "execution_count": 7,
   "id": "499925be",
   "metadata": {},
   "outputs": [
    {
     "name": "stdout",
     "output_type": "stream",
     "text": [
      "Enter value 1:10\n",
      "Enter value 2:20\n"
     ]
    },
    {
     "data": {
      "text/plain": [
       "30"
      ]
     },
     "execution_count": 7,
     "metadata": {},
     "output_type": "execute_result"
    }
   ],
   "source": [
    "a=int(input('Enter value 1:'))\n",
    "b=int(input('Enter value 2:'))\n",
    "a+b"
   ]
  },
  {
   "cell_type": "code",
   "execution_count": null,
   "id": "94404d37",
   "metadata": {},
   "outputs": [],
   "source": []
  }
 ],
 "metadata": {
  "kernelspec": {
   "display_name": "Python 3 (ipykernel)",
   "language": "python",
   "name": "python3"
  },
  "language_info": {
   "codemirror_mode": {
    "name": "ipython",
    "version": 3
   },
   "file_extension": ".py",
   "mimetype": "text/x-python",
   "name": "python",
   "nbconvert_exporter": "python",
   "pygments_lexer": "ipython3",
   "version": "3.11.5"
  }
 },
 "nbformat": 4,
 "nbformat_minor": 5
}
