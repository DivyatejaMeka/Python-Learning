{
 "cells": [
  {
   "cell_type": "markdown",
   "id": "8dfad152",
   "metadata": {},
   "source": [
    "- Generally if you observe any application\n",
    "- user will provide values\n",
    "- backend some programming language will work\n",
    "- if any code the values we give is called **Hard Code**\n",
    "- always the code should be generic\n",
    "- in python the user can provide the values from keyboard using **Input**"
   ]
  },
  {
   "cell_type": "code",
   "execution_count": 2,
   "id": "6252f91f",
   "metadata": {},
   "outputs": [
    {
     "name": "stdout",
     "output_type": "stream",
     "text": [
      "DT\n"
     ]
    },
    {
     "data": {
      "text/plain": [
       "'DT'"
      ]
     },
     "execution_count": 2,
     "metadata": {},
     "output_type": "execute_result"
    }
   ],
   "source": [
    "input()"
   ]
  },
  {
   "cell_type": "code",
   "execution_count": 4,
   "id": "0434278a",
   "metadata": {},
   "outputs": [
    {
     "name": "stdout",
     "output_type": "stream",
     "text": [
      "20\n",
      "30\n",
      "done\n"
     ]
    },
    {
     "data": {
      "text/plain": [
       "'done'"
      ]
     },
     "execution_count": 4,
     "metadata": {},
     "output_type": "execute_result"
    }
   ],
   "source": [
    "input()\n",
    "input()\n",
    "input()\n"
   ]
  },
  {
   "cell_type": "code",
   "execution_count": 5,
   "id": "8168db02",
   "metadata": {},
   "outputs": [
    {
     "name": "stdout",
     "output_type": "stream",
     "text": [
      "Enter ur name:DT\n",
      "Enter age:20\n",
      "Enter city:Hyd\n"
     ]
    },
    {
     "data": {
      "text/plain": [
       "'Hyd'"
      ]
     },
     "execution_count": 5,
     "metadata": {},
     "output_type": "execute_result"
    }
   ],
   "source": [
    "input('Enter ur name:')\n",
    "input('Enter age:')\n",
    "input('Enter city:')"
   ]
  },
  {
   "cell_type": "code",
   "execution_count": 7,
   "id": "499925be",
   "metadata": {},
   "outputs": [
    {
     "name": "stdout",
     "output_type": "stream",
     "text": [
      "Enter value 1:10\n",
      "Enter value 2:20\n"
     ]
    },
    {
     "data": {
      "text/plain": [
       "30"
      ]
     },
     "execution_count": 7,
     "metadata": {},
     "output_type": "execute_result"
    }
   ],
   "source": [
    "a=int(input('Enter value 1:'))\n",
    "b=int(input('Enter value 2:'))\n",
    "a+b"
   ]
  },
  {
   "cell_type": "code",
   "execution_count": 1,
   "id": "94404d37",
   "metadata": {},
   "outputs": [
    {
     "name": "stdout",
     "output_type": "stream",
     "text": [
      "Enter a num200\n",
      "Enter a num100\n"
     ]
    },
    {
     "data": {
      "text/plain": [
       "300"
      ]
     },
     "execution_count": 1,
     "metadata": {},
     "output_type": "execute_result"
    }
   ],
   "source": [
    "n1=input(\"Enter a num\")\n",
    "n2=input(\"Enter a num\")\n",
    "add=int(n1)+int(n2)\n",
    "add"
   ]
  },
  {
   "cell_type": "markdown",
   "id": "25429baf",
   "metadata": {},
   "source": [
    "** eval **\n",
    "- Whenever we listen about eval it represnts math term **evaluate**\n",
    "- instead of focus on init and float everytime\n",
    "- simply use eval conversion always\n",
    "- if you apply eval it will covert the value based on base data type\n",
    "- if user will provide the integer, it will convert into integer value\n",
    "- if user will provide the float, it will covert into float value\n",
    "- if user will provide the string, it will give the error"
   ]
  },
  {
   "cell_type": "code",
   "execution_count": 6,
   "id": "e2c19e72",
   "metadata": {},
   "outputs": [
    {
     "name": "stdout",
     "output_type": "stream",
     "text": [
      "Enter a num20\n",
      "Enter a num20.45\n",
      "The addition of 20 and 20.45 is 40.45\n"
     ]
    }
   ],
   "source": [
    "n1=eval(input(\"Enter a num\"))\n",
    "n2=eval(input(\"Enter a num\"))\n",
    "add=n1+n2\n",
    "print(f\"The addition of {n1} and {n2} is {add}\") "
   ]
  },
  {
   "cell_type": "markdown",
   "id": "f90faf25",
   "metadata": {},
   "source": [
    "- error-1 : \"(\" never closed\n",
    "   - you open the bracket, you forgot to close\n",
    "- error-2 : unterminated string literal\n",
    "   - check at last of string the quotes provided or not"
   ]
  },
  {
   "cell_type": "code",
   "execution_count": 7,
   "id": "e54ceb70",
   "metadata": {},
   "outputs": [],
   "source": [
    "# Write a program ask the user take three numbers from the keyboard and print average\n",
    "\n",
    "# WAP ask the user take the breadth and height from keyboard \n",
    "    # calculate area of right angle of the triangle\n",
    "    # formula=0.5*b*h\n",
    "\n",
    "# WAP ask the radius from keyboard\n",
    "    # calculate the area of the circle\n",
    "    # formula=pi*r*r pi=3.14\n",
    "\n",
    "# WAP ask the user enter the bill amount\n",
    "    # ask the user provide how much tip amount he wants to give\n",
    "    # calculate the total bill\n",
    "    \n",
    "# WAP ask the user enter the bill amount\n",
    "    # ask the user how much tip percentage he wants to give\n",
    "    # calculate the total bill"
   ]
  },
  {
   "cell_type": "code",
   "execution_count": 9,
   "id": "32880d28",
   "metadata": {},
   "outputs": [
    {
     "name": "stdout",
     "output_type": "stream",
     "text": [
      "Enter any three numbers\n",
      "Enter number 1 20\n",
      "Enter number 2 90\n",
      "Enter number 3 30.5\n",
      "The average of the given (20, 90, 30.5) numbers are 46.833333333333336\n"
     ]
    }
   ],
   "source": [
    "print(\"Enter any three numbers\")\n",
    "num1 = eval(input(\"Enter number 1 \"))\n",
    "num2 = eval(input(\"Enter number 2 \"))\n",
    "num3 = eval(input(\"Enter number 3 \"))\n",
    "avg = (num1+num2+num3)/3\n",
    "print(f\"The average of the given {num1,num2,num3} numbers are {avg}\")"
   ]
  },
  {
   "cell_type": "code",
   "execution_count": 13,
   "id": "698325a5",
   "metadata": {},
   "outputs": [
    {
     "name": "stdout",
     "output_type": "stream",
     "text": [
      "Enter breadth of the triangle: 20\n",
      "Enter height of the triangle: 50\n",
      "The right angle of the triangle with breadth 20 and height 50 is 500.0\n"
     ]
    }
   ],
   "source": [
    "bd = eval(input(\"Enter breadth of the triangle: \"))\n",
    "he = eval(input(\"Enter height of the triangle: \"))\n",
    "rat = 0.5*bd*he\n",
    "print(f\"The right angle of the triangle with breadth {bd} and height {he} is {rat}\")"
   ]
  },
  {
   "cell_type": "code",
   "execution_count": 14,
   "id": "47efc035",
   "metadata": {},
   "outputs": [
    {
     "name": "stdout",
     "output_type": "stream",
     "text": [
      "Enter radius of the circle:30\n",
      "The Area of the circle is 2826.0\n"
     ]
    }
   ],
   "source": [
    "rad = eval(input(\"Enter radius of the circle:\"))\n",
    "pi = 3.14\n",
    "area = pi*rad*rad\n",
    "print(f\"The Area of the circle is {area}\")"
   ]
  },
  {
   "cell_type": "code",
   "execution_count": 15,
   "id": "7da2f33a",
   "metadata": {},
   "outputs": [
    {
     "name": "stdout",
     "output_type": "stream",
     "text": [
      "Enter the bill amount: 300\n",
      "Enter tip amount: 0\n",
      "Bill amount is 300 and tip give is 0, total amount 300\n"
     ]
    }
   ],
   "source": [
    "bill = eval(input(\"Enter the bill amount: \"))\n",
    "tip = eval(input(\"Enter tip amount: \"))\n",
    "total = bill + tip\n",
    "print(f\"Bill amount is {bill} and tip give is {tip}, total amount {total}\")"
   ]
  },
  {
   "cell_type": "code",
   "execution_count": 17,
   "id": "20eb4618",
   "metadata": {},
   "outputs": [
    {
     "name": "stdout",
     "output_type": "stream",
     "text": [
      "Enter the bill amount: 200\n",
      "Enter tip percentage to give: 20\n",
      "Bill amount is 200 and tip percentage given is 20, tip want to give 40.0, total bill 240.0\n"
     ]
    }
   ],
   "source": [
    "bill = eval(input(\"Enter the bill amount: \"))\n",
    "tip = eval(input(\"Enter tip percentage to give: \"))\n",
    "total = (bill * tip)/100\n",
    "totalbill = bill + total\n",
    "print(f\"Bill amount is {bill} and tip percentage given is {tip}, tip want to give {total}, total bill {totalbill}\")"
   ]
  },
  {
   "cell_type": "code",
   "execution_count": 18,
   "id": "1da76faf",
   "metadata": {},
   "outputs": [],
   "source": []
  },
  {
   "cell_type": "code",
   "execution_count": null,
   "id": "d7c4ab5d",
   "metadata": {},
   "outputs": [],
   "source": []
  }
 ],
 "metadata": {
  "kernelspec": {
   "display_name": "Python 3 (ipykernel)",
   "language": "python",
   "name": "python3"
  },
  "language_info": {
   "codemirror_mode": {
    "name": "ipython",
    "version": 3
   },
   "file_extension": ".py",
   "mimetype": "text/x-python",
   "name": "python",
   "nbconvert_exporter": "python",
   "pygments_lexer": "ipython3",
   "version": "3.11.5"
  }
 },
 "nbformat": 4,
 "nbformat_minor": 5
}
