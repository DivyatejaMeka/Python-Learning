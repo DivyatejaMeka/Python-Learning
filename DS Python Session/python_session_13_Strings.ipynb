{
 "cells": [
  {
   "cell_type": "markdown",
   "id": "6521b537",
   "metadata": {},
   "source": [
    "## Strings\n",
    "======= Part-1 =========\n",
    "- How to initialize the strings\n",
    "- in built functions\n",
    "    - type\n",
    "    - print\n",
    "    - len\n",
    "    - max\n",
    "    - min\n",
    "    - reversed\n",
    "    - sorted\n",
    "- index operation\n",
    "- concatination\n",
    "- mutable vs immutable\n",
    "- slicing\n",
    "\n",
    "======== Part-2 =========\n",
    "- string methods"
   ]
  },
  {
   "cell_type": "markdown",
   "id": "8a40a30e",
   "metadata": {},
   "source": [
    "**Initialization**\n",
    "- Strings represented with single quotes\n",
    "- Strings represented with double quotes\n",
    "- Strings represented with triple quotes\n",
    "- When you print a string, the output shows as without quotes\n",
    "- A string represents with triple quotes : **Doc Sting**\n",
    "- If you want to highligh any word in entire string\n",
    "    - provide the entire string in double quotes and highlight the word with single quotes and vice versa"
   ]
  },
  {
   "cell_type": "code",
   "execution_count": 2,
   "id": "d2fb3217",
   "metadata": {},
   "outputs": [
    {
     "name": "stdout",
     "output_type": "stream",
     "text": [
      "Hi Hi Hello\n",
      "How are you\n",
      "Hope you doing well\n",
      "A cow says - 'MOO'\n"
     ]
    }
   ],
   "source": [
    "a = \"Hi\"\n",
    "b = 'Hi'\n",
    "c = '''Hello\n",
    "How are you\n",
    "Hope you doing well'''\n",
    "print(a,b,c)\n",
    "d = \"A cow says - 'MOO'\"\n",
    "print(d)"
   ]
  },
  {
   "cell_type": "markdown",
   "id": "66ee7418",
   "metadata": {},
   "source": [
    "**Some inbuilt functions**"
   ]
  },
  {
   "cell_type": "code",
   "execution_count": 3,
   "id": "97037642",
   "metadata": {},
   "outputs": [
    {
     "name": "stdout",
     "output_type": "stream",
     "text": [
      "Python\n"
     ]
    },
    {
     "data": {
      "text/plain": [
       "['h', 'n', 'o', 'p', 't', 'y']"
      ]
     },
     "execution_count": 3,
     "metadata": {},
     "output_type": "execute_result"
    }
   ],
   "source": [
    "max(\"python\")\n",
    "min(\"python\")\n",
    "len(\"python\")\n",
    "print(\"Python\")\n",
    "type(\"Python\")\n",
    "reversed(\"Python\")\n",
    "sorted(\"python\")"
   ]
  },
  {
   "cell_type": "code",
   "execution_count": 8,
   "id": "a7f969e4",
   "metadata": {},
   "outputs": [
    {
     "data": {
      "text/plain": [
       "'y'"
      ]
     },
     "execution_count": 8,
     "metadata": {},
     "output_type": "execute_result"
    }
   ],
   "source": [
    "max(\"Python\")"
   ]
  },
  {
   "cell_type": "code",
   "execution_count": 22,
   "id": "d3dea759",
   "metadata": {},
   "outputs": [
    {
     "data": {
      "text/plain": [
       "'h'"
      ]
     },
     "execution_count": 22,
     "metadata": {},
     "output_type": "execute_result"
    }
   ],
   "source": [
    "min(\"python\")"
   ]
  },
  {
   "cell_type": "code",
   "execution_count": 10,
   "id": "c0f82051",
   "metadata": {},
   "outputs": [
    {
     "data": {
      "text/plain": [
       "6"
      ]
     },
     "execution_count": 10,
     "metadata": {},
     "output_type": "execute_result"
    }
   ],
   "source": [
    "len(\"Python\")"
   ]
  },
  {
   "cell_type": "code",
   "execution_count": 11,
   "id": "c8c26099",
   "metadata": {},
   "outputs": [
    {
     "name": "stdout",
     "output_type": "stream",
     "text": [
      "Python\n"
     ]
    }
   ],
   "source": [
    "print(\"Python\")"
   ]
  },
  {
   "cell_type": "code",
   "execution_count": 12,
   "id": "d940d3f4",
   "metadata": {},
   "outputs": [
    {
     "data": {
      "text/plain": [
       "str"
      ]
     },
     "execution_count": 12,
     "metadata": {},
     "output_type": "execute_result"
    }
   ],
   "source": [
    "type(\"Python\")"
   ]
  },
  {
   "cell_type": "code",
   "execution_count": 20,
   "id": "9301f1d3",
   "metadata": {},
   "outputs": [
    {
     "data": {
      "text/plain": [
       "<reversed at 0x1d98190e650>"
      ]
     },
     "execution_count": 20,
     "metadata": {},
     "output_type": "execute_result"
    }
   ],
   "source": [
    "reversed(\"Python\")"
   ]
  },
  {
   "cell_type": "code",
   "execution_count": 16,
   "id": "29d22b7d",
   "metadata": {},
   "outputs": [
    {
     "data": {
      "text/plain": [
       "['P', 'h', 'n', 'o', 't', 'y']"
      ]
     },
     "execution_count": 16,
     "metadata": {},
     "output_type": "execute_result"
    }
   ],
   "source": [
    "sorted(\"Python\")"
   ]
  },
  {
   "cell_type": "markdown",
   "id": "9785a5a7",
   "metadata": {},
   "source": [
    "**Sorted**\n",
    "- sorted means sorting of letters based on ascii number\n",
    "- there are two possible strings available\n",
    "    - ascending: small to high\n",
    "    - descending: high to small"
   ]
  },
  {
   "cell_type": "markdown",
   "id": "0fe1b851",
   "metadata": {},
   "source": [
    "- when you apply the shift tab\n",
    "- there is some arguements will be available\n",
    "- focus on two strings\n",
    "    - iterable\n",
    "    - reverse = False\n",
    "- because reverse is a default arguments by default ascending order is coming\n",
    "- if you want to change the order then change the default parameter value"
   ]
  },
  {
   "cell_type": "code",
   "execution_count": 23,
   "id": "2c7480e6",
   "metadata": {},
   "outputs": [
    {
     "data": {
      "text/plain": [
       "['y', 't', 'o', 'n', 'h', 'P']"
      ]
     },
     "execution_count": 23,
     "metadata": {},
     "output_type": "execute_result"
    }
   ],
   "source": [
    "sorted(\"Python\", reverse=True)"
   ]
  },
  {
   "cell_type": "code",
   "execution_count": 29,
   "id": "7d74499f",
   "metadata": {},
   "outputs": [
    {
     "data": {
      "text/plain": [
       "['y', 't', 'o', 'n', 'h', 'P']"
      ]
     },
     "execution_count": 29,
     "metadata": {},
     "output_type": "execute_result"
    }
   ],
   "source": [
    "sorted(\"Python\", reverse=True)"
   ]
  },
  {
   "cell_type": "markdown",
   "id": "cff7af5e",
   "metadata": {},
   "source": [
    "- we should not allowed to use iterable argument name while providing the value\n",
    "- we should use the argument names while provide the value after '/'\n",
    "- we should not use the argument names before '/'\n",
    "    - iterable argument name is there before '/'\n",
    "    - so do not use iterable name"
   ]
  },
  {
   "cell_type": "markdown",
   "id": "00c850c5",
   "metadata": {},
   "source": [
    "- any function indicates * means\n",
    "- you can use any variable after *\n",
    "- after * there are two arguments are there\n",
    "    - key\n",
    "    - reverse\n",
    "- you can use both\n",
    "- you can use anyone\n",
    "- you no need to use anything"
   ]
  },
  {
   "cell_type": "code",
   "execution_count": 30,
   "id": "f288be4b",
   "metadata": {},
   "outputs": [
    {
     "ename": "TypeError",
     "evalue": "sorted expected 1 argument, got 0",
     "output_type": "error",
     "traceback": [
      "\u001b[1;31m---------------------------------------------------------------------------\u001b[0m",
      "\u001b[1;31mTypeError\u001b[0m                                 Traceback (most recent call last)",
      "Cell \u001b[1;32mIn[30], line 2\u001b[0m\n\u001b[0;32m      1\u001b[0m \u001b[38;5;28msorted\u001b[39m(\u001b[38;5;124m\"\u001b[39m\u001b[38;5;124mHello\u001b[39m\u001b[38;5;124m\"\u001b[39m) \u001b[38;5;66;03m# Works\u001b[39;00m\n\u001b[1;32m----> 2\u001b[0m \u001b[38;5;28msorted\u001b[39m(iterable\u001b[38;5;241m=\u001b[39m\u001b[38;5;124m\"\u001b[39m\u001b[38;5;124mHello\u001b[39m\u001b[38;5;124m\"\u001b[39m)\n",
      "\u001b[1;31mTypeError\u001b[0m: sorted expected 1 argument, got 0"
     ]
    }
   ],
   "source": [
    "sorted(\"Hello\") # Works\n",
    "sorted(iterable=\"Hello\") # Fails"
   ]
  },
  {
   "cell_type": "code",
   "execution_count": 32,
   "id": "ba63e203",
   "metadata": {},
   "outputs": [
    {
     "data": {
      "text/plain": [
       "['o', 'l', 'l', 'e', 'H']"
      ]
     },
     "execution_count": 32,
     "metadata": {},
     "output_type": "execute_result"
    }
   ],
   "source": [
    "sorted(\"Hello\", reverse=True)"
   ]
  },
  {
   "cell_type": "code",
   "execution_count": 33,
   "id": "a29b54e6",
   "metadata": {},
   "outputs": [
    {
     "data": {
      "text/plain": [
       "['H', 'e', 'l', 'l', 'o']"
      ]
     },
     "execution_count": 33,
     "metadata": {},
     "output_type": "execute_result"
    }
   ],
   "source": [
    "sorted(\"Hello\", key=len)"
   ]
  },
  {
   "cell_type": "code",
   "execution_count": 34,
   "id": "3af82590",
   "metadata": {},
   "outputs": [
    {
     "data": {
      "text/plain": [
       "['H', 'e', 'l', 'l', 'o']"
      ]
     },
     "execution_count": 34,
     "metadata": {},
     "output_type": "execute_result"
    }
   ],
   "source": [
    "sorted(\"Hello\", reverse=True, key=len)"
   ]
  },
  {
   "cell_type": "markdown",
   "id": "6f41057f",
   "metadata": {},
   "source": [
    "**reversed**"
   ]
  },
  {
   "cell_type": "code",
   "execution_count": 36,
   "id": "54b1d4d3",
   "metadata": {},
   "outputs": [],
   "source": [
    "str1=\"python\"\n",
    "ans=reversed(str1)"
   ]
  },
  {
   "cell_type": "code",
   "execution_count": 37,
   "id": "49d5738e",
   "metadata": {},
   "outputs": [
    {
     "data": {
      "text/plain": [
       "reversed"
      ]
     },
     "execution_count": 37,
     "metadata": {},
     "output_type": "execute_result"
    }
   ],
   "source": [
    "type(ans)"
   ]
  },
  {
   "cell_type": "code",
   "execution_count": 38,
   "id": "16241b11",
   "metadata": {},
   "outputs": [
    {
     "data": {
      "text/plain": [
       "<reversed at 0x1d982b5e440>"
      ]
     },
     "execution_count": 38,
     "metadata": {},
     "output_type": "execute_result"
    }
   ],
   "source": [
    "reversed(str1)\n",
    "# the output is stored in a memory location\n",
    "# whenever you want to see the output\n",
    "# use a list or for loop"
   ]
  },
  {
   "cell_type": "code",
   "execution_count": 39,
   "id": "6983898e",
   "metadata": {},
   "outputs": [
    {
     "data": {
      "text/plain": [
       "['n', 'o', 'h', 't', 'y', 'p']"
      ]
     },
     "execution_count": 39,
     "metadata": {},
     "output_type": "execute_result"
    }
   ],
   "source": [
    "list(ans)"
   ]
  },
  {
   "cell_type": "code",
   "execution_count": 41,
   "id": "a22fe990",
   "metadata": {},
   "outputs": [
    {
     "name": "stdout",
     "output_type": "stream",
     "text": [
      "n\n",
      "o\n",
      "h\n",
      "t\n",
      "y\n",
      "p\n"
     ]
    }
   ],
   "source": [
    "str1='python'\n",
    "ans=reversed(str1)\n",
    "for i in ans:\n",
    "    print(i)"
   ]
  },
  {
   "cell_type": "markdown",
   "id": "b17ecf7b",
   "metadata": {},
   "source": [
    "**concatenation**"
   ]
  },
  {
   "cell_type": "code",
   "execution_count": 42,
   "id": "e1617747",
   "metadata": {},
   "outputs": [
    {
     "ename": "TypeError",
     "evalue": "can't multiply sequence by non-int of type 'str'",
     "output_type": "error",
     "traceback": [
      "\u001b[1;31m---------------------------------------------------------------------------\u001b[0m",
      "\u001b[1;31mTypeError\u001b[0m                                 Traceback (most recent call last)",
      "Cell \u001b[1;32mIn[42], line 4\u001b[0m\n\u001b[0;32m      2\u001b[0m str2 \u001b[38;5;241m=\u001b[39m \u001b[38;5;124m\"\u001b[39m\u001b[38;5;124mpython\u001b[39m\u001b[38;5;124m\"\u001b[39m\n\u001b[0;32m      3\u001b[0m str1\u001b[38;5;241m+\u001b[39mstr2\n\u001b[1;32m----> 4\u001b[0m str1\u001b[38;5;241m*\u001b[39mstr2\n\u001b[0;32m      5\u001b[0m str1\u001b[38;5;241m-\u001b[39mstr2\n\u001b[0;32m      6\u001b[0m str1\u001b[38;5;241m/\u001b[39mstr2\n",
      "\u001b[1;31mTypeError\u001b[0m: can't multiply sequence by non-int of type 'str'"
     ]
    }
   ],
   "source": [
    "str1 = \"hello\"\n",
    "str2 = \"python\"\n",
    "str1+str2\n",
    "str1*str2\n",
    "str1-str2\n",
    "str1/str2"
   ]
  },
  {
   "cell_type": "markdown",
   "id": "bc218558",
   "metadata": {},
   "source": [
    "**index**"
   ]
  },
  {
   "cell_type": "code",
   "execution_count": 43,
   "id": "c446e993",
   "metadata": {},
   "outputs": [],
   "source": [
    "str1=\"python\"\n",
    "# -6  -5  -4  -3  -2  -1\n",
    "# 'p' 'y' 't' 'h' 'o' 'n'\n",
    "#  0   1   2   3   4   5"
   ]
  },
  {
   "cell_type": "code",
   "execution_count": 45,
   "id": "87dcae79",
   "metadata": {},
   "outputs": [
    {
     "data": {
      "text/plain": [
       "('p', 'n')"
      ]
     },
     "execution_count": 45,
     "metadata": {},
     "output_type": "execute_result"
    }
   ],
   "source": [
    "str1[0], str1[-1]"
   ]
  },
  {
   "cell_type": "code",
   "execution_count": 1,
   "id": "094eac38",
   "metadata": {},
   "outputs": [],
   "source": [
    "str1='hello python'"
   ]
  },
  {
   "cell_type": "code",
   "execution_count": 3,
   "id": "f272f579",
   "metadata": {},
   "outputs": [
    {
     "ename": "NameError",
     "evalue": "name 'i' is not defined",
     "output_type": "error",
     "traceback": [
      "\u001b[1;31m---------------------------------------------------------------------------\u001b[0m",
      "\u001b[1;31mNameError\u001b[0m                                 Traceback (most recent call last)",
      "Cell \u001b[1;32mIn[3], line 8\u001b[0m\n\u001b[0;32m      5\u001b[0m str1[\u001b[38;5;241m1\u001b[39m]\n\u001b[0;32m      6\u001b[0m str1[\u001b[38;5;241m2\u001b[39m]\n\u001b[1;32m----> 8\u001b[0m \u001b[38;5;28mstr\u001b[39m[i]\n",
      "\u001b[1;31mNameError\u001b[0m: name 'i' is not defined"
     ]
    }
   ],
   "source": [
    "# -12 -11 -10 -9 -8 -7 -6 -5 -4 -3 -2 -1\n",
    "#  h   e   l   l  o     p  y  t  h  o  n\n",
    "#  0   1   2   3  4  5  6  7  8  9 10  11\n",
    "str1[0]\n",
    "str1[1]\n",
    "str1[2]\n",
    "\n",
    "str[i] # i is a number i=0 and ends with i=5"
   ]
  },
  {
   "cell_type": "code",
   "execution_count": 7,
   "id": "01a84201",
   "metadata": {},
   "outputs": [
    {
     "name": "stdout",
     "output_type": "stream",
     "text": [
      "0 p\n",
      "1 y\n",
      "2 t\n",
      "3 h\n",
      "4 o\n",
      "5 n\n"
     ]
    }
   ],
   "source": [
    "str1 = \"python\"\n",
    "for i in range(len(str1)):\n",
    "    print(i,str1[i])\n",
    "# i=0  str1[0]  p\n",
    "# i=1  str1[1]  y ...."
   ]
  },
  {
   "cell_type": "code",
   "execution_count": 8,
   "id": "4c1bba97",
   "metadata": {},
   "outputs": [
    {
     "name": "stdout",
     "output_type": "stream",
     "text": [
      "The positive index of p is : 0\n",
      "The positive index of y is : 1\n",
      "The positive index of t is : 2\n",
      "The positive index of h is : 3\n",
      "The positive index of o is : 4\n",
      "The positive index of n is : 5\n",
      "The positive index of   is : 6\n",
      "The positive index of h is : 7\n",
      "The positive index of e is : 8\n",
      "The positive index of l is : 9\n",
      "The positive index of l is : 10\n",
      "The positive index of o is : 11\n"
     ]
    }
   ],
   "source": [
    "str1 = \"python hello\"\n",
    "for i in range(len(str1)):\n",
    "    print(f\"The positive index of {str1[i]} is : {i}\")"
   ]
  },
  {
   "cell_type": "code",
   "execution_count": 9,
   "id": "344fea07",
   "metadata": {},
   "outputs": [
    {
     "name": "stdout",
     "output_type": "stream",
     "text": [
      "The negative index of p is : -12\n",
      "The negative index of y is : -11\n",
      "The negative index of t is : -10\n",
      "The negative index of h is : -9\n",
      "The negative index of o is : -8\n",
      "The negative index of n is : -7\n",
      "The negative index of   is : -6\n",
      "The negative index of h is : -5\n",
      "The negative index of e is : -4\n",
      "The negative index of l is : -3\n",
      "The negative index of l is : -2\n",
      "The negative index of o is : -1\n"
     ]
    }
   ],
   "source": [
    "n=len(str1)\n",
    "for i in range(n):\n",
    "    print(f\"The negative index of {str1[i]} is : {i-n}\")"
   ]
  },
  {
   "cell_type": "code",
   "execution_count": 10,
   "id": "0893e2f1",
   "metadata": {},
   "outputs": [
    {
     "name": "stdout",
     "output_type": "stream",
     "text": [
      "-12 is negative index and 0 is positive index of p\n",
      "-11 is negative index and 1 is positive index of y\n",
      "-10 is negative index and 2 is positive index of t\n",
      "-9 is negative index and 3 is positive index of h\n",
      "-8 is negative index and 4 is positive index of o\n",
      "-7 is negative index and 5 is positive index of n\n",
      "-6 is negative index and 6 is positive index of  \n",
      "-5 is negative index and 7 is positive index of h\n",
      "-4 is negative index and 8 is positive index of e\n",
      "-3 is negative index and 9 is positive index of l\n",
      "-2 is negative index and 10 is positive index of l\n",
      "-1 is negative index and 11 is positive index of o\n"
     ]
    }
   ],
   "source": [
    "n=len(str1)\n",
    "for i in range(n):\n",
    "    print(f\"{i-n} is negative index and {i} is positive index of {str1[i]}\")"
   ]
  },
  {
   "cell_type": "markdown",
   "id": "4ca90dc9",
   "metadata": {},
   "source": [
    "**When to use range - when to use in operator**\n",
    "- any problem if we work with index use range operator\n",
    "- range operator will give index as well as character\n",
    "- any problem if index is not useful, only character is useful then go with **in**\n",
    "- with in operator we cannot get index"
   ]
  },
  {
   "cell_type": "code",
   "execution_count": 11,
   "id": "65d67772",
   "metadata": {},
   "outputs": [],
   "source": [
    "#Q4) WAP count the number of 'a' letters in a given string\n",
    "#    str1=\"Hello python how are you\"\n",
    "#Q5) WAP to find the index of 'a' letters in a given string\n",
    "#    str1=\"Hello python how are you\"\n",
    "#Q6) WAP to get sum of all the indexes of 'a' letters in a given string\n",
    "#    str1=\"Hello python how are you\"\n",
    "#Q7) WAP to find the number of vowels in a given string\n",
    "#    str1=\"hello how are you\"\n",
    "#Q8) WAP to find the non repeated vowels in a given string\n",
    "#    str1=\"hello how are you\""
   ]
  },
  {
   "cell_type": "code",
   "execution_count": 21,
   "id": "ae4867eb",
   "metadata": {},
   "outputs": [
    {
     "name": "stdout",
     "output_type": "stream",
     "text": [
      "the total 'a' are 4\n"
     ]
    }
   ],
   "source": [
    "str1 = \"hello python how are you, ola ola ola\"\n",
    "count = 0\n",
    "for i in str1:\n",
    "    if i == 'a':\n",
    "        count = count+1\n",
    "print(f\"the total 'a' are {count}\")"
   ]
  },
  {
   "cell_type": "code",
   "execution_count": 22,
   "id": "a2006b87",
   "metadata": {},
   "outputs": [
    {
     "name": "stdout",
     "output_type": "stream",
     "text": [
      "the total 'a' are 4\n"
     ]
    }
   ],
   "source": [
    "str1 = \"hello python how are you, ola ola ola\"\n",
    "count = 0\n",
    "for i in range(len(str1)):\n",
    "    if str1[i] == 'a':\n",
    "        count = count+1\n",
    "print(f\"the total 'a' are {count}\")"
   ]
  },
  {
   "cell_type": "code",
   "execution_count": 24,
   "id": "54c909af",
   "metadata": {},
   "outputs": [
    {
     "name": "stdout",
     "output_type": "stream",
     "text": [
      "a has index at 17\n",
      "a has index at 28\n",
      "a has index at 32\n",
      "a has index at 36\n"
     ]
    }
   ],
   "source": [
    "str1 = \"hello python how are you, ola ola ola\"\n",
    "for i in range(len(str1)):\n",
    "    if str1[i] == 'a':\n",
    "        print(f\"{str1[i]} has index at {i}\")"
   ]
  },
  {
   "cell_type": "code",
   "execution_count": 23,
   "id": "29c9d186",
   "metadata": {},
   "outputs": [
    {
     "name": "stdout",
     "output_type": "stream",
     "text": [
      "the total sum of 'a' is 4\n"
     ]
    }
   ],
   "source": [
    "str1 = \"hello python how are you, ola ola ola\"\n",
    "sum = 0\n",
    "for i in range(len(str1)):\n",
    "    if str1[i] == 'a':\n",
    "        sum = sum+1\n",
    "print(f\"the total sum of 'a' is {sum}\")"
   ]
  },
  {
   "cell_type": "code",
   "execution_count": 28,
   "id": "ee713df5",
   "metadata": {},
   "outputs": [
    {
     "name": "stdout",
     "output_type": "stream",
     "text": [
      "e\n",
      "o\n",
      "o\n",
      "o\n",
      "a\n",
      "e\n",
      "o\n",
      "u\n",
      "o\n",
      "a\n",
      "o\n",
      "a\n",
      "o\n",
      "a\n",
      "The number of vowels are: 14\n"
     ]
    }
   ],
   "source": [
    "str1 = \"hello python how are you, ola ola ola\"\n",
    "count = 0\n",
    "for i in str1:\n",
    "    if i in 'aeiou':\n",
    "        print(i)\n",
    "        count+=1\n",
    "print(\"The number of vowels are:\", count)"
   ]
  },
  {
   "cell_type": "code",
   "execution_count": 30,
   "id": "2b1350ed",
   "metadata": {},
   "outputs": [
    {
     "name": "stdout",
     "output_type": "stream",
     "text": [
      "h\n",
      "e\n",
      "l\n",
      "o\n",
      " \n",
      "y\n",
      "w\n",
      "a\n",
      "r\n",
      "u\n",
      "The total count is: 34\n"
     ]
    }
   ],
   "source": [
    "#Q8) \n",
    "# take empty string s1=''\n",
    "# take another vowel string s2='aeiou'\n",
    "# iterate each letter in s2\n",
    "# con1 = the letter in s2\n",
    "# con2 = the letter not in s1\n",
    "# than that is our desired vowel them immediately push that letter into s1\n",
    "# s1=s1+<Letter>\n",
    "# every vowel should come but we need to avoid the repetition\n",
    "s1 =  ''\n",
    "s2 = 'hello how are you'\n",
    "for i in str1:\n",
    "    if i in s2 and i not in s1:\n",
    "        print(i)\n",
    "        s1=s1+i\n",
    "        count=count+1\n",
    "print(\"The total count is:\", count)"
   ]
  },
  {
   "cell_type": "code",
   "execution_count": 32,
   "id": "f5a7b2b1",
   "metadata": {},
   "outputs": [
    {
     "data": {
      "text/plain": [
       "<reversed at 0x263656de080>"
      ]
     },
     "execution_count": 32,
     "metadata": {},
     "output_type": "execute_result"
    }
   ],
   "source": [
    "# Slicing\n",
    "# methods strings\n",
    "# functions\n",
    "# strings === list \n",
    "str2='ABCD1234567'\n",
    "reversed(str2)\n"
   ]
  },
  {
   "cell_type": "markdown",
   "id": "271610d0",
   "metadata": {},
   "source": [
    "**Mutable-Immutable**"
   ]
  },
  {
   "cell_type": "code",
   "execution_count": 1,
   "id": "a07d8181",
   "metadata": {},
   "outputs": [],
   "source": [
    "# mutable: change\n",
    "# immutable: No change\n",
    "str1=\"Welcome\"\n",
    "\n",
    "# I want to change \"l\" with \"L\"\n",
    "# can we change \"l\" with \"L\""
   ]
  },
  {
   "cell_type": "code",
   "execution_count": 2,
   "id": "d1e63c1e",
   "metadata": {},
   "outputs": [
    {
     "ename": "TypeError",
     "evalue": "'type' object does not support item assignment",
     "output_type": "error",
     "traceback": [
      "\u001b[1;31m---------------------------------------------------------------------------\u001b[0m",
      "\u001b[1;31mTypeError\u001b[0m                                 Traceback (most recent call last)",
      "Cell \u001b[1;32mIn[2], line 1\u001b[0m\n\u001b[1;32m----> 1\u001b[0m \u001b[38;5;28mstr\u001b[39m[\u001b[38;5;241m2\u001b[39m]\u001b[38;5;241m=\u001b[39m\u001b[38;5;124m\"\u001b[39m\u001b[38;5;124mL\u001b[39m\u001b[38;5;124m\"\u001b[39m\n",
      "\u001b[1;31mTypeError\u001b[0m: 'type' object does not support item assignment"
     ]
    }
   ],
   "source": [
    "str[2]=\"L\""
   ]
  },
  {
   "cell_type": "code",
   "execution_count": 3,
   "id": "12d1447d",
   "metadata": {},
   "outputs": [
    {
     "data": {
      "text/plain": [
       "[11, 22, 300, 44]"
      ]
     },
     "execution_count": 3,
     "metadata": {},
     "output_type": "execute_result"
    }
   ],
   "source": [
    "l = [11,22,33,44]\n",
    "l[2] = 300\n",
    "l"
   ]
  },
  {
   "cell_type": "markdown",
   "id": "99069892",
   "metadata": {},
   "source": [
    "- if the elements will change using indexing is called as mutable\n",
    "- otherwise immutable"
   ]
  },
  {
   "cell_type": "markdown",
   "id": "5b575671",
   "metadata": {},
   "source": [
    "**slicing**"
   ]
  },
  {
   "cell_type": "markdown",
   "id": "82abdc26",
   "metadata": {},
   "source": [
    "- slice : piece of the string\n",
    "- it is similar to for loop start : stop : step"
   ]
  },
  {
   "cell_type": "code",
   "execution_count": 4,
   "id": "f121911e",
   "metadata": {},
   "outputs": [],
   "source": [
    "str1 = \"hello how are you\""
   ]
  },
  {
   "cell_type": "code",
   "execution_count": 5,
   "id": "c49a6e72",
   "metadata": {},
   "outputs": [
    {
     "data": {
      "text/plain": [
       "17"
      ]
     },
     "execution_count": 5,
     "metadata": {},
     "output_type": "execute_result"
    }
   ],
   "source": [
    "len(str1)"
   ]
  },
  {
   "cell_type": "raw",
   "id": "33588c9f",
   "metadata": {},
   "source": [
    "# -17 -16 -15 -14 -13 -12 -11 -10 -9 -8 -7 -6 -5 -4 -3 -2 -1\n",
    " h   e   l   l   o       h   o   w     a  r  e     y  o  u\n",
    " 0   1   2   3   4    5  6   7   8  9  10 11 12 13 14 15 16"
   ]
  },
  {
   "cell_type": "markdown",
   "id": "b546bd3f",
   "metadata": {},
   "source": [
    "**case-1:str1[start:]**"
   ]
  },
  {
   "cell_type": "markdown",
   "id": "7ea2dfc9",
   "metadata": {},
   "source": [
    "- str1[start:]\n",
    "\n",
    "- start=start value only\n",
    "- last not mentioned means it will go till last"
   ]
  },
  {
   "cell_type": "code",
   "execution_count": 7,
   "id": "607bf126",
   "metadata": {},
   "outputs": [
    {
     "data": {
      "text/plain": [
       "' how are you'"
      ]
     },
     "execution_count": 7,
     "metadata": {},
     "output_type": "execute_result"
    }
   ],
   "source": [
    "str1[5:]"
   ]
  },
  {
   "cell_type": "code",
   "execution_count": 9,
   "id": "a0c9b534",
   "metadata": {},
   "outputs": [
    {
     "data": {
      "text/plain": [
       "'e you'"
      ]
     },
     "execution_count": 9,
     "metadata": {},
     "output_type": "execute_result"
    }
   ],
   "source": [
    "str1[-5:]"
   ]
  },
  {
   "cell_type": "markdown",
   "id": "8ea2703b",
   "metadata": {},
   "source": [
    "**case-2: str1[start:stop]**\n",
    "- start = start value\n",
    "- step is not mentioned means = positive one\n",
    "- last = stop-1"
   ]
  },
  {
   "cell_type": "code",
   "execution_count": 11,
   "id": "72be6ffc",
   "metadata": {},
   "outputs": [
    {
     "data": {
      "text/plain": [
       "'llo how a'"
      ]
     },
     "execution_count": 11,
     "metadata": {},
     "output_type": "execute_result"
    }
   ],
   "source": [
    "str1[2:-6]"
   ]
  },
  {
   "cell_type": "code",
   "execution_count": 12,
   "id": "31ef0a04",
   "metadata": {},
   "outputs": [
    {
     "data": {
      "text/plain": [
       "' how are y'"
      ]
     },
     "execution_count": 12,
     "metadata": {},
     "output_type": "execute_result"
    }
   ],
   "source": [
    "str1[-12:-2]"
   ]
  },
  {
   "cell_type": "markdown",
   "id": "c94f9823",
   "metadata": {},
   "source": [
    "**case-3: range(start:stop:step)**\n"
   ]
  },
  {
   "cell_type": "code",
   "execution_count": 17,
   "id": "8ce3b897",
   "metadata": {},
   "outputs": [
    {
     "data": {
      "text/plain": [
       "'llo how are you'"
      ]
     },
     "execution_count": 17,
     "metadata": {},
     "output_type": "execute_result"
    }
   ],
   "source": [
    "str1[2:25]"
   ]
  },
  {
   "cell_type": "code",
   "execution_count": 18,
   "id": "b6c7549c",
   "metadata": {},
   "outputs": [
    {
     "data": {
      "text/plain": [
       "'uoy era woh olleh'"
      ]
     },
     "execution_count": 18,
     "metadata": {},
     "output_type": "execute_result"
    }
   ],
   "source": [
    "str1[::-1]"
   ]
  },
  {
   "cell_type": "markdown",
   "id": "295756b4",
   "metadata": {},
   "source": [
    "- initialization\n",
    "- print\n",
    "- type\n",
    "- min/max\n",
    "- len\n",
    "- reversed/sorted\n",
    "- index\n",
    "    - for loop with range\n",
    "    - for loop in\n",
    "- mutable vs immutable\n",
    "- concatenation\n",
    "- slicing"
   ]
  },
  {
   "cell_type": "markdown",
   "id": "5f292001",
   "metadata": {},
   "source": [
    "**Methods**"
   ]
  },
  {
   "cell_type": "code",
   "execution_count": 19,
   "id": "5aa0a11b",
   "metadata": {},
   "outputs": [
    {
     "data": {
      "text/plain": [
       "['__add__',\n",
       " '__class__',\n",
       " '__contains__',\n",
       " '__delattr__',\n",
       " '__dir__',\n",
       " '__doc__',\n",
       " '__eq__',\n",
       " '__format__',\n",
       " '__ge__',\n",
       " '__getattribute__',\n",
       " '__getitem__',\n",
       " '__getnewargs__',\n",
       " '__getstate__',\n",
       " '__gt__',\n",
       " '__hash__',\n",
       " '__init__',\n",
       " '__init_subclass__',\n",
       " '__iter__',\n",
       " '__le__',\n",
       " '__len__',\n",
       " '__lt__',\n",
       " '__mod__',\n",
       " '__mul__',\n",
       " '__ne__',\n",
       " '__new__',\n",
       " '__reduce__',\n",
       " '__reduce_ex__',\n",
       " '__repr__',\n",
       " '__rmod__',\n",
       " '__rmul__',\n",
       " '__setattr__',\n",
       " '__sizeof__',\n",
       " '__str__',\n",
       " '__subclasshook__',\n",
       " 'capitalize',\n",
       " 'casefold',\n",
       " 'center',\n",
       " 'count',\n",
       " 'encode',\n",
       " 'endswith',\n",
       " 'expandtabs',\n",
       " 'find',\n",
       " 'format',\n",
       " 'format_map',\n",
       " 'index',\n",
       " 'isalnum',\n",
       " 'isalpha',\n",
       " 'isascii',\n",
       " 'isdecimal',\n",
       " 'isdigit',\n",
       " 'isidentifier',\n",
       " 'islower',\n",
       " 'isnumeric',\n",
       " 'isprintable',\n",
       " 'isspace',\n",
       " 'istitle',\n",
       " 'isupper',\n",
       " 'join',\n",
       " 'ljust',\n",
       " 'lower',\n",
       " 'lstrip',\n",
       " 'maketrans',\n",
       " 'partition',\n",
       " 'removeprefix',\n",
       " 'removesuffix',\n",
       " 'replace',\n",
       " 'rfind',\n",
       " 'rindex',\n",
       " 'rjust',\n",
       " 'rpartition',\n",
       " 'rsplit',\n",
       " 'rstrip',\n",
       " 'split',\n",
       " 'splitlines',\n",
       " 'startswith',\n",
       " 'strip',\n",
       " 'swapcase',\n",
       " 'title',\n",
       " 'translate',\n",
       " 'upper',\n",
       " 'zfill']"
      ]
     },
     "execution_count": 19,
     "metadata": {},
     "output_type": "execute_result"
    }
   ],
   "source": [
    "name = \"divyateja\"\n",
    "dir(name)"
   ]
  },
  {
   "cell_type": "markdown",
   "id": "afadcd6a",
   "metadata": {},
   "source": [
    "**Upper**"
   ]
  },
  {
   "cell_type": "code",
   "execution_count": 21,
   "id": "e44c4c51",
   "metadata": {},
   "outputs": [
    {
     "data": {
      "text/plain": [
       "'PYTHON'"
      ]
     },
     "execution_count": 21,
     "metadata": {},
     "output_type": "execute_result"
    }
   ],
   "source": [
    "name = \"python\"\n",
    "dir(name)\n",
    "# upper\n",
    "name.upper()"
   ]
  },
  {
   "cell_type": "code",
   "execution_count": 24,
   "id": "fafd2a7d",
   "metadata": {},
   "outputs": [
    {
     "data": {
      "text/plain": [
       "'python'"
      ]
     },
     "execution_count": 24,
     "metadata": {},
     "output_type": "execute_result"
    }
   ],
   "source": [
    "name=\"PYthON\"\n",
    "dir(name)\n",
    "name.lower()"
   ]
  },
  {
   "cell_type": "code",
   "execution_count": 26,
   "id": "57d5ddf0",
   "metadata": {},
   "outputs": [
    {
     "data": {
      "text/plain": [
       "'python'"
      ]
     },
     "execution_count": 26,
     "metadata": {},
     "output_type": "execute_result"
    }
   ],
   "source": [
    "name.casefold()"
   ]
  },
  {
   "cell_type": "code",
   "execution_count": 27,
   "id": "b0b3fc72",
   "metadata": {},
   "outputs": [
    {
     "data": {
      "text/plain": [
       "'  PYthON  '"
      ]
     },
     "execution_count": 27,
     "metadata": {},
     "output_type": "execute_result"
    }
   ],
   "source": [
    "name.center(10)"
   ]
  },
  {
   "cell_type": "code",
   "execution_count": 28,
   "id": "29dfa47b",
   "metadata": {},
   "outputs": [
    {
     "data": {
      "text/plain": [
       "'Python'"
      ]
     },
     "execution_count": 28,
     "metadata": {},
     "output_type": "execute_result"
    }
   ],
   "source": [
    "name.capitalize()"
   ]
  },
  {
   "cell_type": "code",
   "execution_count": 29,
   "id": "2ac3d159",
   "metadata": {},
   "outputs": [
    {
     "data": {
      "text/plain": [
       "'Python'"
      ]
     },
     "execution_count": 29,
     "metadata": {},
     "output_type": "execute_result"
    }
   ],
   "source": [
    "name.title()"
   ]
  },
  {
   "cell_type": "markdown",
   "id": "b815575f",
   "metadata": {},
   "source": [
    "**output will not overwrite**"
   ]
  },
  {
   "cell_type": "markdown",
   "id": "378c4a44",
   "metadata": {},
   "source": [
    "- whenever we apply the function\n",
    "- always apply shift+tab\n",
    "- then if any arguments are there try to understand those\n",
    "- in that one argument name is called as **inplace**\n",
    "- inplace = True the result will be overwrite in original variable\n",
    "- if inplace not available or inplace = False\n",
    "- then the output will not overwrite\n",
    "- in the upper case there is no arguments\n",
    "- so when we apply the upper the output will not overwrite"
   ]
  },
  {
   "cell_type": "code",
   "execution_count": 33,
   "id": "02c16f1f",
   "metadata": {},
   "outputs": [],
   "source": [
    "name = \"python\"\n",
    "name_upper=name.upper()"
   ]
  },
  {
   "cell_type": "code",
   "execution_count": 34,
   "id": "7cce3659",
   "metadata": {},
   "outputs": [
    {
     "name": "stdout",
     "output_type": "stream",
     "text": [
      "PYTHON\n"
     ]
    }
   ],
   "source": [
    "print(name_upper)"
   ]
  },
  {
   "cell_type": "code",
   "execution_count": 35,
   "id": "76cf2d61",
   "metadata": {},
   "outputs": [
    {
     "data": {
      "text/plain": [
       "'python'"
      ]
     },
     "execution_count": 35,
     "metadata": {},
     "output_type": "execute_result"
    }
   ],
   "source": [
    "name.lower()"
   ]
  },
  {
   "cell_type": "code",
   "execution_count": 36,
   "id": "dc18fad1",
   "metadata": {},
   "outputs": [
    {
     "data": {
      "text/plain": [
       "'python'"
      ]
     },
     "execution_count": 36,
     "metadata": {},
     "output_type": "execute_result"
    }
   ],
   "source": [
    "\"PYTHON\".lower()"
   ]
  },
  {
   "cell_type": "markdown",
   "id": "592d671e",
   "metadata": {},
   "source": [
    "**Methods vs inbuilt function**"
   ]
  },
  {
   "cell_type": "markdown",
   "id": "bc5baec2",
   "metadata": {},
   "source": [
    "- inbuilt functions applicable for all python data types\n",
    "- ex: print,type, min, max ...\n",
    "- access: inbulit_function(value)\n",
    "- method is a specific use for different data types\n",
    "- access: package.methodname()\n",
    "- access: element.methodname()"
   ]
  },
  {
   "cell_type": "code",
   "execution_count": 38,
   "id": "8de4e6b4",
   "metadata": {},
   "outputs": [
    {
     "data": {
      "text/plain": [
       "'python'"
      ]
     },
     "execution_count": 38,
     "metadata": {},
     "output_type": "execute_result"
    }
   ],
   "source": [
    "\"Python\".casefold()"
   ]
  },
  {
   "cell_type": "code",
   "execution_count": 39,
   "id": "a0d0f03e",
   "metadata": {},
   "outputs": [
    {
     "data": {
      "text/plain": [
       "'Hello How Are You'"
      ]
     },
     "execution_count": 39,
     "metadata": {},
     "output_type": "execute_result"
    }
   ],
   "source": [
    "\"hello how are you\".title()"
   ]
  },
  {
   "cell_type": "markdown",
   "id": "c57c8d82",
   "metadata": {},
   "source": [
    "**replace**"
   ]
  },
  {
   "cell_type": "code",
   "execution_count": 41,
   "id": "8e06aa41",
   "metadata": {},
   "outputs": [
    {
     "data": {
      "text/plain": [
       "'weLcome'"
      ]
     },
     "execution_count": 41,
     "metadata": {},
     "output_type": "execute_result"
    }
   ],
   "source": [
    "str1=\"welcome\"\n",
    "str1.replace(\"l\", \"L\")"
   ]
  },
  {
   "cell_type": "markdown",
   "id": "159e74a3",
   "metadata": {},
   "source": [
    "**capitalize**"
   ]
  },
  {
   "cell_type": "code",
   "execution_count": 1,
   "id": "bc676a23",
   "metadata": {},
   "outputs": [
    {
     "data": {
      "text/plain": [
       "'Welcome'"
      ]
     },
     "execution_count": 1,
     "metadata": {},
     "output_type": "execute_result"
    }
   ],
   "source": [
    "str1=\"welcome\"\n",
    "str1.capitalize()"
   ]
  },
  {
   "cell_type": "code",
   "execution_count": 2,
   "id": "36c46600",
   "metadata": {},
   "outputs": [
    {
     "data": {
      "text/plain": [
       "'Hello how are you'"
      ]
     },
     "execution_count": 2,
     "metadata": {},
     "output_type": "execute_result"
    }
   ],
   "source": [
    "str1=\"hello how are you\"\n",
    "str1.capitalize()"
   ]
  },
  {
   "cell_type": "markdown",
   "id": "f323d698",
   "metadata": {},
   "source": [
    "**title**"
   ]
  },
  {
   "cell_type": "code",
   "execution_count": 3,
   "id": "0c112d46",
   "metadata": {},
   "outputs": [
    {
     "data": {
      "text/plain": [
       "'Welcome'"
      ]
     },
     "execution_count": 3,
     "metadata": {},
     "output_type": "execute_result"
    }
   ],
   "source": [
    "str1=\"welcome\"\n",
    "str1.title()"
   ]
  },
  {
   "cell_type": "markdown",
   "id": "deb177eb",
   "metadata": {},
   "source": [
    "**center**"
   ]
  },
  {
   "cell_type": "code",
   "execution_count": 4,
   "id": "7e310932",
   "metadata": {},
   "outputs": [
    {
     "data": {
      "text/plain": [
       "' python'"
      ]
     },
     "execution_count": 4,
     "metadata": {},
     "output_type": "execute_result"
    }
   ],
   "source": [
    "str1=\"python\"\n",
    "str1.center(7)"
   ]
  },
  {
   "cell_type": "code",
   "execution_count": 5,
   "id": "676dbf36",
   "metadata": {},
   "outputs": [
    {
     "data": {
      "text/plain": [
       "'========python======='"
      ]
     },
     "execution_count": 5,
     "metadata": {},
     "output_type": "execute_result"
    }
   ],
   "source": [
    "str1.center(21,\"=\")"
   ]
  },
  {
   "cell_type": "markdown",
   "id": "a0bd0d80",
   "metadata": {},
   "source": [
    "**replace**"
   ]
  },
  {
   "cell_type": "code",
   "execution_count": 7,
   "id": "ad269ed6",
   "metadata": {},
   "outputs": [
    {
     "data": {
      "text/plain": [
       "'weLLLLcome'"
      ]
     },
     "execution_count": 7,
     "metadata": {},
     "output_type": "execute_result"
    }
   ],
   "source": [
    "str1=\"wellllcome\"\n",
    "str1.replace(\"l\", \"L\")"
   ]
  },
  {
   "cell_type": "code",
   "execution_count": 8,
   "id": "9332a875",
   "metadata": {},
   "outputs": [
    {
     "data": {
      "text/plain": [
       "'weLlllcome'"
      ]
     },
     "execution_count": 8,
     "metadata": {},
     "output_type": "execute_result"
    }
   ],
   "source": [
    "str1.replace(\"l\",\"L\",1)"
   ]
  },
  {
   "cell_type": "code",
   "execution_count": 10,
   "id": "bc7dd84b",
   "metadata": {},
   "outputs": [
    {
     "data": {
      "text/plain": [
       "'weLLllcome'"
      ]
     },
     "execution_count": 10,
     "metadata": {},
     "output_type": "execute_result"
    }
   ],
   "source": [
    "str1.replace(\"l\",\"L\",2)"
   ]
  },
  {
   "cell_type": "markdown",
   "id": "25da2418",
   "metadata": {},
   "source": [
    "**How to replace the only second letter**"
   ]
  },
  {
   "cell_type": "code",
   "execution_count": 11,
   "id": "0a179d6e",
   "metadata": {},
   "outputs": [
    {
     "data": {
      "text/plain": [
       "'resta$t'"
      ]
     },
     "execution_count": 11,
     "metadata": {},
     "output_type": "execute_result"
    }
   ],
   "source": [
    "str1=\"restart\"\n",
    "str1.replace(\"rt\",\"$t\")"
   ]
  },
  {
   "cell_type": "markdown",
   "id": "09942dd2",
   "metadata": {},
   "source": [
    "- till first \"r\" is the one string\n",
    "- after first \"r\" is the another string"
   ]
  },
  {
   "cell_type": "code",
   "execution_count": 12,
   "id": "910e0b78",
   "metadata": {},
   "outputs": [
    {
     "data": {
      "text/plain": [
       "'resta$t'"
      ]
     },
     "execution_count": 12,
     "metadata": {},
     "output_type": "execute_result"
    }
   ],
   "source": [
    "str1=\"restart\"\n",
    "s1=str1[0] #indexing\n",
    "s2=str1[1:] #slicing\n",
    "s3=s2.replace(\"r\",\"$\") #replace\n",
    "s1+s3 #concatenation"
   ]
  },
  {
   "cell_type": "code",
   "execution_count": 13,
   "id": "fd00456b",
   "metadata": {},
   "outputs": [
    {
     "data": {
      "text/plain": [
       "'resta$t'"
      ]
     },
     "execution_count": 13,
     "metadata": {},
     "output_type": "execute_result"
    }
   ],
   "source": [
    "str1=\"restart\"\n",
    "str1[::-1].replace(\"r\",\"$\",1)[::-1]"
   ]
  },
  {
   "cell_type": "markdown",
   "id": "266ec920",
   "metadata": {},
   "source": [
    "**index**"
   ]
  },
  {
   "cell_type": "code",
   "execution_count": 14,
   "id": "ede8763d",
   "metadata": {},
   "outputs": [
    {
     "data": {
      "text/plain": [
       "0"
      ]
     },
     "execution_count": 14,
     "metadata": {},
     "output_type": "execute_result"
    }
   ],
   "source": [
    "str1='hello hai how are you'\n",
    "str1.index('h')"
   ]
  },
  {
   "cell_type": "code",
   "execution_count": 15,
   "id": "3c27063b",
   "metadata": {},
   "outputs": [
    {
     "data": {
      "text/plain": [
       "(12, 4)"
      ]
     },
     "execution_count": 15,
     "metadata": {},
     "output_type": "execute_result"
    }
   ],
   "source": [
    "str1.index('w'), str1.index('o')"
   ]
  },
  {
   "cell_type": "code",
   "execution_count": 18,
   "id": "351ec86b",
   "metadata": {},
   "outputs": [
    {
     "data": {
      "text/plain": [
       "6"
      ]
     },
     "execution_count": 18,
     "metadata": {},
     "output_type": "execute_result"
    }
   ],
   "source": [
    "#hello hai\n",
    "#012345678\n",
    "str1='welho hai how are you'\n",
    "str1.index('h',3+1)"
   ]
  },
  {
   "cell_type": "code",
   "execution_count": 19,
   "id": "5cea5dde",
   "metadata": {},
   "outputs": [
    {
     "data": {
      "text/plain": [
       "(0, 4, 8, 12)"
      ]
     },
     "execution_count": 19,
     "metadata": {},
     "output_type": "execute_result"
    }
   ],
   "source": [
    "str1='hai hai hai hai'\n",
    "i1=str1.index('h')\n",
    "i2=str1.index('h',i1+1) # we are searching for 'h' from i1+1(0+1=1) index onward\n",
    "i3=str1.index('h',i2+1) # # we are searching for 'h' from i2+1(4+1=5) index onwa\n",
    "i4=str1.index('h',i3+1)\n",
    "#i5=str1.index('h',i4+1)\n",
    "i1,i2,i3,i4"
   ]
  },
  {
   "cell_type": "code",
   "execution_count": 20,
   "id": "5cec5fe3",
   "metadata": {},
   "outputs": [
    {
     "data": {
      "text/plain": [
       "8"
      ]
     },
     "execution_count": 20,
     "metadata": {},
     "output_type": "execute_result"
    }
   ],
   "source": [
    "str1.index('h',str1.index('h',str1.index('h')+1)+1)"
   ]
  },
  {
   "cell_type": "code",
   "execution_count": 21,
   "id": "7f70981d",
   "metadata": {},
   "outputs": [
    {
     "data": {
      "text/plain": [
       "'i hai '"
      ]
     },
     "execution_count": 21,
     "metadata": {},
     "output_type": "execute_result"
    }
   ],
   "source": [
    "str1='hai hai hai hai'\n",
    "str1.index(\"a\",2,8)\n",
    "\n",
    "str1[2:8]"
   ]
  },
  {
   "cell_type": "code",
   "execution_count": 22,
   "id": "0c461c5a",
   "metadata": {},
   "outputs": [
    {
     "ename": "ValueError",
     "evalue": "substring not found",
     "output_type": "error",
     "traceback": [
      "\u001b[1;31m---------------------------------------------------------------------------\u001b[0m",
      "\u001b[1;31mValueError\u001b[0m                                Traceback (most recent call last)",
      "Cell \u001b[1;32mIn[22], line 2\u001b[0m\n\u001b[0;32m      1\u001b[0m str1\u001b[38;5;241m=\u001b[39m\u001b[38;5;124m'\u001b[39m\u001b[38;5;124mhai hai hai hai\u001b[39m\u001b[38;5;124m'\u001b[39m\n\u001b[1;32m----> 2\u001b[0m str1\u001b[38;5;241m.\u001b[39mindex(\u001b[38;5;124m\"\u001b[39m\u001b[38;5;124mz\u001b[39m\u001b[38;5;124m\"\u001b[39m,\u001b[38;5;241m2\u001b[39m,\u001b[38;5;241m8\u001b[39m)\n",
      "\u001b[1;31mValueError\u001b[0m: substring not found"
     ]
    }
   ],
   "source": [
    "str1='hai hai hai hai'\n",
    "str1.index(\"z\",2,8)"
   ]
  },
  {
   "cell_type": "code",
   "execution_count": 23,
   "id": "cb288104",
   "metadata": {},
   "outputs": [
    {
     "data": {
      "text/plain": [
       "'restart $estart'"
      ]
     },
     "execution_count": 23,
     "metadata": {},
     "output_type": "execute_result"
    }
   ],
   "source": [
    "str1='restart restart'\n",
    "i1=str1.index('r')\n",
    "i2=str1.index('r',i1+1)\n",
    "s1=str1[:i2+1] # restar : starting : second_r_index+1\n",
    "s2=str1[i2+1:] # t restart : second_r_index+1 : last\n",
    "s3=s2.replace('r','$',1)\n",
    "s1+s3"
   ]
  },
  {
   "cell_type": "markdown",
   "id": "2ae37165",
   "metadata": {},
   "source": [
    "**find**\n",
    "- just replace index with find\n",
    "- tell me th difference between index and find"
   ]
  },
  {
   "cell_type": "code",
   "execution_count": 24,
   "id": "1237eb4e",
   "metadata": {},
   "outputs": [
    {
     "data": {
      "text/plain": [
       "(0, 4, 8, 12, -1)"
      ]
     },
     "execution_count": 24,
     "metadata": {},
     "output_type": "execute_result"
    }
   ],
   "source": [
    "str1='hai hai hai hai'\n",
    "i1=str1.find('h')\n",
    "i2=str1.find('h',i1+1) # we are searching for 'h' from i1+1(0+1=1) index onwards\n",
    "i3=str1.find('h',i2+1) # # we are searching for 'h' from i2+1(4+1=5) index onwar\n",
    "i4=str1.find('h',i3+1)\n",
    "i5=str1.find('h',i4+1)\n",
    "i1,i2,i3,i4,i5"
   ]
  },
  {
   "cell_type": "markdown",
   "id": "5e15b981",
   "metadata": {},
   "source": [
    "- index and find both are working for same to find the index of a letter\n",
    "- if any substring not found index will throw error\n",
    "- but find method will give -1"
   ]
  },
  {
   "cell_type": "markdown",
   "id": "9d9b2d91",
   "metadata": {},
   "source": [
    "**count**"
   ]
  },
  {
   "cell_type": "code",
   "execution_count": 27,
   "id": "dcd17d03",
   "metadata": {},
   "outputs": [
    {
     "name": "stdout",
     "output_type": "stream",
     "text": [
      "4\n"
     ]
    }
   ],
   "source": [
    "str1='hai hai hai hai'\n",
    "count=0\n",
    "for i in str1:\n",
    "    if i=='a':\n",
    "        count=count+1\n",
    "print(count)"
   ]
  },
  {
   "cell_type": "code",
   "execution_count": 28,
   "id": "ce24bca1",
   "metadata": {},
   "outputs": [
    {
     "data": {
      "text/plain": [
       "4"
      ]
     },
     "execution_count": 28,
     "metadata": {},
     "output_type": "execute_result"
    }
   ],
   "source": [
    "str1='hai hai hai hai'\n",
    "str1.count('a')"
   ]
  },
  {
   "cell_type": "code",
   "execution_count": 29,
   "id": "42f269f0",
   "metadata": {},
   "outputs": [
    {
     "data": {
      "text/plain": [
       "1"
      ]
     },
     "execution_count": 29,
     "metadata": {},
     "output_type": "execute_result"
    }
   ],
   "source": [
    "str1.count('a',2,7)\n",
    "# count the number of 'a' between 2 to 6 index"
   ]
  },
  {
   "cell_type": "code",
   "execution_count": 30,
   "id": "61cf9126",
   "metadata": {},
   "outputs": [
    {
     "data": {
      "text/plain": [
       "1"
      ]
     },
     "execution_count": 30,
     "metadata": {},
     "output_type": "execute_result"
    }
   ],
   "source": [
    "str1='hai hai hai'\n",
    "str1.count('hai hai hai')\n"
   ]
  },
  {
   "cell_type": "code",
   "execution_count": 32,
   "id": "dc771a52",
   "metadata": {},
   "outputs": [
    {
     "data": {
      "text/plain": [
       "1"
      ]
     },
     "execution_count": 32,
     "metadata": {},
     "output_type": "execute_result"
    }
   ],
   "source": [
    "str1='hai hai hai'\n",
    "str1.count(str1)"
   ]
  },
  {
   "cell_type": "code",
   "execution_count": 33,
   "id": "b789fb20",
   "metadata": {},
   "outputs": [
    {
     "data": {
      "text/plain": [
       "3"
      ]
     },
     "execution_count": 33,
     "metadata": {},
     "output_type": "execute_result"
    }
   ],
   "source": [
    "str1='hai hai hai'\n",
    "str1.count('hai')"
   ]
  },
  {
   "cell_type": "markdown",
   "id": "aebf4f6a",
   "metadata": {},
   "source": [
    "**sliding window approach**"
   ]
  },
  {
   "cell_type": "code",
   "execution_count": 34,
   "id": "68067f81",
   "metadata": {},
   "outputs": [
    {
     "name": "stdout",
     "output_type": "stream",
     "text": [
      "4\n"
     ]
    }
   ],
   "source": [
    "str1='hai hai hai hai'\n",
    "count=0\n",
    "for i in range(len(str1)):\n",
    "    if str1[i:i+3]=='hai':\n",
    "        count=count+1\n",
    "print(count)\n",
    "# step-1: i=0 if str1[0:3] : hai==hai T\n",
    "# step-2: i=1 if str1[1:4] : 'ai '=='hai' F\n",
    "# step-3: i=2 if str1[2:5] : 'i h'=='hai' F"
   ]
  },
  {
   "cell_type": "code",
   "execution_count": 36,
   "id": "510801e5",
   "metadata": {},
   "outputs": [],
   "source": [
    "str1='hai hai hai hai'\n",
    "str1[1:4]\n",
    "'ai '\n",
    "str1='virat.kohli@rcb.com'\n",
    "str2='rohit.sharma@mi.com'\n",
    "str3='m.dhoni@chennai.com'\n",
    "str4='omkar.nallagoni@cts.com'\n",
    "str5='Nandu.kishore@google.com'\n",
    "# Derive the code to get\n",
    "# first name, second name, Cname\n",
    "# idea\n",
    "# find the first dot index\n",
    "# find the @ index\n",
    "# find the second dot index"
   ]
  },
  {
   "cell_type": "code",
   "execution_count": 38,
   "id": "baa1c56b",
   "metadata": {},
   "outputs": [
    {
     "name": "stdout",
     "output_type": "stream",
     "text": [
      "a b c\n"
     ]
    }
   ],
   "source": [
    "# fname : available from starting to first_dot\n",
    "# sname : availabe from firt_dot to @symbol\n",
    "# cname : available from @symbol to second_dot\n",
    "def extrcation(str1):\n",
    "    first_dot=str1.index('.')\n",
    "    second_dot=str1.index('.',first_dot+1)\n",
    "    at_symbol=str1.index('@')\n",
    "    fname=str1[:first_dot]\n",
    "    sname=str1[first_dot+1:at_symbol]\n",
    "    cname=str1[at_symbol+1:second_dot]\n",
    "    print(fname,sname,cname)\n",
    "extrcation('a.b@c.com')"
   ]
  },
  {
   "cell_type": "markdown",
   "id": "37336af6",
   "metadata": {},
   "source": [
    "- upper/lower/casefold\n",
    "- title/capitalize\n",
    "- center\n",
    "- replace\n",
    "- index/find\n",
    "- count"
   ]
  },
  {
   "cell_type": "code",
   "execution_count": 39,
   "id": "c98d1811",
   "metadata": {},
   "outputs": [
    {
     "data": {
      "text/plain": [
       "['__add__',\n",
       " '__class__',\n",
       " '__contains__',\n",
       " '__delattr__',\n",
       " '__dir__',\n",
       " '__doc__',\n",
       " '__eq__',\n",
       " '__format__',\n",
       " '__ge__',\n",
       " '__getattribute__',\n",
       " '__getitem__',\n",
       " '__getnewargs__',\n",
       " '__getstate__',\n",
       " '__gt__',\n",
       " '__hash__',\n",
       " '__init__',\n",
       " '__init_subclass__',\n",
       " '__iter__',\n",
       " '__le__',\n",
       " '__len__',\n",
       " '__lt__',\n",
       " '__mod__',\n",
       " '__mul__',\n",
       " '__ne__',\n",
       " '__new__',\n",
       " '__reduce__',\n",
       " '__reduce_ex__',\n",
       " '__repr__',\n",
       " '__rmod__',\n",
       " '__rmul__',\n",
       " '__setattr__',\n",
       " '__sizeof__',\n",
       " '__str__',\n",
       " '__subclasshook__',\n",
       " 'capitalize',\n",
       " 'casefold',\n",
       " 'center',\n",
       " 'count',\n",
       " 'encode',\n",
       " 'endswith',\n",
       " 'expandtabs',\n",
       " 'find',\n",
       " 'format',\n",
       " 'format_map',\n",
       " 'index',\n",
       " 'isalnum',\n",
       " 'isalpha',\n",
       " 'isascii',\n",
       " 'isdecimal',\n",
       " 'isdigit',\n",
       " 'isidentifier',\n",
       " 'islower',\n",
       " 'isnumeric',\n",
       " 'isprintable',\n",
       " 'isspace',\n",
       " 'istitle',\n",
       " 'isupper',\n",
       " 'join',\n",
       " 'ljust',\n",
       " 'lower',\n",
       " 'lstrip',\n",
       " 'maketrans',\n",
       " 'partition',\n",
       " 'removeprefix',\n",
       " 'removesuffix',\n",
       " 'replace',\n",
       " 'rfind',\n",
       " 'rindex',\n",
       " 'rjust',\n",
       " 'rpartition',\n",
       " 'rsplit',\n",
       " 'rstrip',\n",
       " 'split',\n",
       " 'splitlines',\n",
       " 'startswith',\n",
       " 'strip',\n",
       " 'swapcase',\n",
       " 'title',\n",
       " 'translate',\n",
       " 'upper',\n",
       " 'zfill']"
      ]
     },
     "execution_count": 39,
     "metadata": {},
     "output_type": "execute_result"
    }
   ],
   "source": [
    "dir(\"\")"
   ]
  },
  {
   "cell_type": "code",
   "execution_count": 40,
   "id": "6f96dba1",
   "metadata": {},
   "outputs": [
    {
     "data": {
      "text/plain": [
       "('isupper',)"
      ]
     },
     "execution_count": 40,
     "metadata": {},
     "output_type": "execute_result"
    }
   ],
   "source": [
    "'isalnum',\n",
    "'isalpha',\n",
    "'isascii',\n",
    "'isdecimal',\n",
    "'isdigit',\n",
    "'isidentifier',\n",
    "'islower',\n",
    "'isnumeric',\n",
    "'isprintable',\n",
    "'isspace',\n",
    "'istitle',\n",
    "'isupper',"
   ]
  },
  {
   "cell_type": "code",
   "execution_count": 41,
   "id": "9ba4b18b",
   "metadata": {},
   "outputs": [
    {
     "data": {
      "text/plain": [
       "False"
      ]
     },
     "execution_count": 41,
     "metadata": {},
     "output_type": "execute_result"
    }
   ],
   "source": [
    "str1='python'\n",
    "str1.isupper()"
   ]
  },
  {
   "cell_type": "markdown",
   "id": "7c5345bc",
   "metadata": {},
   "source": [
    "**lstrip-strip-rstrip**\n",
    "\n",
    "- lstrip : we can remove some letters from left side of string\n",
    "- rstrip : we can remove some letters from right side of string\n",
    "- strip : we can remove some letters from both side of string"
   ]
  },
  {
   "cell_type": "code",
   "execution_count": 42,
   "id": "f5a84018",
   "metadata": {},
   "outputs": [
    {
     "data": {
      "text/plain": [
       "('hai how are you', ' hai how are you', 'hai how are you')"
      ]
     },
     "execution_count": 42,
     "metadata": {},
     "output_type": "execute_result"
    }
   ],
   "source": [
    "s1=' hai how are you'\n",
    "s2='hai how are you '\n",
    "s3=' hai how are you '\n",
    "s1.lstrip(),s1.rstrip(),s1.strip()"
   ]
  },
  {
   "cell_type": "code",
   "execution_count": 43,
   "id": "5afdc4b4",
   "metadata": {},
   "outputs": [
    {
     "data": {
      "text/plain": [
       "('hai how are you ', 'hai how are you', 'hai how are you')"
      ]
     },
     "execution_count": 43,
     "metadata": {},
     "output_type": "execute_result"
    }
   ],
   "source": [
    "s2.lstrip(),s2.rstrip(),s2.strip()"
   ]
  },
  {
   "cell_type": "code",
   "execution_count": 44,
   "id": "2f928f16",
   "metadata": {},
   "outputs": [
    {
     "data": {
      "text/plain": [
       "'hai how are you'"
      ]
     },
     "execution_count": 44,
     "metadata": {},
     "output_type": "execute_result"
    }
   ],
   "source": [
    "s1='***hai how are you'\n",
    "s1.lstrip('*')"
   ]
  },
  {
   "cell_type": "code",
   "execution_count": 45,
   "id": "fd53f691",
   "metadata": {},
   "outputs": [
    {
     "data": {
      "text/plain": [
       "'hai how are you'"
      ]
     },
     "execution_count": 45,
     "metadata": {},
     "output_type": "execute_result"
    }
   ],
   "source": [
    "s11=' hai how are you'\n",
    "s22='hai how are you '\n",
    "s33=' hai how are you '\n",
    "s11.lstrip()"
   ]
  },
  {
   "cell_type": "markdown",
   "id": "60548813",
   "metadata": {},
   "source": [
    "**startswith-endswith**"
   ]
  },
  {
   "cell_type": "code",
   "execution_count": 46,
   "id": "ecb2be8f",
   "metadata": {},
   "outputs": [
    {
     "data": {
      "text/plain": [
       "True"
      ]
     },
     "execution_count": 46,
     "metadata": {},
     "output_type": "execute_result"
    }
   ],
   "source": [
    "str1='hai how are you'\n",
    "str1.startswith('hai how are you')"
   ]
  },
  {
   "cell_type": "code",
   "execution_count": 47,
   "id": "4592a1e8",
   "metadata": {},
   "outputs": [
    {
     "data": {
      "text/plain": [
       "True"
      ]
     },
     "execution_count": 47,
     "metadata": {},
     "output_type": "execute_result"
    }
   ],
   "source": [
    "str1='hai how are you'\n",
    "str1.startswith(str1)"
   ]
  },
  {
   "cell_type": "markdown",
   "id": "92324ac7",
   "metadata": {},
   "source": [
    "**split**"
   ]
  },
  {
   "cell_type": "code",
   "execution_count": 48,
   "id": "9751c022",
   "metadata": {},
   "outputs": [
    {
     "data": {
      "text/plain": [
       "['', 'ello ', 'ow are you']"
      ]
     },
     "execution_count": 48,
     "metadata": {},
     "output_type": "execute_result"
    }
   ],
   "source": [
    "str1='hello how are you'\n",
    "str1.split('h')\n",
    "# 'ello ' ow are you"
   ]
  },
  {
   "cell_type": "code",
   "execution_count": 49,
   "id": "e03ed908",
   "metadata": {},
   "outputs": [
    {
     "data": {
      "text/plain": [
       "['h', 'i h', 'i h', 'i h', 'i']"
      ]
     },
     "execution_count": 49,
     "metadata": {},
     "output_type": "execute_result"
    }
   ],
   "source": [
    "str1='hai hai hai hai'\n",
    "str1.split('a')\n",
    "# 'h', 'i h', 'i h'.'i h'.i"
   ]
  },
  {
   "cell_type": "code",
   "execution_count": null,
   "id": "40a4113b",
   "metadata": {},
   "outputs": [],
   "source": []
  }
 ],
 "metadata": {
  "kernelspec": {
   "display_name": "Python 3 (ipykernel)",
   "language": "python",
   "name": "python3"
  },
  "language_info": {
   "codemirror_mode": {
    "name": "ipython",
    "version": 3
   },
   "file_extension": ".py",
   "mimetype": "text/x-python",
   "name": "python",
   "nbconvert_exporter": "python",
   "pygments_lexer": "ipython3",
   "version": "3.11.5"
  }
 },
 "nbformat": 4,
 "nbformat_minor": 5
}
