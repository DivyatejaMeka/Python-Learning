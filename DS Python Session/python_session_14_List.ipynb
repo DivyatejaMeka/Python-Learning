{
 "cells": [
  {
   "cell_type": "markdown",
   "id": "ddd6e713",
   "metadata": {},
   "source": [
    "- initialization\n",
    "- inbuilt functions\n",
    "- min\n",
    "- max\n",
    "- len\n",
    "- sorted\n",
    "- reversed\n",
    "- print\n",
    "- type\n",
    "- index operations(for loop range vs in)\n",
    "- mutable vs immutable\n",
    "- concatenation\n",
    "- slicing \n",
    "- list methods"
   ]
  },
  {
   "cell_type": "markdown",
   "id": "526becc9",
   "metadata": {},
   "source": [
    "- strings denoted with quotes\n",
    "- list denoted with square brackets\n",
    "- list means array of elements\n",
    "- list can access any data type together"
   ]
  },
  {
   "cell_type": "code",
   "execution_count": 2,
   "id": "ae7a0e8d",
   "metadata": {},
   "outputs": [
    {
     "data": {
      "text/plain": [
       "[1, 2, 3, 4]"
      ]
     },
     "execution_count": 2,
     "metadata": {},
     "output_type": "execute_result"
    }
   ],
   "source": [
    "l1 = [1,2,3,4]\n",
    "l1"
   ]
  },
  {
   "cell_type": "code",
   "execution_count": 3,
   "id": "1741e736",
   "metadata": {},
   "outputs": [
    {
     "data": {
      "text/plain": [
       "list"
      ]
     },
     "execution_count": 3,
     "metadata": {},
     "output_type": "execute_result"
    }
   ],
   "source": [
    "type(l1)"
   ]
  },
  {
   "cell_type": "code",
   "execution_count": 4,
   "id": "16c91974",
   "metadata": {},
   "outputs": [
    {
     "data": {
      "text/plain": [
       "['a', 'b', 'c']"
      ]
     },
     "execution_count": 4,
     "metadata": {},
     "output_type": "execute_result"
    }
   ],
   "source": [
    "l2 = [\"a\",\"b\",\"c\"]\n",
    "l2"
   ]
  },
  {
   "cell_type": "code",
   "execution_count": 5,
   "id": "ecfa9e38",
   "metadata": {},
   "outputs": [
    {
     "data": {
      "text/plain": [
       "[1, 2, 3, 4, 'a', 'b', 'c']"
      ]
     },
     "execution_count": 5,
     "metadata": {},
     "output_type": "execute_result"
    }
   ],
   "source": [
    "l3 = [1,2,3,4,'a','b','c']\n",
    "l3"
   ]
  },
  {
   "cell_type": "code",
   "execution_count": 7,
   "id": "b7d6e8dd",
   "metadata": {},
   "outputs": [
    {
     "data": {
      "text/plain": [
       "[1, 2, 3, 4, 5, '!', '@', '$', '%', '^', '&', 'A', 'AA', True, False]"
      ]
     },
     "execution_count": 7,
     "metadata": {},
     "output_type": "execute_result"
    }
   ],
   "source": [
    "l4 = [1,2,3,4,5,\"!\",\"@\",\"$\",\"%\",\"^\",\"&\",\"A\",\"AA\",True,False]\n",
    "l4"
   ]
  },
  {
   "cell_type": "code",
   "execution_count": 10,
   "id": "d2e88120",
   "metadata": {},
   "outputs": [
    {
     "data": {
      "text/plain": [
       "[[]]"
      ]
     },
     "execution_count": 10,
     "metadata": {},
     "output_type": "execute_result"
    }
   ],
   "source": [
    "l5 = [[]]\n",
    "l5"
   ]
  },
  {
   "cell_type": "code",
   "execution_count": 12,
   "id": "5ae18784",
   "metadata": {},
   "outputs": [
    {
     "data": {
      "text/plain": [
       "[[[]]]"
      ]
     },
     "execution_count": 12,
     "metadata": {},
     "output_type": "execute_result"
    }
   ],
   "source": [
    "l6 = [_]\n",
    "l6"
   ]
  },
  {
   "cell_type": "markdown",
   "id": "7fa62213",
   "metadata": {},
   "source": [
    "- list can access with square brackets\n",
    "- list can have any data type of elements\n",
    "    - Heterogeneous\n",
    "- list can have duplicates\n",
    "- list in list is possible\n",
    "- empty list can also be possible\n",
    "- the values inside list is called as elements"
   ]
  },
  {
   "cell_type": "code",
   "execution_count": 44,
   "id": "70d94704",
   "metadata": {},
   "outputs": [
    {
     "data": {
      "text/plain": [
       "(1, 4)"
      ]
     },
     "execution_count": 44,
     "metadata": {},
     "output_type": "execute_result"
    }
   ],
   "source": [
    "min(l1), max(l1)"
   ]
  },
  {
   "cell_type": "code",
   "execution_count": 45,
   "id": "35867d65",
   "metadata": {},
   "outputs": [
    {
     "data": {
      "text/plain": [
       "('c', 'a')"
      ]
     },
     "execution_count": 45,
     "metadata": {},
     "output_type": "execute_result"
    }
   ],
   "source": [
    "max(l2), min(l2)"
   ]
  },
  {
   "cell_type": "code",
   "execution_count": 40,
   "id": "272b9125",
   "metadata": {},
   "outputs": [
    {
     "data": {
      "text/plain": [
       "15"
      ]
     },
     "execution_count": 40,
     "metadata": {},
     "output_type": "execute_result"
    }
   ],
   "source": [
    "len(l4)"
   ]
  },
  {
   "cell_type": "code",
   "execution_count": 41,
   "id": "8d5e89d6",
   "metadata": {},
   "outputs": [
    {
     "ename": "TypeError",
     "evalue": "'<' not supported between instances of 'str' and 'int'",
     "output_type": "error",
     "traceback": [
      "\u001b[1;31m---------------------------------------------------------------------------\u001b[0m",
      "\u001b[1;31mTypeError\u001b[0m                                 Traceback (most recent call last)",
      "Cell \u001b[1;32mIn[41], line 1\u001b[0m\n\u001b[1;32m----> 1\u001b[0m \u001b[38;5;28msorted\u001b[39m(l4)\n",
      "\u001b[1;31mTypeError\u001b[0m: '<' not supported between instances of 'str' and 'int'"
     ]
    }
   ],
   "source": [
    "sorted(l4)"
   ]
  },
  {
   "cell_type": "code",
   "execution_count": 38,
   "id": "5f3acd1a",
   "metadata": {},
   "outputs": [
    {
     "name": "stdout",
     "output_type": "stream",
     "text": [
      "[False, True, 'AA', 'A', '&', '^', '%', '$', '@', '!', 5, 4, 3, 2, 1]\n",
      "[False, True, 'AA', 'A', '&', '^', '%', '$', '@', '!', 5, 4, 3, 2, 1]\n",
      "[False, True, 'AA', 'A', '&', '^', '%', '$', '@', '!', 5, 4, 3, 2, 1]\n",
      "[False, True, 'AA', 'A', '&', '^', '%', '$', '@', '!', 5, 4, 3, 2, 1]\n",
      "[False, True, 'AA', 'A', '&', '^', '%', '$', '@', '!', 5, 4, 3, 2, 1]\n",
      "[False, True, 'AA', 'A', '&', '^', '%', '$', '@', '!', 5, 4, 3, 2, 1]\n",
      "[False, True, 'AA', 'A', '&', '^', '%', '$', '@', '!', 5, 4, 3, 2, 1]\n",
      "[False, True, 'AA', 'A', '&', '^', '%', '$', '@', '!', 5, 4, 3, 2, 1]\n",
      "[False, True, 'AA', 'A', '&', '^', '%', '$', '@', '!', 5, 4, 3, 2, 1]\n",
      "[False, True, 'AA', 'A', '&', '^', '%', '$', '@', '!', 5, 4, 3, 2, 1]\n",
      "[False, True, 'AA', 'A', '&', '^', '%', '$', '@', '!', 5, 4, 3, 2, 1]\n",
      "[False, True, 'AA', 'A', '&', '^', '%', '$', '@', '!', 5, 4, 3, 2, 1]\n",
      "[False, True, 'AA', 'A', '&', '^', '%', '$', '@', '!', 5, 4, 3, 2, 1]\n",
      "[False, True, 'AA', 'A', '&', '^', '%', '$', '@', '!', 5, 4, 3, 2, 1]\n",
      "[False, True, 'AA', 'A', '&', '^', '%', '$', '@', '!', 5, 4, 3, 2, 1]\n"
     ]
    }
   ],
   "source": [
    "a = list(reversed(l4))\n",
    "for x in a:\n",
    "    print(a)"
   ]
  },
  {
   "cell_type": "code",
   "execution_count": 46,
   "id": "3ec90cd5",
   "metadata": {},
   "outputs": [
    {
     "data": {
      "text/plain": [
       "[1, 2, 3, 4, 5, '!', '@', '$', '%', '^', '&', 'A', 'AA', True, False]"
      ]
     },
     "execution_count": 46,
     "metadata": {},
     "output_type": "execute_result"
    }
   ],
   "source": [
    "l1 #works\n",
    "l2 #works\n",
    "l3 #Hetero not works\n",
    "l4 #NW"
   ]
  },
  {
   "cell_type": "markdown",
   "id": "8b97af78",
   "metadata": {},
   "source": [
    "- sorted will compare the elements\n",
    "- the same rules applicable for min and max\n",
    "- sorted never return any error eventhough we have an empty list\n",
    "- min and max will five error if it has empty list\n",
    "- reversed only do reverse elements"
   ]
  },
  {
   "cell_type": "markdown",
   "id": "2411fe35",
   "metadata": {},
   "source": [
    "min/max/sorted/reversed/len"
   ]
  },
  {
   "cell_type": "markdown",
   "id": "0063b958",
   "metadata": {},
   "source": [
    "**sum**"
   ]
  },
  {
   "cell_type": "code",
   "execution_count": 47,
   "id": "45eb5716",
   "metadata": {},
   "outputs": [
    {
     "data": {
      "text/plain": [
       "600"
      ]
     },
     "execution_count": 47,
     "metadata": {},
     "output_type": "execute_result"
    }
   ],
   "source": [
    "sum([100,200,300])"
   ]
  },
  {
   "cell_type": "code",
   "execution_count": 48,
   "id": "e13d9048",
   "metadata": {},
   "outputs": [
    {
     "ename": "TypeError",
     "evalue": "unsupported operand type(s) for +: 'int' and 'str'",
     "output_type": "error",
     "traceback": [
      "\u001b[1;31m---------------------------------------------------------------------------\u001b[0m",
      "\u001b[1;31mTypeError\u001b[0m                                 Traceback (most recent call last)",
      "Cell \u001b[1;32mIn[48], line 1\u001b[0m\n\u001b[1;32m----> 1\u001b[0m \u001b[38;5;28msum\u001b[39m([\u001b[38;5;124m\"\u001b[39m\u001b[38;5;124mA\u001b[39m\u001b[38;5;124m\"\u001b[39m,\u001b[38;5;124m\"\u001b[39m\u001b[38;5;124mB\u001b[39m\u001b[38;5;124m\"\u001b[39m,\u001b[38;5;124m\"\u001b[39m\u001b[38;5;124mC\u001b[39m\u001b[38;5;124m\"\u001b[39m])\n",
      "\u001b[1;31mTypeError\u001b[0m: unsupported operand type(s) for +: 'int' and 'str'"
     ]
    }
   ],
   "source": [
    "sum([\"A\",\"B\",\"C\"])"
   ]
  },
  {
   "cell_type": "code",
   "execution_count": 49,
   "id": "2438959f",
   "metadata": {},
   "outputs": [
    {
     "data": {
      "text/plain": [
       "700"
      ]
     },
     "execution_count": 49,
     "metadata": {},
     "output_type": "execute_result"
    }
   ],
   "source": [
    "sum([100,200,300],start=100)"
   ]
  },
  {
   "cell_type": "code",
   "execution_count": 50,
   "id": "ff819c4a",
   "metadata": {},
   "outputs": [
    {
     "data": {
      "text/plain": [
       "0"
      ]
     },
     "execution_count": 50,
     "metadata": {},
     "output_type": "execute_result"
    }
   ],
   "source": [
    "sum([])"
   ]
  },
  {
   "cell_type": "markdown",
   "id": "0860cc5c",
   "metadata": {},
   "source": [
    "**index**"
   ]
  },
  {
   "cell_type": "code",
   "execution_count": 51,
   "id": "17cfbbbd",
   "metadata": {},
   "outputs": [],
   "source": [
    "l1 = [1,2,3,4,'A','B','C']\n",
    "\n",
    "# -7 -6 -5 -4 -3  -2  -1\n",
    "#[ 1, 2, 3, 4,\"A\",\"B\",\"C\"]\n",
    "#  0  1  2  3  4   5   6"
   ]
  },
  {
   "cell_type": "code",
   "execution_count": 52,
   "id": "8b3e8ef9",
   "metadata": {},
   "outputs": [
    {
     "data": {
      "text/plain": [
       "(1, 1)"
      ]
     },
     "execution_count": 52,
     "metadata": {},
     "output_type": "execute_result"
    }
   ],
   "source": [
    "l1[0],l1[-7]"
   ]
  },
  {
   "cell_type": "code",
   "execution_count": 53,
   "id": "1df5dacc",
   "metadata": {},
   "outputs": [],
   "source": [
    "# by using for loop print the positive index\n",
    "# by using for loop print the negative index\n",
    "# by using for loop print both positive and negative index"
   ]
  },
  {
   "cell_type": "code",
   "execution_count": 54,
   "id": "84eecd29",
   "metadata": {},
   "outputs": [
    {
     "name": "stdout",
     "output_type": "stream",
     "text": [
      "Positive Indices:\n",
      "Index 0: 1\n",
      "Index 1: 2\n",
      "Index 2: 3\n",
      "Index 3: 4\n",
      "Index 4: A\n",
      "Index 5: B\n",
      "Index 6: C\n"
     ]
    }
   ],
   "source": [
    "l1 = [1,2,3,4,'A','B','C']\n",
    "print(\"Positive Indices:\")\n",
    "for i in range(len(l1)):\n",
    "    print(f\"Index {i}: {l1[i]}\")"
   ]
  },
  {
   "cell_type": "code",
   "execution_count": 55,
   "id": "a729e96e",
   "metadata": {},
   "outputs": [
    {
     "name": "stdout",
     "output_type": "stream",
     "text": [
      "Index -7: 1\n",
      "Index -6: 2\n",
      "Index -5: 3\n",
      "Index -4: 4\n",
      "Index -3: A\n",
      "Index -2: B\n",
      "Index -1: C\n"
     ]
    }
   ],
   "source": [
    "for i in range(-len(l1),0):\n",
    "    print(f\"Index {i}: {l1[i]}\")"
   ]
  },
  {
   "cell_type": "code",
   "execution_count": 59,
   "id": "b9dd9afd",
   "metadata": {},
   "outputs": [
    {
     "name": "stdout",
     "output_type": "stream",
     "text": [
      "Positive Indices:\n",
      "Positive Index 0: 1, Negative Index -7: 1 \n",
      "Positive Index 1: 2, Negative Index -6: 2 \n",
      "Positive Index 2: 3, Negative Index -5: 3 \n",
      "Positive Index 3: 4, Negative Index -4: 4 \n",
      "Positive Index 4: A, Negative Index -3: A \n",
      "Positive Index 5: B, Negative Index -2: B \n",
      "Positive Index 6: C, Negative Index -1: C \n"
     ]
    }
   ],
   "source": [
    "print(\"Positive Indices:\")\n",
    "for i in range(len(l1)):\n",
    "    pos = i\n",
    "    neg = i - len(l1)\n",
    "    print(f\"Positive Index {pos}: {l1[pos]}, Negative Index {neg}: {l1[pos]} \")"
   ]
  },
  {
   "cell_type": "code",
   "execution_count": 60,
   "id": "18815de8",
   "metadata": {},
   "outputs": [
    {
     "data": {
      "text/plain": [
       "1"
      ]
     },
     "execution_count": 60,
     "metadata": {},
     "output_type": "execute_result"
    }
   ],
   "source": [
    "l = [[10,20,30]]\n",
    "len(l)"
   ]
  },
  {
   "cell_type": "code",
   "execution_count": 63,
   "id": "40934bdf",
   "metadata": {},
   "outputs": [
    {
     "data": {
      "text/plain": [
       "(10, 20, 30)"
      ]
     },
     "execution_count": 63,
     "metadata": {},
     "output_type": "execute_result"
    }
   ],
   "source": [
    "l[0][0],l[0][1],l[0][2]"
   ]
  },
  {
   "cell_type": "code",
   "execution_count": 66,
   "id": "1baf9036",
   "metadata": {},
   "outputs": [
    {
     "data": {
      "text/plain": [
       "'A'"
      ]
     },
     "execution_count": 66,
     "metadata": {},
     "output_type": "execute_result"
    }
   ],
   "source": [
    "l1 = [10,20,['A','B']]\n",
    "# retrieve the A\n",
    "# how many elements are there: 3\n",
    "len(l1)\n",
    "l1[2][0]"
   ]
  },
  {
   "cell_type": "code",
   "execution_count": 80,
   "id": "05a294eb",
   "metadata": {},
   "outputs": [
    {
     "data": {
      "text/plain": [
       "5"
      ]
     },
     "execution_count": 80,
     "metadata": {},
     "output_type": "execute_result"
    }
   ],
   "source": [
    "l1 = [1,2,3,4,[5,6,[\"Apple\"]]]\n",
    "len(l1)"
   ]
  },
  {
   "cell_type": "markdown",
   "id": "45c6629f",
   "metadata": {},
   "source": [
    "**slicing**"
   ]
  },
  {
   "cell_type": "code",
   "execution_count": 2,
   "id": "0a4707b5",
   "metadata": {},
   "outputs": [
    {
     "data": {
      "text/plain": [
       "[]"
      ]
     },
     "execution_count": 2,
     "metadata": {},
     "output_type": "execute_result"
    }
   ],
   "source": [
    "l1 = [1,2,3,4,5,'A','B','C','D','10.5',True,10.5,100,200]\n",
    "l1[:] #Same list\n",
    "l1[::] # same list\n",
    "l1[::-1] # reverse list\n",
    "l1[2:14:2] # works\n",
    "l1[2:14:-2] # not works\n",
    "l1[2:-14:2] # not works\n",
    "l1[-2:14:2] # works\n",
    "l1[-2:-14:-2] # works\n",
    "l1[14:2:2] # not works"
   ]
  },
  {
   "cell_type": "markdown",
   "id": "fbdfebba",
   "metadata": {},
   "source": [
    "**Methods**"
   ]
  },
  {
   "cell_type": "code",
   "execution_count": 3,
   "id": "6e45e503",
   "metadata": {},
   "outputs": [
    {
     "data": {
      "text/plain": [
       "['__add__',\n",
       " '__class__',\n",
       " '__contains__',\n",
       " '__delattr__',\n",
       " '__dir__',\n",
       " '__doc__',\n",
       " '__eq__',\n",
       " '__format__',\n",
       " '__ge__',\n",
       " '__getattribute__',\n",
       " '__getitem__',\n",
       " '__getnewargs__',\n",
       " '__getstate__',\n",
       " '__gt__',\n",
       " '__hash__',\n",
       " '__init__',\n",
       " '__init_subclass__',\n",
       " '__iter__',\n",
       " '__le__',\n",
       " '__len__',\n",
       " '__lt__',\n",
       " '__mod__',\n",
       " '__mul__',\n",
       " '__ne__',\n",
       " '__new__',\n",
       " '__reduce__',\n",
       " '__reduce_ex__',\n",
       " '__repr__',\n",
       " '__rmod__',\n",
       " '__rmul__',\n",
       " '__setattr__',\n",
       " '__sizeof__',\n",
       " '__str__',\n",
       " '__subclasshook__',\n",
       " 'capitalize',\n",
       " 'casefold',\n",
       " 'center',\n",
       " 'count',\n",
       " 'encode',\n",
       " 'endswith',\n",
       " 'expandtabs',\n",
       " 'find',\n",
       " 'format',\n",
       " 'format_map',\n",
       " 'index',\n",
       " 'isalnum',\n",
       " 'isalpha',\n",
       " 'isascii',\n",
       " 'isdecimal',\n",
       " 'isdigit',\n",
       " 'isidentifier',\n",
       " 'islower',\n",
       " 'isnumeric',\n",
       " 'isprintable',\n",
       " 'isspace',\n",
       " 'istitle',\n",
       " 'isupper',\n",
       " 'join',\n",
       " 'ljust',\n",
       " 'lower',\n",
       " 'lstrip',\n",
       " 'maketrans',\n",
       " 'partition',\n",
       " 'removeprefix',\n",
       " 'removesuffix',\n",
       " 'replace',\n",
       " 'rfind',\n",
       " 'rindex',\n",
       " 'rjust',\n",
       " 'rpartition',\n",
       " 'rsplit',\n",
       " 'rstrip',\n",
       " 'split',\n",
       " 'splitlines',\n",
       " 'startswith',\n",
       " 'strip',\n",
       " 'swapcase',\n",
       " 'title',\n",
       " 'translate',\n",
       " 'upper',\n",
       " 'zfill']"
      ]
     },
     "execution_count": 3,
     "metadata": {},
     "output_type": "execute_result"
    }
   ],
   "source": [
    "dir('')"
   ]
  },
  {
   "cell_type": "code",
   "execution_count": 4,
   "id": "7a5aea6f",
   "metadata": {},
   "outputs": [
    {
     "data": {
      "text/plain": [
       "['__add__',\n",
       " '__class__',\n",
       " '__class_getitem__',\n",
       " '__contains__',\n",
       " '__delattr__',\n",
       " '__delitem__',\n",
       " '__dir__',\n",
       " '__doc__',\n",
       " '__eq__',\n",
       " '__format__',\n",
       " '__ge__',\n",
       " '__getattribute__',\n",
       " '__getitem__',\n",
       " '__getstate__',\n",
       " '__gt__',\n",
       " '__hash__',\n",
       " '__iadd__',\n",
       " '__imul__',\n",
       " '__init__',\n",
       " '__init_subclass__',\n",
       " '__iter__',\n",
       " '__le__',\n",
       " '__len__',\n",
       " '__lt__',\n",
       " '__mul__',\n",
       " '__ne__',\n",
       " '__new__',\n",
       " '__reduce__',\n",
       " '__reduce_ex__',\n",
       " '__repr__',\n",
       " '__reversed__',\n",
       " '__rmul__',\n",
       " '__setattr__',\n",
       " '__setitem__',\n",
       " '__sizeof__',\n",
       " '__str__',\n",
       " '__subclasshook__',\n",
       " 'append',\n",
       " 'clear',\n",
       " 'copy',\n",
       " 'count',\n",
       " 'extend',\n",
       " 'index',\n",
       " 'insert',\n",
       " 'pop',\n",
       " 'remove',\n",
       " 'reverse',\n",
       " 'sort']"
      ]
     },
     "execution_count": 4,
     "metadata": {},
     "output_type": "execute_result"
    }
   ],
   "source": [
    "dir([])"
   ]
  },
  {
   "cell_type": "markdown",
   "id": "f8d88717",
   "metadata": {},
   "source": [
    "- clear\n",
    "- copy\n",
    "- count\n",
    "- reverse\n",
    "- sort"
   ]
  },
  {
   "cell_type": "code",
   "execution_count": 6,
   "id": "042b79a9",
   "metadata": {},
   "outputs": [
    {
     "data": {
      "text/plain": [
       "[10, 20, 30, 40]"
      ]
     },
     "execution_count": 6,
     "metadata": {},
     "output_type": "execute_result"
    }
   ],
   "source": [
    "l1=[10,20,30,40]\n",
    "l1"
   ]
  },
  {
   "cell_type": "markdown",
   "id": "d322583a",
   "metadata": {},
   "source": [
    "**clear**"
   ]
  },
  {
   "cell_type": "code",
   "execution_count": 8,
   "id": "2cecb8f6",
   "metadata": {},
   "outputs": [
    {
     "data": {
      "text/plain": [
       "[]"
      ]
     },
     "execution_count": 8,
     "metadata": {},
     "output_type": "execute_result"
    }
   ],
   "source": [
    "l1.clear()\n",
    "l1"
   ]
  },
  {
   "cell_type": "markdown",
   "id": "c933ef30",
   "metadata": {},
   "source": [
    "**copy**"
   ]
  },
  {
   "cell_type": "code",
   "execution_count": 10,
   "id": "88400dfd",
   "metadata": {},
   "outputs": [
    {
     "name": "stdout",
     "output_type": "stream",
     "text": [
      "l2: [10, 20, 30, 40]\n",
      "l1: []\n"
     ]
    }
   ],
   "source": [
    "l1=[10,20,30,40]\n",
    "l2 = l1.copy()\n",
    "l1.clear()\n",
    "print('l2:',l2)\n",
    "print('l1:',l1)"
   ]
  },
  {
   "cell_type": "markdown",
   "id": "781dd270",
   "metadata": {},
   "source": [
    "**reverse vs reversed**\n",
    "- reversed is a inbuild function\n",
    "- reverse can be applicable all **iterable**\n",
    "- reversed can be applicable for **strings,list,tuple,dict etc**\n",
    "- reversed(string), reversed(list), reversed(tuple) etc\n",
    "\n",
    "**reverse**\n",
    "- reverse is a method belongs to only list\n",
    "- reverse method cannot be applicable to strings,tuple, and dict\n",
    "- list.reverse()"
   ]
  },
  {
   "cell_type": "code",
   "execution_count": 12,
   "id": "b2a075aa",
   "metadata": {},
   "outputs": [
    {
     "data": {
      "text/plain": [
       "[40, 30, 20, 10]"
      ]
     },
     "execution_count": 12,
     "metadata": {},
     "output_type": "execute_result"
    }
   ],
   "source": [
    "l1 = [10,20,30,40]\n",
    "l1.reverse()\n",
    "l1"
   ]
  },
  {
   "cell_type": "code",
   "execution_count": 13,
   "id": "2cf8df23",
   "metadata": {},
   "outputs": [
    {
     "ename": "AttributeError",
     "evalue": "'str' object has no attribute 'reverse'",
     "output_type": "error",
     "traceback": [
      "\u001b[1;31m---------------------------------------------------------------------------\u001b[0m",
      "\u001b[1;31mAttributeError\u001b[0m                            Traceback (most recent call last)",
      "Cell \u001b[1;32mIn[13], line 2\u001b[0m\n\u001b[0;32m      1\u001b[0m str1\u001b[38;5;241m=\u001b[39m\u001b[38;5;124m\"\u001b[39m\u001b[38;5;124mhello how are you\u001b[39m\u001b[38;5;124m\"\u001b[39m\n\u001b[1;32m----> 2\u001b[0m str1\u001b[38;5;241m.\u001b[39mreverse()\n",
      "\u001b[1;31mAttributeError\u001b[0m: 'str' object has no attribute 'reverse'"
     ]
    }
   ],
   "source": [
    "str1=\"hello how are you\"\n",
    "str1.reverse()"
   ]
  },
  {
   "cell_type": "markdown",
   "id": "7584fcca",
   "metadata": {},
   "source": [
    "**sort vs sorted**"
   ]
  },
  {
   "cell_type": "code",
   "execution_count": 14,
   "id": "bc9f824a",
   "metadata": {},
   "outputs": [
    {
     "data": {
      "text/plain": [
       "list"
      ]
     },
     "execution_count": 14,
     "metadata": {},
     "output_type": "execute_result"
    }
   ],
   "source": [
    "type([]) # do not give list as variable"
   ]
  },
  {
   "cell_type": "code",
   "execution_count": 15,
   "id": "6fa6d49c",
   "metadata": {},
   "outputs": [
    {
     "data": {
      "text/plain": [
       "[3, 5, 19, 25, 49]"
      ]
     },
     "execution_count": 15,
     "metadata": {},
     "output_type": "execute_result"
    }
   ],
   "source": [
    "l1 = [19,25,3,49,5]\n",
    "l1.sort()\n",
    "l1"
   ]
  },
  {
   "cell_type": "code",
   "execution_count": 18,
   "id": "76c6e708",
   "metadata": {},
   "outputs": [
    {
     "data": {
      "text/plain": [
       "[3, 5, 19, 25, 49]"
      ]
     },
     "execution_count": 18,
     "metadata": {},
     "output_type": "execute_result"
    }
   ],
   "source": [
    "sorted(l1)"
   ]
  },
  {
   "cell_type": "raw",
   "id": "c3f75dee",
   "metadata": {},
   "source": [
    "sorted(string) #works\n",
    "sorted(list) #works\n",
    "\n",
    "list.sort() #works\n",
    "string.sort() #works"
   ]
  },
  {
   "cell_type": "markdown",
   "id": "0dc4e810",
   "metadata": {},
   "source": [
    "**append**\n",
    "- append means add an element at the end of the list\n",
    "- append is a method very important\n",
    "- append is used to store the outputs in a list\n",
    "- till last class we just printed all the outputs\n",
    "- if we want to save the outputs we need to do append only"
   ]
  },
  {
   "cell_type": "code",
   "execution_count": 21,
   "id": "0419760d",
   "metadata": {},
   "outputs": [
    {
     "data": {
      "text/plain": [
       "[10]"
      ]
     },
     "execution_count": 21,
     "metadata": {},
     "output_type": "execute_result"
    }
   ],
   "source": [
    "# empty list \n",
    "l1=[]\n",
    "l1.append(10)\n",
    "l1"
   ]
  },
  {
   "cell_type": "code",
   "execution_count": 23,
   "id": "673e244b",
   "metadata": {},
   "outputs": [
    {
     "data": {
      "text/plain": [
       "[1, 2, 3, 'Apple', [True, False]]"
      ]
     },
     "execution_count": 23,
     "metadata": {},
     "output_type": "execute_result"
    }
   ],
   "source": [
    "l1=[1,2,3]\n",
    "l1.append('Apple')\n",
    "l1.append([True,False])\n",
    "l1"
   ]
  },
  {
   "cell_type": "code",
   "execution_count": 24,
   "id": "1a7cbe60",
   "metadata": {},
   "outputs": [
    {
     "name": "stdout",
     "output_type": "stream",
     "text": [
      "1\n",
      "2\n",
      "3\n",
      "4\n",
      "5\n",
      "6\n",
      "7\n",
      "8\n",
      "9\n",
      "10\n"
     ]
    }
   ],
   "source": [
    "l1=[]\n",
    "for i in range(1,11):\n",
    "    print(i)"
   ]
  },
  {
   "cell_type": "code",
   "execution_count": 28,
   "id": "c426690f",
   "metadata": {},
   "outputs": [
    {
     "data": {
      "text/plain": [
       "[1, 2, 3, 4, 5, 6, 7, 8, 9, 10]"
      ]
     },
     "execution_count": 28,
     "metadata": {},
     "output_type": "execute_result"
    }
   ],
   "source": [
    "l1=[]\n",
    "for i in range(1,11):\n",
    "    l1.append(i)\n",
    "l1"
   ]
  },
  {
   "cell_type": "code",
   "execution_count": 33,
   "id": "d6715e24",
   "metadata": {},
   "outputs": [
    {
     "data": {
      "text/plain": [
       "[729, 7225, 2304, 2500, 361]"
      ]
     },
     "execution_count": 33,
     "metadata": {},
     "output_type": "execute_result"
    }
   ],
   "source": [
    "import random\n",
    "l1=[]\n",
    "for i in range(5):\n",
    "    num = random.randint(1,100)\n",
    "    l1.append(num*num)\n",
    "l1"
   ]
  },
  {
   "cell_type": "code",
   "execution_count": 34,
   "id": "ee3b51b9",
   "metadata": {},
   "outputs": [
    {
     "data": {
      "text/plain": [
       "['31:961', '42:1764', '98:9604', '62:3844', '89:7921']"
      ]
     },
     "execution_count": 34,
     "metadata": {},
     "output_type": "execute_result"
    }
   ],
   "source": [
    "import random\n",
    "l1=[]\n",
    "for i in range(5):\n",
    "    num = random.randint(1,100)\n",
    "    l1.append(f\"{num}:{num*num}\")\n",
    "l1"
   ]
  },
  {
   "cell_type": "code",
   "execution_count": 55,
   "id": "f0c0fe58",
   "metadata": {},
   "outputs": [
    {
     "data": {
      "text/plain": [
       "([20, 38, 52, 100], [27, 47, 67])"
      ]
     },
     "execution_count": 55,
     "metadata": {},
     "output_type": "execute_result"
    }
   ],
   "source": [
    "l1=[100,20,27,38,47,52,67]\n",
    "l2,l3=[],[]\n",
    "for i in l1:\n",
    "    if i%2 == 0:\n",
    "        l2.append(i)\n",
    "    else:\n",
    "        l3.append(i)\n",
    "l2.sort()\n",
    "l3.sort()\n",
    "l2,l3"
   ]
  },
  {
   "cell_type": "code",
   "execution_count": 57,
   "id": "e7af0493",
   "metadata": {},
   "outputs": [],
   "source": [
    "#Q4) l1=['hyd','chennai','mumbai','pune']\n",
    "#    ans=['Hyd','Chennai','Mumbai','Pune']\n",
    "#Q5) l1=['hyd','chennai','mumbai','pune']\n",
    "#    ans=['HYD','CHENNAI','MUMBAI','PUNE']\n",
    "#Q6) l1=['hyd','chen#ai','mu#bai','pune']\n",
    "#    ans=['chen#ai','mu#bai']\n",
    "#Q7) l1=['hyd','chennai','mumbai','pune']\n",
    "#    ans=['hyd','pune']\n",
    "#Q8) str1=\"hello hai how are you\"\n",
    "#    ans=['Hello','Hai','How','Are','You']\n",
    "#Q9) str1='virat.kohli@rcb.com; rohit.sharma@mi.com; dhoni.ms@csk.com'\n",
    "#    fname=['virat','rohit','dhoni']\n",
    "#    sname=['kohli','sharma','ms']\n",
    "#    cname=['rcb','mi','csk']\n",
    "#Q10)get the 7 random numbers between 1-100 in a list \n",
    "#    find the min and max value without using min() and max()\n",
    "#Q11)str1='can canner can not can you canner can be can you can not'\n",
    "#    list=['can-6','canner-2','not-2','you-2','be-1']\n",
    "#Q12)qns=['who is pm of india','who is ICT cricket captain','what is the capital of india']\n",
    "#    ans=['modi','rohit','delhi']\n",
    "#    step-1: iterate through each question\n",
    "#    step-2: user will enter the answer\n",
    "#           check-1: the user is given 'MODI' correct answer\n",
    "#           check-2: qns index and ans index must match\n",
    "#    step-3: count_marks=0 at the top\n",
    "#    step-4: for every correct answer 1 marks\n",
    "#    step-5: how many correct answers and total marks"
   ]
  },
  {
   "cell_type": "code",
   "execution_count": null,
   "id": "96cc0657",
   "metadata": {},
   "outputs": [],
   "source": []
  }
 ],
 "metadata": {
  "kernelspec": {
   "display_name": "Python 3 (ipykernel)",
   "language": "python",
   "name": "python3"
  },
  "language_info": {
   "codemirror_mode": {
    "name": "ipython",
    "version": 3
   },
   "file_extension": ".py",
   "mimetype": "text/x-python",
   "name": "python",
   "nbconvert_exporter": "python",
   "pygments_lexer": "ipython3",
   "version": "3.11.5"
  }
 },
 "nbformat": 4,
 "nbformat_minor": 5
}
