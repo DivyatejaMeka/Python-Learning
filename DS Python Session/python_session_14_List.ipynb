{
 "cells": [
  {
   "cell_type": "markdown",
   "id": "ddd6e713",
   "metadata": {},
   "source": [
    "- initialization\n",
    "- inbuilt functions\n",
    "- min\n",
    "- max\n",
    "- len\n",
    "- sorted\n",
    "- reversed\n",
    "- print\n",
    "- type\n",
    "- index operations(for loop range vs in)\n",
    "- mutable vs immutable\n",
    "- concatenation\n",
    "- slicing \n",
    "- list methods"
   ]
  },
  {
   "cell_type": "markdown",
   "id": "526becc9",
   "metadata": {},
   "source": [
    "- strings denoted with quotes\n",
    "- list denoted with square brackets\n",
    "- list means array of elements\n",
    "- list can access any data type together"
   ]
  },
  {
   "cell_type": "code",
   "execution_count": 2,
   "id": "ae7a0e8d",
   "metadata": {},
   "outputs": [
    {
     "data": {
      "text/plain": [
       "[1, 2, 3, 4]"
      ]
     },
     "execution_count": 2,
     "metadata": {},
     "output_type": "execute_result"
    }
   ],
   "source": [
    "l1 = [1,2,3,4]\n",
    "l1"
   ]
  },
  {
   "cell_type": "code",
   "execution_count": 3,
   "id": "1741e736",
   "metadata": {},
   "outputs": [
    {
     "data": {
      "text/plain": [
       "list"
      ]
     },
     "execution_count": 3,
     "metadata": {},
     "output_type": "execute_result"
    }
   ],
   "source": [
    "type(l1)"
   ]
  },
  {
   "cell_type": "code",
   "execution_count": 4,
   "id": "16c91974",
   "metadata": {},
   "outputs": [
    {
     "data": {
      "text/plain": [
       "['a', 'b', 'c']"
      ]
     },
     "execution_count": 4,
     "metadata": {},
     "output_type": "execute_result"
    }
   ],
   "source": [
    "l2 = [\"a\",\"b\",\"c\"]\n",
    "l2"
   ]
  },
  {
   "cell_type": "code",
   "execution_count": 5,
   "id": "ecfa9e38",
   "metadata": {},
   "outputs": [
    {
     "data": {
      "text/plain": [
       "[1, 2, 3, 4, 'a', 'b', 'c']"
      ]
     },
     "execution_count": 5,
     "metadata": {},
     "output_type": "execute_result"
    }
   ],
   "source": [
    "l3 = [1,2,3,4,'a','b','c']\n",
    "l3"
   ]
  },
  {
   "cell_type": "code",
   "execution_count": 7,
   "id": "b7d6e8dd",
   "metadata": {},
   "outputs": [
    {
     "data": {
      "text/plain": [
       "[1, 2, 3, 4, 5, '!', '@', '$', '%', '^', '&', 'A', 'AA', True, False]"
      ]
     },
     "execution_count": 7,
     "metadata": {},
     "output_type": "execute_result"
    }
   ],
   "source": [
    "l4 = [1,2,3,4,5,\"!\",\"@\",\"$\",\"%\",\"^\",\"&\",\"A\",\"AA\",True,False]\n",
    "l4"
   ]
  },
  {
   "cell_type": "code",
   "execution_count": 10,
   "id": "d2e88120",
   "metadata": {},
   "outputs": [
    {
     "data": {
      "text/plain": [
       "[[]]"
      ]
     },
     "execution_count": 10,
     "metadata": {},
     "output_type": "execute_result"
    }
   ],
   "source": [
    "l5 = [[]]\n",
    "l5"
   ]
  },
  {
   "cell_type": "code",
   "execution_count": 12,
   "id": "5ae18784",
   "metadata": {},
   "outputs": [
    {
     "data": {
      "text/plain": [
       "[[[]]]"
      ]
     },
     "execution_count": 12,
     "metadata": {},
     "output_type": "execute_result"
    }
   ],
   "source": [
    "l6 = [_]\n",
    "l6"
   ]
  },
  {
   "cell_type": "markdown",
   "id": "7fa62213",
   "metadata": {},
   "source": [
    "- list can access with square brackets\n",
    "- list can have any data type of elements\n",
    "    - Heterogeneous\n",
    "- list can have duplicates\n",
    "- list in list is possible\n",
    "- empty list can also be possible\n",
    "- the values inside list is called as elements"
   ]
  },
  {
   "cell_type": "code",
   "execution_count": 44,
   "id": "70d94704",
   "metadata": {},
   "outputs": [
    {
     "data": {
      "text/plain": [
       "(1, 4)"
      ]
     },
     "execution_count": 44,
     "metadata": {},
     "output_type": "execute_result"
    }
   ],
   "source": [
    "min(l1), max(l1)"
   ]
  },
  {
   "cell_type": "code",
   "execution_count": 45,
   "id": "35867d65",
   "metadata": {},
   "outputs": [
    {
     "data": {
      "text/plain": [
       "('c', 'a')"
      ]
     },
     "execution_count": 45,
     "metadata": {},
     "output_type": "execute_result"
    }
   ],
   "source": [
    "max(l2), min(l2)"
   ]
  },
  {
   "cell_type": "code",
   "execution_count": 40,
   "id": "272b9125",
   "metadata": {},
   "outputs": [
    {
     "data": {
      "text/plain": [
       "15"
      ]
     },
     "execution_count": 40,
     "metadata": {},
     "output_type": "execute_result"
    }
   ],
   "source": [
    "len(l4)"
   ]
  },
  {
   "cell_type": "code",
   "execution_count": 41,
   "id": "8d5e89d6",
   "metadata": {},
   "outputs": [
    {
     "ename": "TypeError",
     "evalue": "'<' not supported between instances of 'str' and 'int'",
     "output_type": "error",
     "traceback": [
      "\u001b[1;31m---------------------------------------------------------------------------\u001b[0m",
      "\u001b[1;31mTypeError\u001b[0m                                 Traceback (most recent call last)",
      "Cell \u001b[1;32mIn[41], line 1\u001b[0m\n\u001b[1;32m----> 1\u001b[0m \u001b[38;5;28msorted\u001b[39m(l4)\n",
      "\u001b[1;31mTypeError\u001b[0m: '<' not supported between instances of 'str' and 'int'"
     ]
    }
   ],
   "source": [
    "sorted(l4)"
   ]
  },
  {
   "cell_type": "code",
   "execution_count": 38,
   "id": "5f3acd1a",
   "metadata": {},
   "outputs": [
    {
     "name": "stdout",
     "output_type": "stream",
     "text": [
      "[False, True, 'AA', 'A', '&', '^', '%', '$', '@', '!', 5, 4, 3, 2, 1]\n",
      "[False, True, 'AA', 'A', '&', '^', '%', '$', '@', '!', 5, 4, 3, 2, 1]\n",
      "[False, True, 'AA', 'A', '&', '^', '%', '$', '@', '!', 5, 4, 3, 2, 1]\n",
      "[False, True, 'AA', 'A', '&', '^', '%', '$', '@', '!', 5, 4, 3, 2, 1]\n",
      "[False, True, 'AA', 'A', '&', '^', '%', '$', '@', '!', 5, 4, 3, 2, 1]\n",
      "[False, True, 'AA', 'A', '&', '^', '%', '$', '@', '!', 5, 4, 3, 2, 1]\n",
      "[False, True, 'AA', 'A', '&', '^', '%', '$', '@', '!', 5, 4, 3, 2, 1]\n",
      "[False, True, 'AA', 'A', '&', '^', '%', '$', '@', '!', 5, 4, 3, 2, 1]\n",
      "[False, True, 'AA', 'A', '&', '^', '%', '$', '@', '!', 5, 4, 3, 2, 1]\n",
      "[False, True, 'AA', 'A', '&', '^', '%', '$', '@', '!', 5, 4, 3, 2, 1]\n",
      "[False, True, 'AA', 'A', '&', '^', '%', '$', '@', '!', 5, 4, 3, 2, 1]\n",
      "[False, True, 'AA', 'A', '&', '^', '%', '$', '@', '!', 5, 4, 3, 2, 1]\n",
      "[False, True, 'AA', 'A', '&', '^', '%', '$', '@', '!', 5, 4, 3, 2, 1]\n",
      "[False, True, 'AA', 'A', '&', '^', '%', '$', '@', '!', 5, 4, 3, 2, 1]\n",
      "[False, True, 'AA', 'A', '&', '^', '%', '$', '@', '!', 5, 4, 3, 2, 1]\n"
     ]
    }
   ],
   "source": [
    "a = list(reversed(l4))\n",
    "for x in a:\n",
    "    print(a)"
   ]
  },
  {
   "cell_type": "code",
   "execution_count": 46,
   "id": "3ec90cd5",
   "metadata": {},
   "outputs": [
    {
     "data": {
      "text/plain": [
       "[1, 2, 3, 4, 5, '!', '@', '$', '%', '^', '&', 'A', 'AA', True, False]"
      ]
     },
     "execution_count": 46,
     "metadata": {},
     "output_type": "execute_result"
    }
   ],
   "source": [
    "l1 #works\n",
    "l2 #works\n",
    "l3 #Hetero not works\n",
    "l4 #NW"
   ]
  },
  {
   "cell_type": "markdown",
   "id": "8b97af78",
   "metadata": {},
   "source": [
    "- sorted will compare the elements\n",
    "- the same rules applicable for min and max\n",
    "- sorted never return any error eventhough we have an empty list\n",
    "- min and max will five error if it has empty list\n",
    "- reversed only do reverse elements"
   ]
  },
  {
   "cell_type": "markdown",
   "id": "2411fe35",
   "metadata": {},
   "source": [
    "min/max/sorted/reversed/len"
   ]
  },
  {
   "cell_type": "markdown",
   "id": "0063b958",
   "metadata": {},
   "source": [
    "**sum**"
   ]
  },
  {
   "cell_type": "code",
   "execution_count": 47,
   "id": "45eb5716",
   "metadata": {},
   "outputs": [
    {
     "data": {
      "text/plain": [
       "600"
      ]
     },
     "execution_count": 47,
     "metadata": {},
     "output_type": "execute_result"
    }
   ],
   "source": [
    "sum([100,200,300])"
   ]
  },
  {
   "cell_type": "code",
   "execution_count": 48,
   "id": "e13d9048",
   "metadata": {},
   "outputs": [
    {
     "ename": "TypeError",
     "evalue": "unsupported operand type(s) for +: 'int' and 'str'",
     "output_type": "error",
     "traceback": [
      "\u001b[1;31m---------------------------------------------------------------------------\u001b[0m",
      "\u001b[1;31mTypeError\u001b[0m                                 Traceback (most recent call last)",
      "Cell \u001b[1;32mIn[48], line 1\u001b[0m\n\u001b[1;32m----> 1\u001b[0m \u001b[38;5;28msum\u001b[39m([\u001b[38;5;124m\"\u001b[39m\u001b[38;5;124mA\u001b[39m\u001b[38;5;124m\"\u001b[39m,\u001b[38;5;124m\"\u001b[39m\u001b[38;5;124mB\u001b[39m\u001b[38;5;124m\"\u001b[39m,\u001b[38;5;124m\"\u001b[39m\u001b[38;5;124mC\u001b[39m\u001b[38;5;124m\"\u001b[39m])\n",
      "\u001b[1;31mTypeError\u001b[0m: unsupported operand type(s) for +: 'int' and 'str'"
     ]
    }
   ],
   "source": [
    "sum([\"A\",\"B\",\"C\"])"
   ]
  },
  {
   "cell_type": "code",
   "execution_count": 49,
   "id": "2438959f",
   "metadata": {},
   "outputs": [
    {
     "data": {
      "text/plain": [
       "700"
      ]
     },
     "execution_count": 49,
     "metadata": {},
     "output_type": "execute_result"
    }
   ],
   "source": [
    "sum([100,200,300],start=100)"
   ]
  },
  {
   "cell_type": "code",
   "execution_count": 50,
   "id": "ff819c4a",
   "metadata": {},
   "outputs": [
    {
     "data": {
      "text/plain": [
       "0"
      ]
     },
     "execution_count": 50,
     "metadata": {},
     "output_type": "execute_result"
    }
   ],
   "source": [
    "sum([])"
   ]
  },
  {
   "cell_type": "markdown",
   "id": "0860cc5c",
   "metadata": {},
   "source": [
    "**index**"
   ]
  },
  {
   "cell_type": "code",
   "execution_count": 51,
   "id": "17cfbbbd",
   "metadata": {},
   "outputs": [],
   "source": [
    "l1 = [1,2,3,4,'A','B','C']\n",
    "\n",
    "# -7 -6 -5 -4 -3  -2  -1\n",
    "#[ 1, 2, 3, 4,\"A\",\"B\",\"C\"]\n",
    "#  0  1  2  3  4   5   6"
   ]
  },
  {
   "cell_type": "code",
   "execution_count": 52,
   "id": "8b3e8ef9",
   "metadata": {},
   "outputs": [
    {
     "data": {
      "text/plain": [
       "(1, 1)"
      ]
     },
     "execution_count": 52,
     "metadata": {},
     "output_type": "execute_result"
    }
   ],
   "source": [
    "l1[0],l1[-7]"
   ]
  },
  {
   "cell_type": "code",
   "execution_count": 53,
   "id": "1df5dacc",
   "metadata": {},
   "outputs": [],
   "source": [
    "# by using for loop print the positive index\n",
    "# by using for loop print the negative index\n",
    "# by using for loop print both positive and negative index"
   ]
  },
  {
   "cell_type": "code",
   "execution_count": 54,
   "id": "84eecd29",
   "metadata": {},
   "outputs": [
    {
     "name": "stdout",
     "output_type": "stream",
     "text": [
      "Positive Indices:\n",
      "Index 0: 1\n",
      "Index 1: 2\n",
      "Index 2: 3\n",
      "Index 3: 4\n",
      "Index 4: A\n",
      "Index 5: B\n",
      "Index 6: C\n"
     ]
    }
   ],
   "source": [
    "l1 = [1,2,3,4,'A','B','C']\n",
    "print(\"Positive Indices:\")\n",
    "for i in range(len(l1)):\n",
    "    print(f\"Index {i}: {l1[i]}\")"
   ]
  },
  {
   "cell_type": "code",
   "execution_count": 55,
   "id": "a729e96e",
   "metadata": {},
   "outputs": [
    {
     "name": "stdout",
     "output_type": "stream",
     "text": [
      "Index -7: 1\n",
      "Index -6: 2\n",
      "Index -5: 3\n",
      "Index -4: 4\n",
      "Index -3: A\n",
      "Index -2: B\n",
      "Index -1: C\n"
     ]
    }
   ],
   "source": [
    "for i in range(-len(l1),0):\n",
    "    print(f\"Index {i}: {l1[i]}\")"
   ]
  },
  {
   "cell_type": "code",
   "execution_count": 59,
   "id": "b9dd9afd",
   "metadata": {},
   "outputs": [
    {
     "name": "stdout",
     "output_type": "stream",
     "text": [
      "Positive Indices:\n",
      "Positive Index 0: 1, Negative Index -7: 1 \n",
      "Positive Index 1: 2, Negative Index -6: 2 \n",
      "Positive Index 2: 3, Negative Index -5: 3 \n",
      "Positive Index 3: 4, Negative Index -4: 4 \n",
      "Positive Index 4: A, Negative Index -3: A \n",
      "Positive Index 5: B, Negative Index -2: B \n",
      "Positive Index 6: C, Negative Index -1: C \n"
     ]
    }
   ],
   "source": [
    "print(\"Positive Indices:\")\n",
    "for i in range(len(l1)):\n",
    "    pos = i\n",
    "    neg = i - len(l1)\n",
    "    print(f\"Positive Index {pos}: {l1[pos]}, Negative Index {neg}: {l1[pos]} \")"
   ]
  },
  {
   "cell_type": "code",
   "execution_count": 60,
   "id": "18815de8",
   "metadata": {},
   "outputs": [
    {
     "data": {
      "text/plain": [
       "1"
      ]
     },
     "execution_count": 60,
     "metadata": {},
     "output_type": "execute_result"
    }
   ],
   "source": [
    "l = [[10,20,30]]\n",
    "len(l)"
   ]
  },
  {
   "cell_type": "code",
   "execution_count": 63,
   "id": "40934bdf",
   "metadata": {},
   "outputs": [
    {
     "data": {
      "text/plain": [
       "(10, 20, 30)"
      ]
     },
     "execution_count": 63,
     "metadata": {},
     "output_type": "execute_result"
    }
   ],
   "source": [
    "l[0][0],l[0][1],l[0][2]"
   ]
  },
  {
   "cell_type": "code",
   "execution_count": 66,
   "id": "1baf9036",
   "metadata": {},
   "outputs": [
    {
     "data": {
      "text/plain": [
       "'A'"
      ]
     },
     "execution_count": 66,
     "metadata": {},
     "output_type": "execute_result"
    }
   ],
   "source": [
    "l1 = [10,20,['A','B']]\n",
    "# retrieve the A\n",
    "# how many elements are there: 3\n",
    "len(l1)\n",
    "l1[2][0]"
   ]
  },
  {
   "cell_type": "code",
   "execution_count": 80,
   "id": "05a294eb",
   "metadata": {},
   "outputs": [
    {
     "data": {
      "text/plain": [
       "5"
      ]
     },
     "execution_count": 80,
     "metadata": {},
     "output_type": "execute_result"
    }
   ],
   "source": [
    "l1 = [1,2,3,4,[5,6,[\"Apple\"]]]\n",
    "len(l1)"
   ]
  },
  {
   "cell_type": "code",
   "execution_count": null,
   "id": "4f518a16",
   "metadata": {},
   "outputs": [],
   "source": []
  }
 ],
 "metadata": {
  "kernelspec": {
   "display_name": "Python 3 (ipykernel)",
   "language": "python",
   "name": "python3"
  },
  "language_info": {
   "codemirror_mode": {
    "name": "ipython",
    "version": 3
   },
   "file_extension": ".py",
   "mimetype": "text/x-python",
   "name": "python",
   "nbconvert_exporter": "python",
   "pygments_lexer": "ipython3",
   "version": "3.11.5"
  }
 },
 "nbformat": 4,
 "nbformat_minor": 5
}
