{
 "cells": [
  {
   "cell_type": "code",
   "execution_count": 2,
   "id": "fe4e0280",
   "metadata": {},
   "outputs": [
    {
     "name": "stdout",
     "output_type": "stream",
     "text": [
      "Enter str:programming\n",
      "progamin\n"
     ]
    }
   ],
   "source": [
    "# Q1) Remove Duplicates\n",
    "def remove_duplicates(s):\n",
    "    result = \"\"\n",
    "    seen = set()\n",
    "    for char in s:\n",
    "        if char not in seen:\n",
    "            result += char\n",
    "            seen.add(char)\n",
    "    return result\n",
    "\n",
    "input_str = input(\"Enter str:\")\n",
    "output = remove_duplicates(input_str)\n",
    "print(output) "
   ]
  },
  {
   "cell_type": "code",
   "execution_count": 3,
   "id": "c953bdd6",
   "metadata": {},
   "outputs": [
    {
     "name": "stdout",
     "output_type": "stream",
     "text": [
      "the\n"
     ]
    }
   ],
   "source": [
    "# Q2) Most frequent word\n",
    "from collections import Counter\n",
    "import re\n",
    "\n",
    "def most_frequent_word(s):\n",
    "    words = re.findall(r'\\b\\w+\\b', s.lower())  \n",
    "    word_counts = Counter(words)\n",
    "    max_frequency = max(word_counts.values())\n",
    "    for word, count in word_counts.items():\n",
    "        if count == max_frequency:\n",
    "            return word  \n",
    "        \n",
    "input_str = \"the quick brown fox jumps over the lazy dog! the quick brown fox\"\n",
    "output = most_frequent_word(input_str)\n",
    "print(output) "
   ]
  },
  {
   "cell_type": "code",
   "execution_count": 4,
   "id": "15efda9f",
   "metadata": {},
   "outputs": [
    {
     "name": "stdout",
     "output_type": "stream",
     "text": [
      "quick brown fox jumps over lazy dog quick brown fox\n"
     ]
    }
   ],
   "source": [
    "# Q3) Remove Punctuation, Numbers, and Stop Words\n",
    "import re\n",
    "\n",
    "def remove_punctuation_numbers_stopwords(s):\n",
    "    stop_words = {'a', 'an', 'was', 'were', 'the'}\n",
    "    words = re.findall(r'\\b[a-zA-Z]+\\b', s.lower())\n",
    "    filtered_words = [word for word in words if word not in stop_words]\n",
    "    return ' '.join(filtered_words)\n",
    "\n",
    "input_str = \"the quick brown fox was jumps over the lazy dog! the quick brown fox\"\n",
    "output = remove_punctuation_numbers_stopwords(input_str)\n",
    "print(output)  "
   ]
  },
  {
   "cell_type": "code",
   "execution_count": null,
   "id": "e33e0c2a",
   "metadata": {},
   "outputs": [],
   "source": []
  }
 ],
 "metadata": {
  "kernelspec": {
   "display_name": "Python 3 (ipykernel)",
   "language": "python",
   "name": "python3"
  },
  "language_info": {
   "codemirror_mode": {
    "name": "ipython",
    "version": 3
   },
   "file_extension": ".py",
   "mimetype": "text/x-python",
   "name": "python",
   "nbconvert_exporter": "python",
   "pygments_lexer": "ipython3",
   "version": "3.11.5"
  }
 },
 "nbformat": 4,
 "nbformat_minor": 5
}
