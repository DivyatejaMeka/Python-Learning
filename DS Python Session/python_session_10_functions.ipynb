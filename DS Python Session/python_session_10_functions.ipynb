{
 "cells": [
  {
   "cell_type": "markdown",
   "id": "64e6db1b",
   "metadata": {},
   "source": [
    "**Funtions or methods**\n",
    "- Reuse of code"
   ]
  },
  {
   "cell_type": "markdown",
   "id": "29c28fbe",
   "metadata": {},
   "source": [
    "- Function without arguments\n",
    "- Function with arguments\n",
    "- Function with default arguments\n",
    "- Global variable vs local variable\n",
    "- Functions with return statement\n",
    "- Functions with kwargs\n",
    "- Functions in functions"
   ]
  },
  {
   "cell_type": "raw",
   "id": "76f94aad",
   "metadata": {},
   "source": [
    "# Syntax\n",
    "def <function name>():\n",
    "    <write your code here>"
   ]
  },
  {
   "cell_type": "code",
   "execution_count": 5,
   "id": "5a4310b2",
   "metadata": {},
   "outputs": [
    {
     "name": "stdout",
     "output_type": "stream",
     "text": [
      "Enter num1: 20\n",
      "Enter num2: 30\n",
      "The addition of 20, 30 is: 50\n"
     ]
    }
   ],
   "source": [
    "n1 = eval(input(\"Enter num1: \"))\n",
    "n2 = eval(input(\"Enter num2: \"))\n",
    "add = n1+n2\n",
    "print(f\"The addition of {n1}, {n2} is: {add}\")"
   ]
  },
  {
   "cell_type": "code",
   "execution_count": 6,
   "id": "b9c7b744",
   "metadata": {},
   "outputs": [],
   "source": [
    "def addition():\n",
    "    n1 = eval(input(\"Enter num1: \"))\n",
    "    n2 = eval(input(\"Enter num2: \"))\n",
    "    add = n1+n2\n",
    "    print(f\"The addition of {n1}, {n2} is: {add}\")"
   ]
  },
  {
   "cell_type": "code",
   "execution_count": 7,
   "id": "c0d939c1",
   "metadata": {},
   "outputs": [
    {
     "name": "stdout",
     "output_type": "stream",
     "text": [
      "Enter num1: 2\n",
      "Enter num2: 3\n",
      "The addition of 2, 3 is: 5\n"
     ]
    }
   ],
   "source": [
    "# Function is ready\n",
    "# creating function means it will not give the answer\n",
    "# you need to call the function\n",
    "addition()"
   ]
  },
  {
   "cell_type": "markdown",
   "id": "692aa688",
   "metadata": {},
   "source": [
    "**Note**\n",
    "- while calling the function we need to use the function name\n",
    "- also we need to provide paranthesis\n",
    "- in python brackets indicates it is a function or method\n",
    "- if we miss the brackets, it will display as  \n",
    "    - function \n",
    "    - bound method"
   ]
  },
  {
   "cell_type": "markdown",
   "id": "de273917",
   "metadata": {},
   "source": [
    "**Note**\n",
    "- Once we create the function we can use anywhere in the notebook\n",
    "- if you want to use in another notebook \n",
    "- we need to create as Package (OOPS)"
   ]
  },
  {
   "cell_type": "code",
   "execution_count": 8,
   "id": "eb380465",
   "metadata": {},
   "outputs": [
    {
     "ename": "NameError",
     "evalue": "name 'addition1' is not defined",
     "output_type": "error",
     "traceback": [
      "\u001b[1;31m---------------------------------------------------------------------------\u001b[0m",
      "\u001b[1;31mNameError\u001b[0m                                 Traceback (most recent call last)",
      "Cell \u001b[1;32mIn[8], line 1\u001b[0m\n\u001b[1;32m----> 1\u001b[0m addition1()\n\u001b[0;32m      2\u001b[0m \u001b[38;5;28;01mdef\u001b[39;00m \u001b[38;5;21maddition1\u001b[39m():\n\u001b[0;32m      3\u001b[0m     n1 \u001b[38;5;241m=\u001b[39m \u001b[38;5;28meval\u001b[39m(\u001b[38;5;28minput\u001b[39m(\u001b[38;5;124m\"\u001b[39m\u001b[38;5;124mEnter num1: \u001b[39m\u001b[38;5;124m\"\u001b[39m))\n",
      "\u001b[1;31mNameError\u001b[0m: name 'addition1' is not defined"
     ]
    }
   ],
   "source": [
    "addition1()\n",
    "def addition1():\n",
    "    n1 = eval(input(\"Enter num1: \"))\n",
    "    n2 = eval(input(\"Enter num2: \"))\n",
    "    add = n1+n2\n",
    "    print(f\"The addition of {n1}, {n2} is: {add}\")\n",
    "# The above code will give the error\n",
    "# before call the function first we need to define the function"
   ]
  },
  {
   "cell_type": "code",
   "execution_count": 9,
   "id": "29af36f2",
   "metadata": {},
   "outputs": [],
   "source": [
    "def three():\n",
    "    n1 = eval(input(\"Enter num1: \"))\n",
    "    n2 = eval(input(\"Enter num2: \"))\n",
    "    n3 = eval(input(\"Enter num3: \"))\n",
    "    avg = (n1+n2+n3)/3\n",
    "    print(avg)\n",
    "def triangle():\n",
    "    b = eval(input(\"Enter breadth of triangle: \"))\n",
    "    h = eval(input(\"Enter height of traingle: \"))\n",
    "    area = 0.5*b*h\n",
    "    print(area)\n",
    "def radius():\n",
    "    r = eval(input(\"Enter radius of the circle: \"))\n",
    "    pi = 3.14\n",
    "    area = pi*r*r\n",
    "    print(area)\n",
    "def bill():\n",
    "    bill = eval(input(\"Enter bill amount: \"))\n",
    "    tip = eval(input(\"Enter tip amount: \"))\n",
    "    total = bill + tip\n",
    "    print(total)\n",
    "def billperc():\n",
    "    bill = eval(input(\"Enter bill amount: \"))\n",
    "    tip_perc = eval(input(\"Enter tip percentage: \"))\n",
    "    tip = (bill * tip_perc)/100\n",
    "    total = bill + tip\n",
    "    print(total)"
   ]
  },
  {
   "cell_type": "code",
   "execution_count": 12,
   "id": "ee3f41ea",
   "metadata": {},
   "outputs": [
    {
     "name": "stdout",
     "output_type": "stream",
     "text": [
      "Enter num1: 20\n",
      "Enter num2: 90\n",
      "Enter num3: 20\n",
      "name 'n322' is not defined\n"
     ]
    }
   ],
   "source": [
    "def Average():\n",
    "    try:\n",
    "        n1 = eval(input(\"Enter num1: \"))\n",
    "        n2 = eval(input(\"Enter num2: \"))\n",
    "        n3 = eval(input(\"Enter num3: \"))\n",
    "        avg = (n1+n2+n3)/3\n",
    "        print(avg)\n",
    "    except Exception as e:\n",
    "        print(e)\n",
    "Average()"
   ]
  },
  {
   "cell_type": "code",
   "execution_count": 14,
   "id": "d3cae9df",
   "metadata": {},
   "outputs": [
    {
     "name": "stdout",
     "output_type": "stream",
     "text": [
      "Enter num1: 23\n",
      "Enter num2: 23\n",
      "Enter num3: 22\n"
     ]
    },
    {
     "ename": "NameError",
     "evalue": "name 'n322' is not defined",
     "output_type": "error",
     "traceback": [
      "\u001b[1;31m---------------------------------------------------------------------------\u001b[0m",
      "\u001b[1;31mNameError\u001b[0m                                 Traceback (most recent call last)",
      "Cell \u001b[1;32mIn[14], line 10\u001b[0m\n\u001b[0;32m      8\u001b[0m \u001b[38;5;28;01mexcept\u001b[39;00m \u001b[38;5;167;01mException\u001b[39;00m \u001b[38;5;28;01mas\u001b[39;00m e:\n\u001b[0;32m      9\u001b[0m         \u001b[38;5;28mprint\u001b[39m(e)\n\u001b[1;32m---> 10\u001b[0m average()\n",
      "Cell \u001b[1;32mIn[14], line 6\u001b[0m, in \u001b[0;36maverage\u001b[1;34m()\u001b[0m\n\u001b[0;32m      4\u001b[0m n2 \u001b[38;5;241m=\u001b[39m \u001b[38;5;28meval\u001b[39m(\u001b[38;5;28minput\u001b[39m(\u001b[38;5;124m\"\u001b[39m\u001b[38;5;124mEnter num2: \u001b[39m\u001b[38;5;124m\"\u001b[39m))\n\u001b[0;32m      5\u001b[0m n3 \u001b[38;5;241m=\u001b[39m \u001b[38;5;28meval\u001b[39m(\u001b[38;5;28minput\u001b[39m(\u001b[38;5;124m\"\u001b[39m\u001b[38;5;124mEnter num3: \u001b[39m\u001b[38;5;124m\"\u001b[39m))\n\u001b[1;32m----> 6\u001b[0m avg \u001b[38;5;241m=\u001b[39m (n1\u001b[38;5;241m+\u001b[39mn2\u001b[38;5;241m+\u001b[39mn322)\u001b[38;5;241m/\u001b[39m\u001b[38;5;241m3\u001b[39m\n\u001b[0;32m      7\u001b[0m \u001b[38;5;28mprint\u001b[39m(avg)\n",
      "\u001b[1;31mNameError\u001b[0m: name 'n322' is not defined"
     ]
    }
   ],
   "source": [
    "try:\n",
    "    def average():\n",
    "        n1 = eval(input(\"Enter num1: \"))\n",
    "        n2 = eval(input(\"Enter num2: \"))\n",
    "        n3 = eval(input(\"Enter num3: \"))\n",
    "        avg = (n1+n2+n322)/3\n",
    "        print(avg)\n",
    "except Exception as e:\n",
    "        print(e)\n",
    "average()"
   ]
  },
  {
   "cell_type": "markdown",
   "id": "02531ae5",
   "metadata": {},
   "source": [
    "**Note**\n",
    "- always give **try and except** apply for only on code\n",
    "- not for function\n",
    "- inside the function write **try-except**"
   ]
  },
  {
   "cell_type": "markdown",
   "id": "56bf73cd",
   "metadata": {},
   "source": [
    "**Note**\n",
    "- when we define the function, it will not give any error or any function\n",
    "- if we want to see any error or any answer we need to call the function"
   ]
  },
  {
   "cell_type": "markdown",
   "id": "f385788e",
   "metadata": {},
   "source": [
    "**Function without arguments**\n",
    "- the function we defined does not have any values or variables\n",
    "- these are also called as arguments or parameters\n",
    "- simply it is a empty bracket"
   ]
  },
  {
   "cell_type": "code",
   "execution_count": null,
   "id": "9d6882ca",
   "metadata": {},
   "outputs": [],
   "source": []
  }
 ],
 "metadata": {
  "kernelspec": {
   "display_name": "Python 3 (ipykernel)",
   "language": "python",
   "name": "python3"
  },
  "language_info": {
   "codemirror_mode": {
    "name": "ipython",
    "version": 3
   },
   "file_extension": ".py",
   "mimetype": "text/x-python",
   "name": "python",
   "nbconvert_exporter": "python",
   "pygments_lexer": "ipython3",
   "version": "3.11.5"
  }
 },
 "nbformat": 4,
 "nbformat_minor": 5
}
