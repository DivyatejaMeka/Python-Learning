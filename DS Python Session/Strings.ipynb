{
 "cells": [
  {
   "cell_type": "markdown",
   "id": "6521b537",
   "metadata": {},
   "source": [
    "## Strings\n",
    "======= Part-1 =========\n",
    "- How to initialize the strings\n",
    "- in built functions\n",
    "    - type\n",
    "    - print\n",
    "    - len\n",
    "    - max\n",
    "    - min\n",
    "    - reversed\n",
    "    - sorted\n",
    "- index operation\n",
    "- concatination\n",
    "- mutable vs immutable\n",
    "- slicing\n",
    "\n",
    "======== Part-2 =========\n",
    "- string methods"
   ]
  },
  {
   "cell_type": "markdown",
   "id": "8a40a30e",
   "metadata": {},
   "source": [
    "**Initialization**\n",
    "- Strings represented with single quotes\n",
    "- Strings represented with double quotes\n",
    "- Strings represented with triple quotes\n",
    "- When you print a string, the output shows as without quotes\n",
    "- A string represents with triple quotes : **Doc Sting**\n",
    "- If you want to highligh any word in entire string\n",
    "    - provide the entire string in double quotes and highlight the word with single quotes and vice versa"
   ]
  },
  {
   "cell_type": "code",
   "execution_count": 2,
   "id": "d2fb3217",
   "metadata": {},
   "outputs": [
    {
     "name": "stdout",
     "output_type": "stream",
     "text": [
      "Hi Hi Hello\n",
      "How are you\n",
      "Hope you doing well\n",
      "A cow says - 'MOO'\n"
     ]
    }
   ],
   "source": [
    "a = \"Hi\"\n",
    "b = 'Hi'\n",
    "c = '''Hello\n",
    "How are you\n",
    "Hope you doing well'''\n",
    "print(a,b,c)\n",
    "d = \"A cow says - 'MOO'\"\n",
    "print(d)"
   ]
  },
  {
   "cell_type": "markdown",
   "id": "66ee7418",
   "metadata": {},
   "source": [
    "**Some inbuilt functions**"
   ]
  },
  {
   "cell_type": "code",
   "execution_count": 3,
   "id": "97037642",
   "metadata": {},
   "outputs": [
    {
     "name": "stdout",
     "output_type": "stream",
     "text": [
      "Python\n"
     ]
    },
    {
     "data": {
      "text/plain": [
       "['h', 'n', 'o', 'p', 't', 'y']"
      ]
     },
     "execution_count": 3,
     "metadata": {},
     "output_type": "execute_result"
    }
   ],
   "source": [
    "max(\"python\")\n",
    "min(\"python\")\n",
    "len(\"python\")\n",
    "print(\"Python\")\n",
    "type(\"Python\")\n",
    "reversed(\"Python\")\n",
    "sorted(\"python\")"
   ]
  },
  {
   "cell_type": "code",
   "execution_count": 8,
   "id": "a7f969e4",
   "metadata": {},
   "outputs": [
    {
     "data": {
      "text/plain": [
       "'y'"
      ]
     },
     "execution_count": 8,
     "metadata": {},
     "output_type": "execute_result"
    }
   ],
   "source": [
    "max(\"Python\")"
   ]
  },
  {
   "cell_type": "code",
   "execution_count": 22,
   "id": "d3dea759",
   "metadata": {},
   "outputs": [
    {
     "data": {
      "text/plain": [
       "'h'"
      ]
     },
     "execution_count": 22,
     "metadata": {},
     "output_type": "execute_result"
    }
   ],
   "source": [
    "min(\"python\")"
   ]
  },
  {
   "cell_type": "code",
   "execution_count": 10,
   "id": "c0f82051",
   "metadata": {},
   "outputs": [
    {
     "data": {
      "text/plain": [
       "6"
      ]
     },
     "execution_count": 10,
     "metadata": {},
     "output_type": "execute_result"
    }
   ],
   "source": [
    "len(\"Python\")"
   ]
  },
  {
   "cell_type": "code",
   "execution_count": 11,
   "id": "c8c26099",
   "metadata": {},
   "outputs": [
    {
     "name": "stdout",
     "output_type": "stream",
     "text": [
      "Python\n"
     ]
    }
   ],
   "source": [
    "print(\"Python\")"
   ]
  },
  {
   "cell_type": "code",
   "execution_count": 12,
   "id": "d940d3f4",
   "metadata": {},
   "outputs": [
    {
     "data": {
      "text/plain": [
       "str"
      ]
     },
     "execution_count": 12,
     "metadata": {},
     "output_type": "execute_result"
    }
   ],
   "source": [
    "type(\"Python\")"
   ]
  },
  {
   "cell_type": "code",
   "execution_count": 20,
   "id": "9301f1d3",
   "metadata": {},
   "outputs": [
    {
     "data": {
      "text/plain": [
       "<reversed at 0x1d98190e650>"
      ]
     },
     "execution_count": 20,
     "metadata": {},
     "output_type": "execute_result"
    }
   ],
   "source": [
    "reversed(\"Python\")"
   ]
  },
  {
   "cell_type": "code",
   "execution_count": 16,
   "id": "29d22b7d",
   "metadata": {},
   "outputs": [
    {
     "data": {
      "text/plain": [
       "['P', 'h', 'n', 'o', 't', 'y']"
      ]
     },
     "execution_count": 16,
     "metadata": {},
     "output_type": "execute_result"
    }
   ],
   "source": [
    "sorted(\"Python\")"
   ]
  },
  {
   "cell_type": "markdown",
   "id": "9785a5a7",
   "metadata": {},
   "source": [
    "**Sorted**\n",
    "- sorted means sorting of letters based on ascii number\n",
    "- there are two possible strings available\n",
    "    - ascending: small to high\n",
    "    - descending: high to small"
   ]
  },
  {
   "cell_type": "markdown",
   "id": "0fe1b851",
   "metadata": {},
   "source": [
    "- when you apply the shift tab\n",
    "- there is some arguements will be available\n",
    "- focus on two strings\n",
    "    - iterable\n",
    "    - reverse = False\n",
    "- because reverse is a default arguments by default ascending order is coming\n",
    "- if you want to change the order then change the default parameter value"
   ]
  },
  {
   "cell_type": "code",
   "execution_count": 23,
   "id": "2c7480e6",
   "metadata": {},
   "outputs": [
    {
     "data": {
      "text/plain": [
       "['y', 't', 'o', 'n', 'h', 'P']"
      ]
     },
     "execution_count": 23,
     "metadata": {},
     "output_type": "execute_result"
    }
   ],
   "source": [
    "sorted(\"Python\", reverse=True)"
   ]
  },
  {
   "cell_type": "code",
   "execution_count": 29,
   "id": "7d74499f",
   "metadata": {},
   "outputs": [
    {
     "data": {
      "text/plain": [
       "['y', 't', 'o', 'n', 'h', 'P']"
      ]
     },
     "execution_count": 29,
     "metadata": {},
     "output_type": "execute_result"
    }
   ],
   "source": [
    "sorted(\"Python\", reverse=True)"
   ]
  },
  {
   "cell_type": "markdown",
   "id": "cff7af5e",
   "metadata": {},
   "source": [
    "- we should not allowed to use iterable argument name while providing the value\n",
    "- we should use the argument names while provide the value after '/'\n",
    "- we should not use the argument names before '/'\n",
    "    - iterable argument name is there before '/'\n",
    "    - so do not use iterable name"
   ]
  },
  {
   "cell_type": "markdown",
   "id": "00c850c5",
   "metadata": {},
   "source": [
    "- any function indicates * means\n",
    "- you can use any variable after *\n",
    "- after * there are two arguments are there\n",
    "    - key\n",
    "    - reverse\n",
    "- you can use both\n",
    "- you can use anyone\n",
    "- you no need to use anything"
   ]
  },
  {
   "cell_type": "code",
   "execution_count": 30,
   "id": "f288be4b",
   "metadata": {},
   "outputs": [
    {
     "ename": "TypeError",
     "evalue": "sorted expected 1 argument, got 0",
     "output_type": "error",
     "traceback": [
      "\u001b[1;31m---------------------------------------------------------------------------\u001b[0m",
      "\u001b[1;31mTypeError\u001b[0m                                 Traceback (most recent call last)",
      "Cell \u001b[1;32mIn[30], line 2\u001b[0m\n\u001b[0;32m      1\u001b[0m \u001b[38;5;28msorted\u001b[39m(\u001b[38;5;124m\"\u001b[39m\u001b[38;5;124mHello\u001b[39m\u001b[38;5;124m\"\u001b[39m) \u001b[38;5;66;03m# Works\u001b[39;00m\n\u001b[1;32m----> 2\u001b[0m \u001b[38;5;28msorted\u001b[39m(iterable\u001b[38;5;241m=\u001b[39m\u001b[38;5;124m\"\u001b[39m\u001b[38;5;124mHello\u001b[39m\u001b[38;5;124m\"\u001b[39m)\n",
      "\u001b[1;31mTypeError\u001b[0m: sorted expected 1 argument, got 0"
     ]
    }
   ],
   "source": [
    "sorted(\"Hello\") # Works\n",
    "sorted(iterable=\"Hello\") # Fails"
   ]
  },
  {
   "cell_type": "code",
   "execution_count": 32,
   "id": "ba63e203",
   "metadata": {},
   "outputs": [
    {
     "data": {
      "text/plain": [
       "['o', 'l', 'l', 'e', 'H']"
      ]
     },
     "execution_count": 32,
     "metadata": {},
     "output_type": "execute_result"
    }
   ],
   "source": [
    "sorted(\"Hello\", reverse=True)"
   ]
  },
  {
   "cell_type": "code",
   "execution_count": 33,
   "id": "a29b54e6",
   "metadata": {},
   "outputs": [
    {
     "data": {
      "text/plain": [
       "['H', 'e', 'l', 'l', 'o']"
      ]
     },
     "execution_count": 33,
     "metadata": {},
     "output_type": "execute_result"
    }
   ],
   "source": [
    "sorted(\"Hello\", key=len)"
   ]
  },
  {
   "cell_type": "code",
   "execution_count": 34,
   "id": "3af82590",
   "metadata": {},
   "outputs": [
    {
     "data": {
      "text/plain": [
       "['H', 'e', 'l', 'l', 'o']"
      ]
     },
     "execution_count": 34,
     "metadata": {},
     "output_type": "execute_result"
    }
   ],
   "source": [
    "sorted(\"Hello\", reverse=True, key=len)"
   ]
  },
  {
   "cell_type": "markdown",
   "id": "6f41057f",
   "metadata": {},
   "source": [
    "**reversed**"
   ]
  },
  {
   "cell_type": "code",
   "execution_count": 36,
   "id": "54b1d4d3",
   "metadata": {},
   "outputs": [],
   "source": [
    "str1=\"python\"\n",
    "ans=reversed(str1)"
   ]
  },
  {
   "cell_type": "code",
   "execution_count": 37,
   "id": "49d5738e",
   "metadata": {},
   "outputs": [
    {
     "data": {
      "text/plain": [
       "reversed"
      ]
     },
     "execution_count": 37,
     "metadata": {},
     "output_type": "execute_result"
    }
   ],
   "source": [
    "type(ans)"
   ]
  },
  {
   "cell_type": "code",
   "execution_count": 38,
   "id": "16241b11",
   "metadata": {},
   "outputs": [
    {
     "data": {
      "text/plain": [
       "<reversed at 0x1d982b5e440>"
      ]
     },
     "execution_count": 38,
     "metadata": {},
     "output_type": "execute_result"
    }
   ],
   "source": [
    "reversed(str1)\n",
    "# the output is stored in a memory location\n",
    "# whenever you want to see the output\n",
    "# use a list or for loop"
   ]
  },
  {
   "cell_type": "code",
   "execution_count": 39,
   "id": "6983898e",
   "metadata": {},
   "outputs": [
    {
     "data": {
      "text/plain": [
       "['n', 'o', 'h', 't', 'y', 'p']"
      ]
     },
     "execution_count": 39,
     "metadata": {},
     "output_type": "execute_result"
    }
   ],
   "source": [
    "list(ans)"
   ]
  },
  {
   "cell_type": "code",
   "execution_count": 41,
   "id": "a22fe990",
   "metadata": {},
   "outputs": [
    {
     "name": "stdout",
     "output_type": "stream",
     "text": [
      "n\n",
      "o\n",
      "h\n",
      "t\n",
      "y\n",
      "p\n"
     ]
    }
   ],
   "source": [
    "str1='python'\n",
    "ans=reversed(str1)\n",
    "for i in ans:\n",
    "    print(i)"
   ]
  },
  {
   "cell_type": "markdown",
   "id": "b17ecf7b",
   "metadata": {},
   "source": [
    "**concatenation**"
   ]
  },
  {
   "cell_type": "code",
   "execution_count": 42,
   "id": "e1617747",
   "metadata": {},
   "outputs": [
    {
     "ename": "TypeError",
     "evalue": "can't multiply sequence by non-int of type 'str'",
     "output_type": "error",
     "traceback": [
      "\u001b[1;31m---------------------------------------------------------------------------\u001b[0m",
      "\u001b[1;31mTypeError\u001b[0m                                 Traceback (most recent call last)",
      "Cell \u001b[1;32mIn[42], line 4\u001b[0m\n\u001b[0;32m      2\u001b[0m str2 \u001b[38;5;241m=\u001b[39m \u001b[38;5;124m\"\u001b[39m\u001b[38;5;124mpython\u001b[39m\u001b[38;5;124m\"\u001b[39m\n\u001b[0;32m      3\u001b[0m str1\u001b[38;5;241m+\u001b[39mstr2\n\u001b[1;32m----> 4\u001b[0m str1\u001b[38;5;241m*\u001b[39mstr2\n\u001b[0;32m      5\u001b[0m str1\u001b[38;5;241m-\u001b[39mstr2\n\u001b[0;32m      6\u001b[0m str1\u001b[38;5;241m/\u001b[39mstr2\n",
      "\u001b[1;31mTypeError\u001b[0m: can't multiply sequence by non-int of type 'str'"
     ]
    }
   ],
   "source": [
    "str1 = \"hello\"\n",
    "str2 = \"python\"\n",
    "str1+str2\n",
    "str1*str2\n",
    "str1-str2\n",
    "str1/str2"
   ]
  },
  {
   "cell_type": "markdown",
   "id": "bc218558",
   "metadata": {},
   "source": [
    "**index**"
   ]
  },
  {
   "cell_type": "code",
   "execution_count": 43,
   "id": "c446e993",
   "metadata": {},
   "outputs": [],
   "source": [
    "str1=\"python\"\n",
    "# -6  -5  -4  -3  -2  -1\n",
    "# 'p' 'y' 't' 'h' 'o' 'n'\n",
    "#  0   1   2   3   4   5"
   ]
  },
  {
   "cell_type": "code",
   "execution_count": 45,
   "id": "87dcae79",
   "metadata": {},
   "outputs": [
    {
     "data": {
      "text/plain": [
       "('p', 'n')"
      ]
     },
     "execution_count": 45,
     "metadata": {},
     "output_type": "execute_result"
    }
   ],
   "source": [
    "str1[0], str1[-1]"
   ]
  },
  {
   "cell_type": "code",
   "execution_count": null,
   "id": "094eac38",
   "metadata": {},
   "outputs": [],
   "source": []
  }
 ],
 "metadata": {
  "kernelspec": {
   "display_name": "Python 3 (ipykernel)",
   "language": "python",
   "name": "python3"
  },
  "language_info": {
   "codemirror_mode": {
    "name": "ipython",
    "version": 3
   },
   "file_extension": ".py",
   "mimetype": "text/x-python",
   "name": "python",
   "nbconvert_exporter": "python",
   "pygments_lexer": "ipython3",
   "version": "3.11.5"
  }
 },
 "nbformat": 4,
 "nbformat_minor": 5
}
