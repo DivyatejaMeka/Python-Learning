{
 "cells": [
  {
   "cell_type": "markdown",
   "id": "f88bb35e",
   "metadata": {},
   "source": [
    "- conditional statements refers to execute the code based on some conditions\n",
    "- we have mainly three types\n",
    "   - if \n",
    "   - if else\n",
    "   - if elif else"
   ]
  },
  {
   "cell_type": "code",
   "execution_count": 1,
   "id": "c7bfbce4",
   "metadata": {},
   "outputs": [
    {
     "name": "stdout",
     "output_type": "stream",
     "text": [
      "Hello Good Morning\n"
     ]
    }
   ],
   "source": [
    "print(\"Hello Good Morning\")"
   ]
  },
  {
   "cell_type": "code",
   "execution_count": 2,
   "id": "4ffbb9fd",
   "metadata": {},
   "outputs": [],
   "source": [
    "# I want to say good morning\n",
    "# if your name is python"
   ]
  },
  {
   "cell_type": "raw",
   "id": "e4597121",
   "metadata": {},
   "source": [
    "if <condition>:\n",
    "    <write your code here>"
   ]
  },
  {
   "cell_type": "code",
   "execution_count": 5,
   "id": "d8fabf37",
   "metadata": {},
   "outputs": [
    {
     "name": "stdout",
     "output_type": "stream",
     "text": [
      "Correct Condition\n",
      "Hello\n"
     ]
    }
   ],
   "source": [
    "num = 10\n",
    "if num>0: #10>0 True, if True\n",
    "    print(\"Correct Condition\")\n",
    "    print(\"Hello\")"
   ]
  },
  {
   "cell_type": "raw",
   "id": "3085366a",
   "metadata": {},
   "source": [
    "if <condition>:\n",
    "    <code starts here>\n",
    "    \n",
    "# the space we need to maintain it is called indentation"
   ]
  },
  {
   "cell_type": "code",
   "execution_count": 2,
   "id": "ba4c584b",
   "metadata": {},
   "outputs": [
    {
     "data": {
      "text/plain": [
       "True"
      ]
     },
     "execution_count": 2,
     "metadata": {},
     "output_type": "execute_result"
    }
   ],
   "source": [
    "name = \"python\"\n",
    "name == \"python\""
   ]
  },
  {
   "cell_type": "code",
   "execution_count": 3,
   "id": "65032669",
   "metadata": {},
   "outputs": [
    {
     "data": {
      "text/plain": [
       "False"
      ]
     },
     "execution_count": 3,
     "metadata": {},
     "output_type": "execute_result"
    }
   ],
   "source": [
    "name != \"python\""
   ]
  },
  {
   "cell_type": "code",
   "execution_count": 4,
   "id": "a3c26872",
   "metadata": {},
   "outputs": [
    {
     "name": "stdout",
     "output_type": "stream",
     "text": [
      "Hello\n",
      "30\n"
     ]
    }
   ],
   "source": [
    "name = \"python\"\n",
    "if name == \"python\":\n",
    "    print(\"Hello\")\n",
    "    a = 10\n",
    "    b = 20\n",
    "    print(a+b)\n",
    "    \n",
    "# Step-1: name='python'\n",
    "# Step-2: if name == \"python\"  if 'python'=='python' if True\n",
    "# Step-3: print\"Hello\"\n",
    "# Step-4: a=10\n",
    "# Step-5: b=20\n",
    "# Step-6: a+b   10+20=30"
   ]
  },
  {
   "cell_type": "code",
   "execution_count": 5,
   "id": "33becd82",
   "metadata": {},
   "outputs": [
    {
     "name": "stdout",
     "output_type": "stream",
     "text": [
      "Correct\n",
      "Bye\n"
     ]
    }
   ],
   "source": [
    "if 100>10:\n",
    "    print(\"Correct\")\n",
    "print(\"Bye\")"
   ]
  },
  {
   "cell_type": "code",
   "execution_count": 6,
   "id": "7b416f04",
   "metadata": {},
   "outputs": [
    {
     "name": "stdout",
     "output_type": "stream",
     "text": [
      "Hai\n",
      "Hello\n",
      "Bye\n"
     ]
    }
   ],
   "source": [
    "print(\"Hai\")\n",
    "if 100>10:\n",
    "    print(\"Hello\")\n",
    "print(\"Bye\")"
   ]
  },
  {
   "cell_type": "markdown",
   "id": "7483ed59",
   "metadata": {},
   "source": [
    "**if-else**\n",
    "- whenever if condition fails automatically it goes to else part\n",
    "- so else does not require any condition\n",
    "- always maintain indentation for both if part and else part"
   ]
  },
  {
   "cell_type": "code",
   "execution_count": 7,
   "id": "13daf919",
   "metadata": {},
   "outputs": [
    {
     "name": "stdout",
     "output_type": "stream",
     "text": [
      "10\n",
      "wrong Condition\n",
      "20\n"
     ]
    }
   ],
   "source": [
    "print(10)\n",
    "if 100<10:\n",
    "    print(\"Correct condition\")\n",
    "else:\n",
    "    print(\"wrong Condition\")\n",
    "print(20)"
   ]
  },
  {
   "cell_type": "code",
   "execution_count": 8,
   "id": "7dbd1b7c",
   "metadata": {},
   "outputs": [
    {
     "ename": "SyntaxError",
     "evalue": "invalid syntax (3391799606.py, line 7)",
     "output_type": "error",
     "traceback": [
      "\u001b[1;36m  Cell \u001b[1;32mIn[8], line 7\u001b[1;36m\u001b[0m\n\u001b[1;33m    else:\u001b[0m\n\u001b[1;37m    ^\u001b[0m\n\u001b[1;31mSyntaxError\u001b[0m\u001b[1;31m:\u001b[0m invalid syntax\n"
     ]
    }
   ],
   "source": [
    "print(10)\n",
    "if 100>10:\n",
    "    print(\"Correct condition\")\n",
    "    print(\"Okay\")\n",
    "    \n",
    "print(\"Why are you come in middle\")\n",
    "else:\n",
    "    print(\"Wrong condition\")\n",
    "print(20)"
   ]
  },
  {
   "cell_type": "markdown",
   "id": "fce25ae8",
   "metadata": {},
   "source": [
    "## if and else always together"
   ]
  },
  {
   "cell_type": "code",
   "execution_count": 10,
   "id": "c7986cf6",
   "metadata": {},
   "outputs": [],
   "source": [
    "# wap ask the user take two numbers\n",
    "# num1 and num2\n",
    "# if both number are matched then print we are won\n",
    "# otherwise print we lost\n",
    "\n",
    "# step-1: n1=eval(input(\"en\"))\n",
    "# step-2: n2=eval(input(\"en\"))\n",
    "# step-3: if <condition>:\n",
    "# step-4:    print(\"we won\")\n",
    "# step-5: else:\n",
    "# step-6:    print(\"we lost\")"
   ]
  },
  {
   "cell_type": "code",
   "execution_count": 12,
   "id": "0280fd47",
   "metadata": {},
   "outputs": [
    {
     "name": "stdout",
     "output_type": "stream",
     "text": [
      "Enter num1: 20\n",
      "Enter num2: 20\n",
      "We won\n"
     ]
    }
   ],
   "source": [
    "n1 = eval(input(\"Enter num1: \"))\n",
    "n2 = eval(input(\"Enter num2: \"))\n",
    "if n1 == n2:\n",
    "    print(\"We won\")\n",
    "else:\n",
    "    print(\"We lost\")"
   ]
  },
  {
   "cell_type": "code",
   "execution_count": 19,
   "id": "9527656f",
   "metadata": {},
   "outputs": [
    {
     "name": "stdout",
     "output_type": "stream",
     "text": [
      "Enter num2: 4\n",
      "We lost\n"
     ]
    }
   ],
   "source": [
    "import random\n",
    "n1 = random.randint(1, 10)\n",
    "n2 = eval(input(\"Enter num2: \"))\n",
    "if n1 == n2:\n",
    "    print(\"We won\")\n",
    "else:\n",
    "    print(\"We lost\")"
   ]
  },
  {
   "cell_type": "code",
   "execution_count": 20,
   "id": "cfeb43ef",
   "metadata": {},
   "outputs": [],
   "source": [
    "# wap ask the user enter a number\n",
    "# print if the number is even or odd\n",
    "\n",
    "# idea == remainder should be zero\n",
    "# step-1: num = eval(input())\n",
    "# step-2: if<>:\n",
    "# step-3:    print(the given number is even)\n",
    "# step-4: else:\n",
    "# step-5:    print(the given number is odd)"
   ]
  },
  {
   "cell_type": "code",
   "execution_count": 21,
   "id": "39b4199d",
   "metadata": {},
   "outputs": [
    {
     "data": {
      "text/plain": [
       "2.5"
      ]
     },
     "execution_count": 21,
     "metadata": {},
     "output_type": "execute_result"
    }
   ],
   "source": [
    "5/2 # direct division"
   ]
  },
  {
   "cell_type": "code",
   "execution_count": 22,
   "id": "20952345",
   "metadata": {},
   "outputs": [
    {
     "data": {
      "text/plain": [
       "2"
      ]
     },
     "execution_count": 22,
     "metadata": {},
     "output_type": "execute_result"
    }
   ],
   "source": [
    "5//2 # floor division"
   ]
  },
  {
   "cell_type": "code",
   "execution_count": 23,
   "id": "e1e94ad9",
   "metadata": {},
   "outputs": [
    {
     "data": {
      "text/plain": [
       "1"
      ]
     },
     "execution_count": 23,
     "metadata": {},
     "output_type": "execute_result"
    }
   ],
   "source": [
    "5%2 # modulus operator"
   ]
  },
  {
   "cell_type": "code",
   "execution_count": 29,
   "id": "f1c54521",
   "metadata": {},
   "outputs": [
    {
     "name": "stdout",
     "output_type": "stream",
     "text": [
      "Enter a num: 22\n",
      "The given number 22 is even\n"
     ]
    }
   ],
   "source": [
    "num = eval(input(\"Enter a num: \"))\n",
    "if num%2 == 0:\n",
    "    print(f\"The given number {num} is even\")\n",
    "else:\n",
    "    print(f\"The given number {num} is odd\")"
   ]
  },
  {
   "cell_type": "code",
   "execution_count": 30,
   "id": "67a7f293",
   "metadata": {},
   "outputs": [],
   "source": [
    "# wap ask the user enter distance\n",
    "# if distance greater than 25:\n",
    "#     ask the charge\n",
    "#     calculate the charge other than 25kms distance\n",
    "# else:\n",
    "#     print(free ride)\n",
    "\n",
    "# step-1: distance = eval(input(\"\"))\n",
    "# step-2: if <>:\n",
    "# step-3:     charge = eval(input(\"\"))\n",
    "# step-4:     total charge = (d-25)*\n",
    "# step-5: else:\n",
    "# step-6:     print(free ride)"
   ]
  },
  {
   "cell_type": "code",
   "execution_count": 4,
   "id": "e97ffa52",
   "metadata": {},
   "outputs": [
    {
     "name": "stdout",
     "output_type": "stream",
     "text": [
      "Enter distance: 40\n",
      "Give cut off distance: 20\n",
      "The charge applicable only on: 20 kms\n",
      "Enter the charge: 30\n",
      "The total charge is: 450 rs\n"
     ]
    }
   ],
   "source": [
    "d = eval(input(\"Enter distance: \"))\n",
    "cutoff = eval(input(\"Give cut off distance: \"))\n",
    "if d>cutoff:\n",
    "    print(f\"The charge applicable only on: {d-cutoff} kms\")\n",
    "    charge = eval(input(\"Enter the charge: \"))\n",
    "    total_charge = (d-25)*charge\n",
    "    print(f\"The total charge is: {total_charge} rs\")\n",
    "else:\n",
    "    print(\"free ride\")"
   ]
  },
  {
   "cell_type": "code",
   "execution_count": null,
   "id": "50c0f605",
   "metadata": {},
   "outputs": [],
   "source": [
    "# wap ask the user take two numbers\n",
    "# print which is greater number\n",
    "\n",
    "# step-1: n1=eval(input())\n",
    "# step-2: n2=eval(input())\n",
    "# step-3: if <cond>:\n",
    "# step-4:      print()\n",
    "# step-5: else:\n",
    "# step-6:      print()"
   ]
  },
  {
   "cell_type": "code",
   "execution_count": 5,
   "id": "7df320b7",
   "metadata": {},
   "outputs": [
    {
     "name": "stdout",
     "output_type": "stream",
     "text": [
      "Enter num1: 30\n",
      "Enter num2: 20\n",
      "The greater number is 30\n"
     ]
    }
   ],
   "source": [
    "n1 = eval(input(\"Enter num1: \"))\n",
    "n2 = eval(input(\"Enter num2: \"))\n",
    "if n1<n2:\n",
    "    print(f\"The greater number is {n2}\")\n",
    "else:\n",
    "    print(f\"The greater number is {n1}\")"
   ]
  },
  {
   "cell_type": "code",
   "execution_count": 6,
   "id": "78c1bc7e",
   "metadata": {},
   "outputs": [
    {
     "name": "stdout",
     "output_type": "stream",
     "text": [
      "95 is greater\n"
     ]
    }
   ],
   "source": [
    "from random import randint\n",
    "n1 = randint(1,100)\n",
    "n2 = randint(1,100)\n",
    "if n1>n2:\n",
    "    print(f\"{n1} is greater\")\n",
    "else:\n",
    "    print(f\"{n1} is greater\")"
   ]
  },
  {
   "cell_type": "code",
   "execution_count": 7,
   "id": "9fafe53d",
   "metadata": {},
   "outputs": [],
   "source": [
    "# wap ask the user\n",
    "# enter the course name\n",
    "# enter the institute name\n",
    "# if course name equal to data science\n",
    "# and institute name equal to naresh it\n",
    "# then print we are good\n",
    "# else print not good\n",
    "\n",
    "# step-1: course_name = input()\n",
    "# step-2: inst_name=input()\n",
    "# step-3: if <c1> and <c2>:\n",
    "# step-4:     print()\n",
    "# step-5: else:\n",
    "# step-6:     print()"
   ]
  },
  {
   "cell_type": "code",
   "execution_count": 8,
   "id": "6a9b1061",
   "metadata": {},
   "outputs": [
    {
     "name": "stdout",
     "output_type": "stream",
     "text": [
      "Enter course name: data science\n",
      "Enter institute name: naresh IT\n",
      "We are good\n"
     ]
    }
   ],
   "source": [
    "course_name = input(\"Enter course name: \").lower()\n",
    "inst_name = input(\"Enter institute name: \").lower()\n",
    "if course_name == \"data science\" and inst_name == \"naresh it\":\n",
    "    print(\"We are good\")\n",
    "else: \n",
    "    print(\"Khatam your zindagi\")"
   ]
  },
  {
   "cell_type": "markdown",
   "id": "17ce61a8",
   "metadata": {},
   "source": [
    "*if-elif-else*\n",
    "- when we have two solutions based on one condition\n",
    "- then we can go for if-else\n",
    "- when we have 3 solutions based on two conditions\n",
    "- then we go for if-elif-else\n",
    "- if needs condition\n",
    "- elif needs condition\n",
    "- if and elif both are wrong then will get else output"
   ]
  },
  {
   "cell_type": "raw",
   "id": "53d0a390",
   "metadata": {},
   "source": [
    "two conditions: if elif else\n",
    "three cond: if elif elif else"
   ]
  },
  {
   "cell_type": "code",
   "execution_count": 2,
   "id": "bc3e8be8",
   "metadata": {},
   "outputs": [],
   "source": [
    "# wap ask the user enter a number\n",
    "# if the number equal to 1 then print one\n",
    "# if the number equal to 2 then print two\n",
    "# if the number equal to 3 then print three\n",
    "# otherwise print enter a valid name"
   ]
  },
  {
   "cell_type": "code",
   "execution_count": 3,
   "id": "0010d943",
   "metadata": {},
   "outputs": [
    {
     "name": "stdout",
     "output_type": "stream",
     "text": [
      "Enter a number3\n",
      "three\n"
     ]
    }
   ],
   "source": [
    "user = int(input(\"Enter a number\"))\n",
    "if user == 1:\n",
    "    print(\"one\")\n",
    "elif user == 2:\n",
    "    print(\"two\")\n",
    "elif user == 3:\n",
    "    print(\"three\")\n",
    "else:\n",
    "    print(\"Enter a valid number\")"
   ]
  },
  {
   "cell_type": "code",
   "execution_count": 4,
   "id": "f7be0dbd",
   "metadata": {},
   "outputs": [],
   "source": [
    "# wap ask the user enter percentage of marks\n",
    "# if marks greater than 75 then print A grade\n",
    "# if marks between 60 to 75 then print B grade\n",
    "# if marks between 45 to 60 then print C grade\n",
    "# if marks between 35 to 45 then print D grade\n",
    "# otherwise print fail"
   ]
  },
  {
   "cell_type": "code",
   "execution_count": 8,
   "id": "a5989be9",
   "metadata": {},
   "outputs": [
    {
     "name": "stdout",
     "output_type": "stream",
     "text": [
      "Enter percentage of marks: 67\n",
      "B grade\n"
     ]
    }
   ],
   "source": [
    "perc = eval(input(\"Enter percentage of marks: \"))\n",
    "if perc > 75:\n",
    "    print(\"A grade\")\n",
    "elif perc >= 60:\n",
    "    print(\"B grade\")\n",
    "elif perc >= 45:\n",
    "    print(\"C grade\")\n",
    "elif perc >= 35:\n",
    "    print(\"D grade\")\n",
    "else:\n",
    "    print(\"Fail\")"
   ]
  },
  {
   "cell_type": "code",
   "execution_count": 9,
   "id": "9681fe83",
   "metadata": {},
   "outputs": [],
   "source": [
    "# wap ask the user enter age\n",
    "# if age greater than 100 print unlucky guy\n",
    "# if age between 80 to 100 print super senior citizen\n",
    "# if age between 60 to 80 print senior citizen\n",
    "# if age between 40 to 60 print aged\n",
    "# if age between 25 to 40 print middle aged\n",
    "# if age between 15 to 25 print young age\n",
    "# otherwise print kid"
   ]
  },
  {
   "cell_type": "code",
   "execution_count": 11,
   "id": "a24df6fa",
   "metadata": {},
   "outputs": [
    {
     "name": "stdout",
     "output_type": "stream",
     "text": [
      "Enter your age: 79\n",
      "Senior citizen\n"
     ]
    }
   ],
   "source": [
    "age = eval(input(\"Enter your age: \"))\n",
    "if age > 100:\n",
    "    print(\"unlucky guy\")\n",
    "elif age >= 80:\n",
    "    print(\"Super senior citizen\")\n",
    "elif age >=60:\n",
    "    print(\"Senior citizen\")\n",
    "elif age >= 40:\n",
    "    print(\"Aged\")\n",
    "elif age >= 25:\n",
    "    print(\"Middle aged\")\n",
    "elif age >= 15:\n",
    "    print(\"young age\")\n",
    "else:\n",
    "    print(\"Kid\")"
   ]
  },
  {
   "cell_type": "code",
   "execution_count": 12,
   "id": "a7e49a35",
   "metadata": {},
   "outputs": [],
   "source": [
    "# wap ask the user to enter a distance\n",
    "# if the distance greater than 100\n",
    "#     ask the user enter charge # 20rs\n",
    "#     print the total charge\n",
    "# if the distance between 50 to 100\n",
    "#     ask the user enter charge # 10rs\n",
    "#     print the total charge\n",
    "# if the distance between 25 to 50\n",
    "#     ask the user enter charge # 5rs\n",
    "#     print the total charge\n",
    "# otherwise print free ride"
   ]
  },
  {
   "cell_type": "code",
   "execution_count": 14,
   "id": "b7ee1086",
   "metadata": {},
   "outputs": [
    {
     "name": "stdout",
     "output_type": "stream",
     "text": [
      "Enter a distance: 56\n",
      "Enter the charge: 10\n",
      "the total charge is : 560\n"
     ]
    }
   ],
   "source": [
    "dist = eval(input(\"Enter a distance: \"))\n",
    "if dist >= 100:\n",
    "    charge = eval(input(\"Enter the charge: \"))\n",
    "    total_charge = dist*charge\n",
    "    print(f\"the total charge is : {total_charge}\")\n",
    "elif dist >= 50:\n",
    "    charge = eval(input(\"Enter the charge: \"))\n",
    "    total_charge = dist*charge\n",
    "    print(f\"the total charge is : {total_charge}\")\n",
    "elif dist >= 25:\n",
    "    charge = eval(input(\"Enter the charge: \"))\n",
    "    total_charge = dist*charge\n",
    "    print(f\"the total charge is : {total_charge}\")\n",
    "else:\n",
    "    print(\"free ride\")\n"
   ]
  },
  {
   "cell_type": "code",
   "execution_count": 15,
   "id": "d3f670e4",
   "metadata": {},
   "outputs": [
    {
     "data": {
      "text/plain": [
       "' you need to print some statements\\ntime.sleep(1)\\nprint enter 1 for addition\\nprint enter 2 for sub\\nprint enter 3 for mul\\nprint enter 4 for div\\nn1 = enter the number\\nn2 = enter the number\\noperation = eval(input(\"enter the numbers between 1 to 4\"))\\nif operation equal to 1:\\n  print you choose addition opertaion \\n  addition of n1+n2 \\nif operation equal to 2: \\n  print you choose subtraction opertaion \\n  subtraction of n1-n2\\n'"
      ]
     },
     "execution_count": 15,
     "metadata": {},
     "output_type": "execute_result"
    }
   ],
   "source": [
    "''' you need to print some statements\n",
    "time.sleep(1)\n",
    "print enter 1 for addition\n",
    "print enter 2 for sub\n",
    "print enter 3 for mul\n",
    "print enter 4 for div\n",
    "n1 = enter the number\n",
    "n2 = enter the number\n",
    "operation = eval(input(\"enter the numbers between 1 to 4\"))\n",
    "if operation equal to 1:\n",
    "  print you choose addition opertaion \n",
    "  addition of n1+n2 \n",
    "if operation equal to 2: \n",
    "  print you choose subtraction opertaion \n",
    "  subtraction of n1-n2\n",
    "'''"
   ]
  },
  {
   "cell_type": "code",
   "execution_count": null,
   "id": "7394a933",
   "metadata": {},
   "outputs": [],
   "source": []
  }
 ],
 "metadata": {
  "kernelspec": {
   "display_name": "Python 3 (ipykernel)",
   "language": "python",
   "name": "python3"
  },
  "language_info": {
   "codemirror_mode": {
    "name": "ipython",
    "version": 3
   },
   "file_extension": ".py",
   "mimetype": "text/x-python",
   "name": "python",
   "nbconvert_exporter": "python",
   "pygments_lexer": "ipython3",
   "version": "3.11.5"
  }
 },
 "nbformat": 4,
 "nbformat_minor": 5
}
