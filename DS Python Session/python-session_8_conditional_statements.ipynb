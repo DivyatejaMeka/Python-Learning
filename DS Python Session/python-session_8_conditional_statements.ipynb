{
 "cells": [
  {
   "cell_type": "markdown",
   "id": "f88bb35e",
   "metadata": {},
   "source": [
    "- conditional statements refers to execute the code based on some conditions\n",
    "- we have mainly three types\n",
    "   - if \n",
    "   - if else\n",
    "   - if elif else"
   ]
  },
  {
   "cell_type": "code",
   "execution_count": 1,
   "id": "c7bfbce4",
   "metadata": {},
   "outputs": [
    {
     "name": "stdout",
     "output_type": "stream",
     "text": [
      "Hello Good Morning\n"
     ]
    }
   ],
   "source": [
    "print(\"Hello Good Morning\")"
   ]
  },
  {
   "cell_type": "code",
   "execution_count": 2,
   "id": "4ffbb9fd",
   "metadata": {},
   "outputs": [],
   "source": [
    "# I want to say good morning\n",
    "# if your name is python"
   ]
  },
  {
   "cell_type": "raw",
   "id": "e4597121",
   "metadata": {},
   "source": [
    "if <condition>:\n",
    "    <write your code here>"
   ]
  },
  {
   "cell_type": "code",
   "execution_count": 5,
   "id": "d8fabf37",
   "metadata": {},
   "outputs": [
    {
     "name": "stdout",
     "output_type": "stream",
     "text": [
      "Correct Condition\n",
      "Hello\n"
     ]
    }
   ],
   "source": [
    "num = 10\n",
    "if num>0: #10>0 True, if True\n",
    "    print(\"Correct Condition\")\n",
    "    print(\"Hello\")"
   ]
  },
  {
   "cell_type": "raw",
   "id": "3085366a",
   "metadata": {},
   "source": [
    "if <condition>:\n",
    "    <code starts here>\n",
    "    \n",
    "# the space we need to maintain it is called indentation"
   ]
  },
  {
   "cell_type": "code",
   "execution_count": 2,
   "id": "ba4c584b",
   "metadata": {},
   "outputs": [
    {
     "data": {
      "text/plain": [
       "True"
      ]
     },
     "execution_count": 2,
     "metadata": {},
     "output_type": "execute_result"
    }
   ],
   "source": [
    "name = \"python\"\n",
    "name == \"python\""
   ]
  },
  {
   "cell_type": "code",
   "execution_count": 3,
   "id": "65032669",
   "metadata": {},
   "outputs": [
    {
     "data": {
      "text/plain": [
       "False"
      ]
     },
     "execution_count": 3,
     "metadata": {},
     "output_type": "execute_result"
    }
   ],
   "source": [
    "name != \"python\""
   ]
  },
  {
   "cell_type": "code",
   "execution_count": 4,
   "id": "a3c26872",
   "metadata": {},
   "outputs": [
    {
     "name": "stdout",
     "output_type": "stream",
     "text": [
      "Hello\n",
      "30\n"
     ]
    }
   ],
   "source": [
    "name = \"python\"\n",
    "if name == \"python\":\n",
    "    print(\"Hello\")\n",
    "    a = 10\n",
    "    b = 20\n",
    "    print(a+b)\n",
    "    \n",
    "# Step-1: name='python'\n",
    "# Step-2: if name == \"python\"  if 'python'=='python' if True\n",
    "# Step-3: print\"Hello\"\n",
    "# Step-4: a=10\n",
    "# Step-5: b=20\n",
    "# Step-6: a+b   10+20=30"
   ]
  },
  {
   "cell_type": "code",
   "execution_count": 5,
   "id": "33becd82",
   "metadata": {},
   "outputs": [
    {
     "name": "stdout",
     "output_type": "stream",
     "text": [
      "Correct\n",
      "Bye\n"
     ]
    }
   ],
   "source": [
    "if 100>10:\n",
    "    print(\"Correct\")\n",
    "print(\"Bye\")"
   ]
  },
  {
   "cell_type": "code",
   "execution_count": 6,
   "id": "7b416f04",
   "metadata": {},
   "outputs": [
    {
     "name": "stdout",
     "output_type": "stream",
     "text": [
      "Hai\n",
      "Hello\n",
      "Bye\n"
     ]
    }
   ],
   "source": [
    "print(\"Hai\")\n",
    "if 100>10:\n",
    "    print(\"Hello\")\n",
    "print(\"Bye\")"
   ]
  },
  {
   "cell_type": "markdown",
   "id": "7483ed59",
   "metadata": {},
   "source": [
    "**if-else**\n",
    "- whenever if condition fails automatically it goes to else part\n",
    "- so else does not require any condition\n",
    "- always maintain indentation for both if part and else part"
   ]
  },
  {
   "cell_type": "code",
   "execution_count": 7,
   "id": "13daf919",
   "metadata": {},
   "outputs": [
    {
     "name": "stdout",
     "output_type": "stream",
     "text": [
      "10\n",
      "wrong Condition\n",
      "20\n"
     ]
    }
   ],
   "source": [
    "print(10)\n",
    "if 100<10:\n",
    "    print(\"Correct condition\")\n",
    "else:\n",
    "    print(\"wrong Condition\")\n",
    "print(20)"
   ]
  },
  {
   "cell_type": "code",
   "execution_count": 8,
   "id": "7dbd1b7c",
   "metadata": {},
   "outputs": [
    {
     "ename": "SyntaxError",
     "evalue": "invalid syntax (3391799606.py, line 7)",
     "output_type": "error",
     "traceback": [
      "\u001b[1;36m  Cell \u001b[1;32mIn[8], line 7\u001b[1;36m\u001b[0m\n\u001b[1;33m    else:\u001b[0m\n\u001b[1;37m    ^\u001b[0m\n\u001b[1;31mSyntaxError\u001b[0m\u001b[1;31m:\u001b[0m invalid syntax\n"
     ]
    }
   ],
   "source": [
    "print(10)\n",
    "if 100>10:\n",
    "    print(\"Correct condition\")\n",
    "    print(\"Okay\")\n",
    "    \n",
    "print(\"Why are you come in middle\")\n",
    "else:\n",
    "    print(\"Wrong condition\")\n",
    "print(20)"
   ]
  },
  {
   "cell_type": "markdown",
   "id": "fce25ae8",
   "metadata": {},
   "source": [
    "## if and else always together"
   ]
  },
  {
   "cell_type": "code",
   "execution_count": 10,
   "id": "c7986cf6",
   "metadata": {},
   "outputs": [],
   "source": [
    "# wap ask the user take two numbers\n",
    "# num1 and num2\n",
    "# if both number are matched then print we are won\n",
    "# otherwise print we lost\n",
    "\n",
    "# step-1: n1=eval(input(\"en\"))\n",
    "# step-2: n2=eval(input(\"en\"))\n",
    "# step-3: if <condition>:\n",
    "# step-4:    print(\"we won\")\n",
    "# step-5: else:\n",
    "# step-6:    print(\"we lost\")"
   ]
  },
  {
   "cell_type": "code",
   "execution_count": 12,
   "id": "0280fd47",
   "metadata": {},
   "outputs": [
    {
     "name": "stdout",
     "output_type": "stream",
     "text": [
      "Enter num1: 20\n",
      "Enter num2: 20\n",
      "We won\n"
     ]
    }
   ],
   "source": [
    "n1 = eval(input(\"Enter num1: \"))\n",
    "n2 = eval(input(\"Enter num2: \"))\n",
    "if n1 == n2:\n",
    "    print(\"We won\")\n",
    "else:\n",
    "    print(\"We lost\")"
   ]
  },
  {
   "cell_type": "code",
   "execution_count": 19,
   "id": "9527656f",
   "metadata": {},
   "outputs": [
    {
     "name": "stdout",
     "output_type": "stream",
     "text": [
      "Enter num2: 4\n",
      "We lost\n"
     ]
    }
   ],
   "source": [
    "import random\n",
    "n1 = random.randint(1, 10)\n",
    "n2 = eval(input(\"Enter num2: \"))\n",
    "if n1 == n2:\n",
    "    print(\"We won\")\n",
    "else:\n",
    "    print(\"We lost\")"
   ]
  },
  {
   "cell_type": "code",
   "execution_count": 20,
   "id": "cfeb43ef",
   "metadata": {},
   "outputs": [],
   "source": [
    "# wap ask the user enter a number\n",
    "# print if the number is even or odd\n",
    "\n",
    "# idea == remainder should be zero\n",
    "# step-1: num = eval(input())\n",
    "# step-2: if<>:\n",
    "# step-3:    print(the given number is even)\n",
    "# step-4: else:\n",
    "# step-5:    print(the given number is odd)"
   ]
  },
  {
   "cell_type": "code",
   "execution_count": 21,
   "id": "39b4199d",
   "metadata": {},
   "outputs": [
    {
     "data": {
      "text/plain": [
       "2.5"
      ]
     },
     "execution_count": 21,
     "metadata": {},
     "output_type": "execute_result"
    }
   ],
   "source": [
    "5/2 # direct division"
   ]
  },
  {
   "cell_type": "code",
   "execution_count": 22,
   "id": "20952345",
   "metadata": {},
   "outputs": [
    {
     "data": {
      "text/plain": [
       "2"
      ]
     },
     "execution_count": 22,
     "metadata": {},
     "output_type": "execute_result"
    }
   ],
   "source": [
    "5//2 # floor division"
   ]
  },
  {
   "cell_type": "code",
   "execution_count": 23,
   "id": "e1e94ad9",
   "metadata": {},
   "outputs": [
    {
     "data": {
      "text/plain": [
       "1"
      ]
     },
     "execution_count": 23,
     "metadata": {},
     "output_type": "execute_result"
    }
   ],
   "source": [
    "5%2 # modulus operator"
   ]
  },
  {
   "cell_type": "code",
   "execution_count": 29,
   "id": "f1c54521",
   "metadata": {},
   "outputs": [
    {
     "name": "stdout",
     "output_type": "stream",
     "text": [
      "Enter a num: 22\n",
      "The given number 22 is even\n"
     ]
    }
   ],
   "source": [
    "num = eval(input(\"Enter a num: \"))\n",
    "if num%2 == 0:\n",
    "    print(f\"The given number {num} is even\")\n",
    "else:\n",
    "    print(f\"The given number {num} is odd\")"
   ]
  },
  {
   "cell_type": "code",
   "execution_count": 30,
   "id": "67a7f293",
   "metadata": {},
   "outputs": [],
   "source": [
    "# wap ask the user enter distance\n",
    "# if distance greater than 25:\n",
    "#     ask the charge\n",
    "#     calculate the charge other than 25kms distance\n",
    "# else:\n",
    "#     print(free ride)\n",
    "\n",
    "# step-1: distance = eval(input(\"\"))\n",
    "# step-2: if <>:\n",
    "# step-3:     charge = eval(input(\"\"))\n",
    "# step-4:     total charge = (d-25)*\n",
    "# step-5: else:\n",
    "# step-6:     print(free ride)"
   ]
  },
  {
   "cell_type": "code",
   "execution_count": 4,
   "id": "e97ffa52",
   "metadata": {},
   "outputs": [
    {
     "name": "stdout",
     "output_type": "stream",
     "text": [
      "Enter distance: 40\n",
      "Give cut off distance: 20\n",
      "The charge applicable only on: 20 kms\n",
      "Enter the charge: 30\n",
      "The total charge is: 450 rs\n"
     ]
    }
   ],
   "source": [
    "d = eval(input(\"Enter distance: \"))\n",
    "cutoff = eval(input(\"Give cut off distance: \"))\n",
    "if d>cutoff:\n",
    "    print(f\"The charge applicable only on: {d-cutoff} kms\")\n",
    "    charge = eval(input(\"Enter the charge: \"))\n",
    "    total_charge = (d-25)*charge\n",
    "    print(f\"The total charge is: {total_charge} rs\")\n",
    "else:\n",
    "    print(\"free ride\")"
   ]
  },
  {
   "cell_type": "code",
   "execution_count": null,
   "id": "50c0f605",
   "metadata": {},
   "outputs": [],
   "source": [
    "# wap ask the user take two numbers\n",
    "# print which is greater number\n",
    "\n",
    "# step-1: n1=eval(input())\n",
    "# step-2: n2=eval(input())\n",
    "# step-3: if <cond>:\n",
    "# step-4:      print()\n",
    "# step-5: else:\n",
    "# step-6:      print()"
   ]
  },
  {
   "cell_type": "code",
   "execution_count": 5,
   "id": "7df320b7",
   "metadata": {},
   "outputs": [
    {
     "name": "stdout",
     "output_type": "stream",
     "text": [
      "Enter num1: 30\n",
      "Enter num2: 20\n",
      "The greater number is 30\n"
     ]
    }
   ],
   "source": [
    "n1 = eval(input(\"Enter num1: \"))\n",
    "n2 = eval(input(\"Enter num2: \"))\n",
    "if n1<n2:\n",
    "    print(f\"The greater number is {n2}\")\n",
    "else:\n",
    "    print(f\"The greater number is {n1}\")"
   ]
  },
  {
   "cell_type": "code",
   "execution_count": 6,
   "id": "78c1bc7e",
   "metadata": {},
   "outputs": [
    {
     "name": "stdout",
     "output_type": "stream",
     "text": [
      "95 is greater\n"
     ]
    }
   ],
   "source": [
    "from random import randint\n",
    "n1 = randint(1,100)\n",
    "n2 = randint(1,100)\n",
    "if n1>n2:\n",
    "    print(f\"{n1} is greater\")\n",
    "else:\n",
    "    print(f\"{n1} is greater\")"
   ]
  },
  {
   "cell_type": "code",
   "execution_count": 7,
   "id": "9fafe53d",
   "metadata": {},
   "outputs": [],
   "source": [
    "# wap ask the user\n",
    "# enter the course name\n",
    "# enter the institute name\n",
    "# if course name equal to data science\n",
    "# and institute name equal to naresh it\n",
    "# then print we are good\n",
    "# else print not good\n",
    "\n",
    "# step-1: course_name = input()\n",
    "# step-2: inst_name=input()\n",
    "# step-3: if <c1> and <c2>:\n",
    "# step-4:     print()\n",
    "# step-5: else:\n",
    "# step-6:     print()"
   ]
  },
  {
   "cell_type": "code",
   "execution_count": 8,
   "id": "6a9b1061",
   "metadata": {},
   "outputs": [
    {
     "name": "stdout",
     "output_type": "stream",
     "text": [
      "Enter course name: data science\n",
      "Enter institute name: naresh IT\n",
      "We are good\n"
     ]
    }
   ],
   "source": [
    "course_name = input(\"Enter course name: \").lower()\n",
    "inst_name = input(\"Enter institute name: \").lower()\n",
    "if course_name == \"data science\" and inst_name == \"naresh it\":\n",
    "    print(\"We are good\")\n",
    "else: \n",
    "    print(\"Khatam your zindagi\")"
   ]
  },
  {
   "cell_type": "code",
   "execution_count": null,
   "id": "9606b412",
   "metadata": {},
   "outputs": [],
   "source": []
  }
 ],
 "metadata": {
  "kernelspec": {
   "display_name": "Python 3 (ipykernel)",
   "language": "python",
   "name": "python3"
  },
  "language_info": {
   "codemirror_mode": {
    "name": "ipython",
    "version": 3
   },
   "file_extension": ".py",
   "mimetype": "text/x-python",
   "name": "python",
   "nbconvert_exporter": "python",
   "pygments_lexer": "ipython3",
   "version": "3.11.5"
  }
 },
 "nbformat": 4,
 "nbformat_minor": 5
}
