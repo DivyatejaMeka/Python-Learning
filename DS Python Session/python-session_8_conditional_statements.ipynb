{
 "cells": [
  {
   "cell_type": "markdown",
   "id": "f88bb35e",
   "metadata": {},
   "source": [
    "- conditional statements refers to execute the code based on some conditions\n",
    "- we have mainly three types\n",
    "   - if \n",
    "   - if else\n",
    "   - if elif else"
   ]
  },
  {
   "cell_type": "code",
   "execution_count": 1,
   "id": "c7bfbce4",
   "metadata": {},
   "outputs": [
    {
     "name": "stdout",
     "output_type": "stream",
     "text": [
      "Hello Good Morning\n"
     ]
    }
   ],
   "source": [
    "print(\"Hello Good Morning\")"
   ]
  },
  {
   "cell_type": "code",
   "execution_count": 2,
   "id": "4ffbb9fd",
   "metadata": {},
   "outputs": [],
   "source": [
    "# I want to say good morning\n",
    "# if your name is python"
   ]
  },
  {
   "cell_type": "raw",
   "id": "e4597121",
   "metadata": {},
   "source": [
    "if <condition>:\n",
    "    <write your code here>"
   ]
  },
  {
   "cell_type": "code",
   "execution_count": 5,
   "id": "d8fabf37",
   "metadata": {},
   "outputs": [
    {
     "name": "stdout",
     "output_type": "stream",
     "text": [
      "Correct Condition\n",
      "Hello\n"
     ]
    }
   ],
   "source": [
    "num = 10\n",
    "if num>0: #10>0 True, if True\n",
    "    print(\"Correct Condition\")\n",
    "    print(\"Hello\")"
   ]
  },
  {
   "cell_type": "code",
   "execution_count": null,
   "id": "28c39451",
   "metadata": {},
   "outputs": [],
   "source": []
  }
 ],
 "metadata": {
  "kernelspec": {
   "display_name": "Python 3 (ipykernel)",
   "language": "python",
   "name": "python3"
  },
  "language_info": {
   "codemirror_mode": {
    "name": "ipython",
    "version": 3
   },
   "file_extension": ".py",
   "mimetype": "text/x-python",
   "name": "python",
   "nbconvert_exporter": "python",
   "pygments_lexer": "ipython3",
   "version": "3.11.5"
  }
 },
 "nbformat": 4,
 "nbformat_minor": 5
}
