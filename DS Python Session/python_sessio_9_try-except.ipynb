{
 "cells": [
  {
   "cell_type": "markdown",
   "id": "ddf8d181",
   "metadata": {},
   "source": [
    "**Try-Except**\n",
    "- try and exception are two blocks\n",
    "- original code will write under **try block**\n",
    "- if any error occurs in original code\n",
    "- it will redirect to **except** block\n",
    "- **except** block will catch the errors in try block"
   ]
  },
  {
   "cell_type": "markdown",
   "id": "7ec807ce",
   "metadata": {},
   "source": [
    "- syntax error\n",
    "- case sensitive error\n",
    "- name error \n",
    "- zero division rule\n",
    "- indentation error"
   ]
  },
  {
   "cell_type": "code",
   "execution_count": 3,
   "id": "78ee7c15",
   "metadata": {},
   "outputs": [
    {
     "name": "stdout",
     "output_type": "stream",
     "text": [
      "10\n",
      "20\n",
      "Hello the code is good\n"
     ]
    }
   ],
   "source": [
    "try:\n",
    "    n1=10\n",
    "    print(n1)\n",
    "    n2=20\n",
    "    print(n2)\n",
    "    add=n1+n22\n",
    "    print(add)\n",
    "except:\n",
    "    print(\"Hello the code is good\")"
   ]
  },
  {
   "cell_type": "raw",
   "id": "2d42921f",
   "metadata": {},
   "source": [
    "try:\n",
    "   <write your original code>\n",
    "except:\n",
    "   <catch the error here>"
   ]
  },
  {
   "cell_type": "raw",
   "id": "b25e8a8e",
   "metadata": {},
   "source": [
    "try:\n",
    "   <write your code>\n",
    "except Exception as e:\n",
    "   print(e)"
   ]
  },
  {
   "cell_type": "code",
   "execution_count": 4,
   "id": "b38ecdc8",
   "metadata": {},
   "outputs": [
    {
     "name": "stdout",
     "output_type": "stream",
     "text": [
      "10\n",
      "20\n",
      "name 'n22' is not defined\n"
     ]
    }
   ],
   "source": [
    "try:\n",
    "    n1=10\n",
    "    print(n1)\n",
    "    n2=20\n",
    "    print(n2)\n",
    "    add=n1+n22\n",
    "    print(add)\n",
    "except Exception as e:\n",
    "    print(e)"
   ]
  },
  {
   "cell_type": "code",
   "execution_count": 5,
   "id": "a315c7b4",
   "metadata": {},
   "outputs": [
    {
     "name": "stdout",
     "output_type": "stream",
     "text": [
      "Enter n1: 1\n",
      "Enter n2: 0\n"
     ]
    },
    {
     "ename": "ZeroDivisionError",
     "evalue": "division by zero",
     "output_type": "error",
     "traceback": [
      "\u001b[1;31m---------------------------------------------------------------------------\u001b[0m",
      "\u001b[1;31mZeroDivisionError\u001b[0m                         Traceback (most recent call last)",
      "Cell \u001b[1;32mIn[5], line 3\u001b[0m\n\u001b[0;32m      1\u001b[0m n1 \u001b[38;5;241m=\u001b[39m \u001b[38;5;28meval\u001b[39m(\u001b[38;5;28minput\u001b[39m(\u001b[38;5;124m\"\u001b[39m\u001b[38;5;124mEnter n1: \u001b[39m\u001b[38;5;124m\"\u001b[39m))\n\u001b[0;32m      2\u001b[0m n2 \u001b[38;5;241m=\u001b[39m \u001b[38;5;28meval\u001b[39m(\u001b[38;5;28minput\u001b[39m(\u001b[38;5;124m\"\u001b[39m\u001b[38;5;124mEnter n2: \u001b[39m\u001b[38;5;124m\"\u001b[39m))\n\u001b[1;32m----> 3\u001b[0m div \u001b[38;5;241m=\u001b[39m n1\u001b[38;5;241m/\u001b[39mn2\n\u001b[0;32m      4\u001b[0m \u001b[38;5;28mprint\u001b[39m(div)\n",
      "\u001b[1;31mZeroDivisionError\u001b[0m: division by zero"
     ]
    }
   ],
   "source": [
    "n1 = eval(input(\"Enter n1: \"))\n",
    "n2 = eval(input(\"Enter n2: \"))\n",
    "div = n1/n2\n",
    "print(div)"
   ]
  },
  {
   "cell_type": "code",
   "execution_count": 8,
   "id": "c8a90b77",
   "metadata": {},
   "outputs": [
    {
     "name": "stdout",
     "output_type": "stream",
     "text": [
      "Enter n1: 100\n",
      "Enter n2: 0\n",
      "division by zero\n"
     ]
    }
   ],
   "source": [
    "try:\n",
    "    n1 = eval(input(\"Enter n1: \"))\n",
    "    n2 = eval(input(\"Enter n2: \"))\n",
    "    div = n1/n2\n",
    "    print(div)\n",
    "except Exception as e:\n",
    "    print(e)"
   ]
  },
  {
   "cell_type": "code",
   "execution_count": 10,
   "id": "2442cde4",
   "metadata": {},
   "outputs": [
    {
     "name": "stdout",
     "output_type": "stream",
     "text": [
      "Enter a num: 20\n",
      "name 'numm' is not defined\n"
     ]
    }
   ],
   "source": [
    "try:\n",
    "    num = eval(input(\"Enter a num: \"))\n",
    "    if numm>=60:\n",
    "        print(\"A\")\n",
    "    elif num>=45:\n",
    "        print(\"B\")\n",
    "except Exception as e:\n",
    "    print(e)"
   ]
  },
  {
   "cell_type": "code",
   "execution_count": null,
   "id": "dd9b8407",
   "metadata": {},
   "outputs": [],
   "source": [
    "# in the real time we will write thousands of code\n",
    "# what will happen\n",
    "# the same code will work on your side, but client side may not work\n",
    "\n",
    "# 2000 lines, 1500 ===> lines client mightget error\n",
    "# the error does not matter, it will not impact the output"
   ]
  }
 ],
 "metadata": {
  "kernelspec": {
   "display_name": "Python 3 (ipykernel)",
   "language": "python",
   "name": "python3"
  },
  "language_info": {
   "codemirror_mode": {
    "name": "ipython",
    "version": 3
   },
   "file_extension": ".py",
   "mimetype": "text/x-python",
   "name": "python",
   "nbconvert_exporter": "python",
   "pygments_lexer": "ipython3",
   "version": "3.11.5"
  }
 },
 "nbformat": 4,
 "nbformat_minor": 5
}
