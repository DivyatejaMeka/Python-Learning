{
 "cells": [
  {
   "cell_type": "code",
   "execution_count": null,
   "id": "5475de39-9017-42d1-ba2d-df662578706f",
   "metadata": {},
   "outputs": [],
   "source": [
    "with out arguments\n",
    "with arguments\n",
    "default arguments\n",
    "local variable vs global varibale\n",
    "global keyword\n",
    "return statement\n",
    "function in function"
   ]
  },
  {
   "cell_type": "code",
   "execution_count": null,
   "id": "afb0a264-f89b-4a99-b6bb-c79f125ac960",
   "metadata": {},
   "outputs": [],
   "source": [
    "if-else assignment 9th loops only \n",
    "skip that qn\n",
    "find the number of "
   ]
  },
  {
   "cell_type": "markdown",
   "id": "81f71668-9f01-4be4-b423-4f941b5f9ece",
   "metadata": {},
   "source": [
    "**Loops**"
   ]
  },
  {
   "cell_type": "markdown",
   "id": "e5e1a6d0-cef5-468a-82d6-0fcd5441c85b",
   "metadata": {},
   "source": [
    "- iterating code\n",
    "\n",
    "- repeating code\n",
    "\n",
    "    - For loops\n",
    "\n",
    "    - while loop"
   ]
  },
  {
   "cell_type": "code",
   "execution_count": 1,
   "id": "a74cf79d-9f20-42ae-bb61-f0cacda29f0c",
   "metadata": {},
   "outputs": [
    {
     "name": "stdout",
     "output_type": "stream",
     "text": [
      "100.0\n"
     ]
    }
   ],
   "source": [
    "# we want to calculate a tax of an employee\n",
    "\n",
    "def tax_cal(income,tax):\n",
    "    tax_amount=income*tax/100\n",
    "    print(tax_amount)\n",
    "\n",
    "tax_cal(1000,10)"
   ]
  },
  {
   "cell_type": "code",
   "execution_count": null,
   "id": "83c5f086-7024-4192-9351-c65d2ab97f2a",
   "metadata": {},
   "outputs": [],
   "source": [
    "income=50000\n",
    "tax=10\n",
    "tax_amount=income*tax/100\n",
    "\n",
    "# not created a function === 3\n",
    "# how many emplyees= 500\n",
    "# 500*3 =1500\n",
    "\n",
    "# 3lines ==== function\n",
    "# funtion ==== 500 "
   ]
  },
  {
   "cell_type": "markdown",
   "id": "ce3f470b-dbb4-47d8-85d1-bc47e588d099",
   "metadata": {},
   "source": [
    "- intialization (intial point to start the loop)\n",
    "\n",
    "- increment/decrement\n",
    "\n",
    "- condition to stop the loop\n",
    "\n"
   ]
  },
  {
   "cell_type": "markdown",
   "id": "8e66b5ff-1c33-409a-b755-83f020b718bf",
   "metadata": {},
   "source": [
    "**For loop**\n"
   ]
  },
  {
   "cell_type": "code",
   "execution_count": null,
   "id": "5206f6c6-3e99-47a9-865b-5962e0776d92",
   "metadata": {},
   "outputs": [],
   "source": [
    "#for <variable> in range(<value>):\n",
    "    #<write your code here>"
   ]
  },
  {
   "cell_type": "code",
   "execution_count": 4,
   "id": "a4864ac3-b0bb-4441-a742-aa38f83e3101",
   "metadata": {},
   "outputs": [
    {
     "name": "stdout",
     "output_type": "stream",
     "text": [
      "0\n",
      "1\n",
      "2\n",
      "3\n"
     ]
    }
   ],
   "source": [
    "for i in range(4):\n",
    "    print(i)"
   ]
  },
  {
   "cell_type": "code",
   "execution_count": null,
   "id": "f3f1e0b4-7853-4d2d-b833-a9ef49ccffe6",
   "metadata": {},
   "outputs": [],
   "source": [
    "print(0)\n",
    "print(1)\n",
    "print(2)\n",
    "\n",
    "print(i)"
   ]
  },
  {
   "cell_type": "markdown",
   "id": "b90d1e23-0f80-43c6-97b7-7e28b7d3915b",
   "metadata": {},
   "source": [
    "**case-1:range(stop)**\n",
    "\n",
    "- start value= 0 \n",
    "\n",
    "- step size = +1\n",
    "\n",
    "- last=stop-1\n",
    "\n",
    "- range(3)\n",
    "\n",
    "    - start value=0\n",
    " \n",
    "    - increment=1\n",
    " \n",
    "    - last= stop-1= 3-1=2"
   ]
  },
  {
   "cell_type": "code",
   "execution_count": 7,
   "id": "c7354bc7-3731-4289-a289-5daf6f2b6933",
   "metadata": {},
   "outputs": [
    {
     "name": "stdout",
     "output_type": "stream",
     "text": [
      "0\n",
      "1\n",
      "2\n",
      "3\n",
      "4\n"
     ]
    }
   ],
   "source": [
    "for i in range(5):\n",
    "    print(i)\n",
    "\n",
    "# variable name can be anything\n",
    "# start=0 step=1 stop=5-1=4"
   ]
  },
  {
   "cell_type": "code",
   "execution_count": 8,
   "id": "c1428dd6-e173-41ed-a559-0cb2c349b345",
   "metadata": {},
   "outputs": [
    {
     "name": "stdout",
     "output_type": "stream",
     "text": [
      "good evening\n",
      "good evening\n",
      "good evening\n",
      "good evening\n",
      "good evening\n"
     ]
    }
   ],
   "source": [
    "for i in range(5):\n",
    "    print('good evening')"
   ]
  },
  {
   "cell_type": "code",
   "execution_count": 13,
   "id": "7cd6462b-e962-44aa-8dc3-f66575272911",
   "metadata": {},
   "outputs": [
    {
     "name": "stdout",
     "output_type": "stream",
     "text": [
      "0 1 2 3\n"
     ]
    }
   ],
   "source": [
    "print(0,end=' ')\n",
    "print(1,end=' ')\n",
    "print(2,end=' ')\n",
    "print(3)\n",
    "\n",
    "print(i,end=' ')"
   ]
  },
  {
   "cell_type": "code",
   "execution_count": 14,
   "id": "953efee7-a553-41bb-823c-ace09761e5c8",
   "metadata": {},
   "outputs": [
    {
     "name": "stdout",
     "output_type": "stream",
     "text": [
      "0 1 2 3 4 "
     ]
    }
   ],
   "source": [
    "for i in range(5):\n",
    "    print(i,end=' ')\n"
   ]
  },
  {
   "cell_type": "markdown",
   "id": "a889721b-fd09-4fd0-8b36-0c1842faa102",
   "metadata": {},
   "source": [
    "**Case-2:range(start,stop)**\n",
    "\n",
    "- start value= start\n",
    "\n",
    "- step= 1\n",
    "\n",
    "- last =stop-1\n",
    "\n",
    "- range(2,7)\n",
    "\n",
    "    - start=2\n",
    "\n",
    "    - step=1\n",
    "\n",
    "    - last=7-1=6\n",
    "\n",
    "2,3,4,5,6"
   ]
  },
  {
   "cell_type": "code",
   "execution_count": 15,
   "id": "52ff036b-e5e1-4825-ac6d-65888ae03f43",
   "metadata": {},
   "outputs": [
    {
     "name": "stdout",
     "output_type": "stream",
     "text": [
      "2 3 4 5 6 "
     ]
    }
   ],
   "source": [
    "for i in range(2,7):\n",
    "    print(i,end=' ')"
   ]
  },
  {
   "cell_type": "code",
   "execution_count": 18,
   "id": "ad829bbe-5ed0-4361-a729-dbf0d1097609",
   "metadata": {},
   "outputs": [
    {
     "name": "stdout",
     "output_type": "stream",
     "text": [
      "the square of 1 is 1\n",
      "the square of 2 is 4\n",
      "the square of 3 is 9\n",
      "the square of 4 is 16\n",
      "the square of 5 is 25\n"
     ]
    }
   ],
   "source": [
    "# wap ask the to print square of the first 5 numbers\n",
    "for i in range(1,6):\n",
    "    print(f'the square of {i} is {i*i}')"
   ]
  },
  {
   "cell_type": "code",
   "execution_count": 20,
   "id": "ec3729aa-5eb8-47d5-b4e7-b408f5183afc",
   "metadata": {},
   "outputs": [
    {
     "name": "stdin",
     "output_type": "stream",
     "text": [
      "enter the num: 2\n"
     ]
    },
    {
     "name": "stdout",
     "output_type": "stream",
     "text": [
      "the square of 2 is 4\n"
     ]
    },
    {
     "name": "stdin",
     "output_type": "stream",
     "text": [
      "enter the num: 5\n"
     ]
    },
    {
     "name": "stdout",
     "output_type": "stream",
     "text": [
      "the square of 5 is 25\n"
     ]
    },
    {
     "name": "stdin",
     "output_type": "stream",
     "text": [
      "enter the num: 8\n"
     ]
    },
    {
     "name": "stdout",
     "output_type": "stream",
     "text": [
      "the square of 8 is 64\n"
     ]
    }
   ],
   "source": [
    "# wap ask the user enter a number and get the square of the number\n",
    "# the user should enter 5 values one by one\n",
    "# the prompt should ask 5 times\n",
    "for i in range(1,6):\n",
    "    num=eval(input(\"enter the num:\"))\n",
    "    print(f\"the square of {num} is {num*num}\")"
   ]
  },
  {
   "cell_type": "code",
   "execution_count": 21,
   "id": "e0cd2eef-5769-4eac-9524-b8fd3fbe094d",
   "metadata": {},
   "outputs": [
    {
     "name": "stdout",
     "output_type": "stream",
     "text": [
      "the square of 65 is 4225\n",
      "the square of 61 is 3721\n",
      "the square of 60 is 3600\n"
     ]
    }
   ],
   "source": [
    "import random\n",
    "for i in range(1,4):\n",
    "    num=random.randint(1,100)\n",
    "    print(f\"the square of {num} is {num*num}\")"
   ]
  },
  {
   "cell_type": "code",
   "execution_count": null,
   "id": "0d7bd2a2-e876-4eaf-b832-a6e3e4f30329",
   "metadata": {},
   "outputs": [],
   "source": [
    "TypeError: 'int' object is not callable\n",
    "python jupyter notebook\n",
    "restart it ==== new jupyter notebook"
   ]
  },
  {
   "cell_type": "code",
   "execution_count": null,
   "id": "086bcac8-5df4-451e-8ee5-e41342eef565",
   "metadata": {},
   "outputs": [],
   "source": [
    "for i in range(1,6):\n",
    "    print(f'the square of {i} is {i*i}')\n",
    "################################################\n",
    "for i in range(1,6):\n",
    "    num=eval(input(\"enter the num:\"))\n",
    "    print(f\"the square of {num} is {num*num}\")\n",
    "#####################################################\n",
    "import random\n",
    "for i in range(1,4):\n",
    "    num=random.randint(1,100)\n",
    "    print(f\"the square of {num} is {num*num}\")"
   ]
  },
  {
   "cell_type": "markdown",
   "id": "1ebb4879-b3b4-495f-ad4e-18b72e8c0725",
   "metadata": {},
   "source": [
    "**Case-3:range(start,stop,step)**\n",
    "\n",
    "- start value= start\n",
    "\n",
    "- step= postive means + sign \n",
    "\n",
    "    - gap = postive step size\n",
    "\n",
    "    - last= stop-1\n",
    "\n",
    "- step= negative means - sign \n",
    "\n",
    "    - gap = negative step size\n",
    "\n",
    "    - last = stop+1"
   ]
  },
  {
   "cell_type": "code",
   "execution_count": null,
   "id": "52b02a2c-e9b9-40cd-86b6-6ac63f2788d6",
   "metadata": {},
   "outputs": [],
   "source": [
    "range(2,20,2)\n",
    "range(start,stop,step)\n",
    "\n",
    "start= 2\n",
    "step=2 postive direction\n",
    "last= 20-1=19\n",
    "\n",
    "2 ================with gap2======================19\n",
    "2   4   6   8  10  12  14  16  18  "
   ]
  },
  {
   "cell_type": "code",
   "execution_count": 22,
   "id": "29b8d09d-cc59-42e2-859d-c357745ec823",
   "metadata": {},
   "outputs": [
    {
     "name": "stdout",
     "output_type": "stream",
     "text": [
      "2 4 6 8 10 12 14 16 18 "
     ]
    }
   ],
   "source": [
    "for i in range(2,20,2):\n",
    "    print(i,end=' ')"
   ]
  },
  {
   "cell_type": "code",
   "execution_count": null,
   "id": "4e7c1acb-2f21-48a3-b97e-8a862b8bb3a5",
   "metadata": {},
   "outputs": [],
   "source": [
    "range(-2,-20,-2)\n",
    "range(start,stop,step)\n",
    "start=-2\n",
    "step=-2  negative direction\n",
    "last= stop+1= -20+1=-19\n",
    "\n",
    "-2  -4  -6  -8  -10  -12  -14  -16  -18"
   ]
  },
  {
   "cell_type": "code",
   "execution_count": 23,
   "id": "6a48e08a-c043-4b8f-b8d8-167e14653c47",
   "metadata": {},
   "outputs": [
    {
     "name": "stdout",
     "output_type": "stream",
     "text": [
      "-2 -4 -6 -8 -10 -12 -14 -16 -18 "
     ]
    }
   ],
   "source": [
    "for i in range(-2,-20,-2):\n",
    "    print(i,end=' ')"
   ]
  },
  {
   "cell_type": "code",
   "execution_count": null,
   "id": "f95f3db1-7fe5-4da0-a7aa-f356f88f1227",
   "metadata": {},
   "outputs": [],
   "source": [
    "range(2,-20,-2)\n",
    "range(start,stop,step)\n",
    "start=2\n",
    "step=-2  negative direction\n",
    "last=stop+1= -20+1=-19"
   ]
  },
  {
   "cell_type": "code",
   "execution_count": 24,
   "id": "30604e88-48b3-4f72-a8f4-f72ac00905fc",
   "metadata": {},
   "outputs": [
    {
     "name": "stdout",
     "output_type": "stream",
     "text": [
      "2 0 -2 -4 -6 -8 -10 -12 -14 -16 -18 "
     ]
    }
   ],
   "source": [
    "for i in range(2,-20,-2):\n",
    "    print(i,end=' ')"
   ]
  },
  {
   "cell_type": "code",
   "execution_count": null,
   "id": "615b93fb-062b-4a95-a117-47d57baac8f4",
   "metadata": {},
   "outputs": [],
   "source": [
    "range(2,-20,2)\n",
    "range(start,stop,step)\n",
    "start=2\n",
    "step=2 ==== postive\n",
    "last= stop-1=-20-1=-21\n",
    "\n"
   ]
  },
  {
   "cell_type": "code",
   "execution_count": 25,
   "id": "ac6fe42a-a5a8-4039-9fcc-e5dd914060dd",
   "metadata": {},
   "outputs": [],
   "source": [
    "for i in range(2,-20,2):\n",
    "    print(i)\n",
    "\n",
    "# Not possible\n",
    "# step postive direction\n",
    "# last value is negative direction"
   ]
  },
  {
   "cell_type": "code",
   "execution_count": 26,
   "id": "608dcb94-e301-4a0f-8230-acd0be9141a9",
   "metadata": {},
   "outputs": [],
   "source": [
    "for i in range(-2,20,-2):\n",
    "    print(i)"
   ]
  },
  {
   "cell_type": "code",
   "execution_count": null,
   "id": "0cbd9959-62d7-4537-a766-b4abf22e4a10",
   "metadata": {},
   "outputs": [],
   "source": [
    "range(3,15,3) # p\n",
    "range(3,15,-3) # np\n",
    "range(3,-15,3) # np\n",
    "range(-3,15,3) # p\n",
    "range(3,-15,-3) # p\n",
    "range(-3,-15,3) # np\n",
    "range(-3,15,-3) # np\n",
    "range(-3,-15,-3) #p\n",
    "range(15,3,3) # np\n",
    "range(15,3,-3) # p\n",
    "range(15,-3,3) # np\n",
    "range(15,-3,-3) # p\n",
    "range(-15,3,3) # p\n",
    "range(-15,3,-3) # np\n"
   ]
  },
  {
   "cell_type": "code",
   "execution_count": null,
   "id": "8a4b366f-9e33-4fe2-8b01-f84ab2a7c297",
   "metadata": {},
   "outputs": [],
   "source": [
    "range(-3,15,-3) # np\n",
    "range(-3,-15,-3) #p"
   ]
  },
  {
   "cell_type": "code",
   "execution_count": null,
   "id": "1faf9582-123e-4330-bfa5-31997781a2d8",
   "metadata": {},
   "outputs": [],
   "source": [
    "# wap ask the user enter 5 numbers\n",
    "# print it is a even number or odd\n",
    "# loop should run 5 times\n",
    "# code should ask 5 times enter the number\n",
    "\n",
    "# wap ask the user print 7th table\n",
    "# o/p\n",
    "#  7x1=7\n",
    "#  7x2=14\n",
    "\n",
    "# WAP ask the user enter the number and find the divisors of the number\n",
    "# 75 ====> 1,3,5,15,75 "
   ]
  },
  {
   "cell_type": "code",
   "execution_count": 2,
   "id": "03359345-0c4c-462f-84f3-8c24b9063a02",
   "metadata": {},
   "outputs": [
    {
     "name": "stdin",
     "output_type": "stream",
     "text": [
      "enter the number: 20\n"
     ]
    },
    {
     "name": "stdout",
     "output_type": "stream",
     "text": [
      "the 20 is an even\n"
     ]
    },
    {
     "name": "stdin",
     "output_type": "stream",
     "text": [
      "enter the number: 21\n"
     ]
    },
    {
     "name": "stdout",
     "output_type": "stream",
     "text": [
      "the 21 is an odd\n"
     ]
    },
    {
     "name": "stdin",
     "output_type": "stream",
     "text": [
      "enter the number: 22\n"
     ]
    },
    {
     "name": "stdout",
     "output_type": "stream",
     "text": [
      "the 22 is an even\n"
     ]
    },
    {
     "name": "stdin",
     "output_type": "stream",
     "text": [
      "enter the number: 23\n"
     ]
    },
    {
     "name": "stdout",
     "output_type": "stream",
     "text": [
      "the 23 is an odd\n"
     ]
    },
    {
     "name": "stdin",
     "output_type": "stream",
     "text": [
      "enter the number: 24\n"
     ]
    },
    {
     "name": "stdout",
     "output_type": "stream",
     "text": [
      "the 24 is an even\n"
     ]
    }
   ],
   "source": [
    "for i in range(5):\n",
    "    num=eval(input(\"enter the number:\"))\n",
    "    if num%2==0:\n",
    "        print(f\"the {num} is an even\")\n",
    "    else:\n",
    "        print(f\"the {num} is an odd\")"
   ]
  },
  {
   "cell_type": "code",
   "execution_count": 6,
   "id": "9d4d2ca0-d52d-48da-902b-7494f57b1f39",
   "metadata": {},
   "outputs": [
    {
     "name": "stdout",
     "output_type": "stream",
     "text": [
      "7x1=7\n",
      "7x2=14\n",
      "7x3=21\n",
      "7x4=28\n",
      "7x5=35\n",
      "7x6=42\n",
      "7x7=49\n",
      "7x8=56\n",
      "7x9=63\n",
      "7x10=70\n"
     ]
    }
   ],
   "source": [
    "# wap ask the user 7th table\n",
    "# 7x1=7\n",
    "# 7x2=14\n",
    "# 7x3=21\n",
    "for i in range(1,11):\n",
    "    print(f\"7x{i}={7*i}\")"
   ]
  },
  {
   "cell_type": "code",
   "execution_count": 7,
   "id": "b14eaa39-a68a-4596-b7b6-a7cd118fafe9",
   "metadata": {},
   "outputs": [
    {
     "name": "stdin",
     "output_type": "stream",
     "text": [
      "enter which divisor you want 10\n"
     ]
    },
    {
     "name": "stdout",
     "output_type": "stream",
     "text": [
      "1 is a divisor for 10\n",
      "2 is a divisor for 10\n",
      "5 is a divisor for 10\n",
      "10 is a divisor for 10\n"
     ]
    }
   ],
   "source": [
    "# when a number divisible by another number\n",
    "# if the reminder is zero \n",
    "\n",
    "# 10 \n",
    "\n",
    "# 10%1==0  1  \n",
    "# 10/2==0  2\n",
    "# 10/3\n",
    "# 10/4\n",
    "# 10/5==0 2\n",
    "# 10/6\n",
    "\n",
    "# 10/10== 10\n",
    "\n",
    "num=eval(input(\"enter which divisor you want\"))\n",
    "for i in range(1,num+1):\n",
    "    if num%i==0:\n",
    "        print(f\"{i} is a divisor for {num}\")"
   ]
  },
  {
   "cell_type": "code",
   "execution_count": 8,
   "id": "3ab33dcf-76fb-42ea-89d5-8ab4762eeeee",
   "metadata": {},
   "outputs": [
    {
     "name": "stdin",
     "output_type": "stream",
     "text": [
      "enter which divisor you want 75\n"
     ]
    },
    {
     "name": "stdout",
     "output_type": "stream",
     "text": [
      "1 is a divisor for 75\n",
      "3 is a divisor for 75\n",
      "5 is a divisor for 75\n",
      "15 is a divisor for 75\n",
      "25 is a divisor for 75\n",
      "75 is a divisor for 75\n"
     ]
    }
   ],
   "source": [
    "def divisors():\n",
    "    num=eval(input(\"enter which divisor you want\"))\n",
    "    for i in range(1,num+1):\n",
    "        if num%i==0:\n",
    "            print(f\"{i} is a divisor for {num}\")\n",
    "\n",
    "divisors()"
   ]
  },
  {
   "cell_type": "code",
   "execution_count": 9,
   "id": "48cbafdf-1f30-411b-b514-0d652468c2fa",
   "metadata": {},
   "outputs": [
    {
     "name": "stdout",
     "output_type": "stream",
     "text": [
      "1 is a divisor for 89\n",
      "89 is a divisor for 89\n"
     ]
    }
   ],
   "source": [
    "def divisors1(num):\n",
    "    for i in range(1,num+1):\n",
    "        if num%i==0:\n",
    "            print(f\"{i} is a divisor for {num}\")\n",
    "\n",
    "divisors1(89)"
   ]
  },
  {
   "cell_type": "code",
   "execution_count": 10,
   "id": "ff982362-1f26-487a-a84b-f0b951ef23c1",
   "metadata": {},
   "outputs": [
    {
     "name": "stdout",
     "output_type": "stream",
     "text": [
      "1 is a divisor for 89\n",
      "89 is a divisor for 89\n"
     ]
    },
    {
     "data": {
      "text/plain": [
       "89"
      ]
     },
     "execution_count": 10,
     "metadata": {},
     "output_type": "execute_result"
    }
   ],
   "source": [
    "def divisors3(num):\n",
    "    for i in range(1,num+1):\n",
    "        if num%i==0:\n",
    "            print(f\"{i} is a divisor for {num}\")\n",
    "    return(i)\n",
    "\n",
    "div=divisors3(89)\n",
    "div"
   ]
  },
  {
   "cell_type": "code",
   "execution_count": 11,
   "id": "68fe940e-779e-4966-b2c6-f97e3da537ae",
   "metadata": {},
   "outputs": [
    {
     "name": "stdout",
     "output_type": "stream",
     "text": [
      "0 1 2 3 4 "
     ]
    }
   ],
   "source": [
    "for i in range(5):\n",
    "    print(i,end=' ')"
   ]
  },
  {
   "cell_type": "code",
   "execution_count": 12,
   "id": "aee4160c-42c2-47e9-afbb-930713e65671",
   "metadata": {},
   "outputs": [
    {
     "data": {
      "text/plain": [
       "4"
      ]
     },
     "execution_count": 12,
     "metadata": {},
     "output_type": "execute_result"
    }
   ],
   "source": [
    "i\n",
    "# i variable will give always last value\n",
    "# do not print i outside the for loop"
   ]
  },
  {
   "cell_type": "markdown",
   "id": "3aacd4dd-1269-4e11-b17f-bf1e867573a1",
   "metadata": {},
   "source": [
    "**Summation wrapper**\n",
    "\n",
    "- always intialize the summ=0 before the loop\n",
    "\n",
    "- inside loop summ=summ+i\n",
    "\n",
    "- then print summ value outside the loop"
   ]
  },
  {
   "cell_type": "code",
   "execution_count": null,
   "id": "9dd3ec3a-2179-4843-ada4-e40741b5f3f2",
   "metadata": {},
   "outputs": [],
   "source": [
    "# wap ask the user print first 10 natural numbers\n",
    "# 1+2+3+4+5+6+7+8+9+10=55\n",
    "\n",
    "summ=0\n",
    "\n",
    "summ+i=summ\n",
    "0+1=1\n",
    "1+2=3\n",
    "3+3=6\n",
    "6+4=10\n",
    "10+5=15\n",
    "15+6=21\n",
    "21+7=28\n",
    "28+8=36\n",
    "36+9=45\n",
    "45+10=55"
   ]
  },
  {
   "cell_type": "code",
   "execution_count": 17,
   "id": "7be60165-2303-4811-8559-d02c3e5b00d0",
   "metadata": {},
   "outputs": [
    {
     "name": "stdout",
     "output_type": "stream",
     "text": [
      "55\n"
     ]
    }
   ],
   "source": [
    "summ=0\n",
    "for i in range(1,11):\n",
    "    summ=summ+i\n",
    "    #summ+=i\n",
    "print(summ)"
   ]
  },
  {
   "cell_type": "markdown",
   "id": "ae7f93eb-9c01-4cf4-abc7-0f8333b87c46",
   "metadata": {},
   "source": [
    "**counter wrapper**\n",
    "\n",
    "- Before the loop count=0\n",
    "\n",
    "- inside the loop count=count+1, but this line under successful operation\n",
    "\n",
    "- print the count outside the loop"
   ]
  },
  {
   "cell_type": "code",
   "execution_count": 21,
   "id": "c2acb93d-9372-4701-8ab5-e5a8da77d211",
   "metadata": {},
   "outputs": [
    {
     "name": "stdin",
     "output_type": "stream",
     "text": [
      "enter which divisor you want 10\n"
     ]
    },
    {
     "name": "stdout",
     "output_type": "stream",
     "text": [
      "the number of divisors are: 4\n"
     ]
    }
   ],
   "source": [
    "# wap ask the user find the count of divisors\n",
    "count=0\n",
    "num=eval(input(\"enter which divisor you want\"))\n",
    "for i in range(1,num+1):   \n",
    "    if num%i==0:\n",
    "        count=count+1 # 2\n",
    "        #print(f\"{i} is a divisor for {num}\")\n",
    "\n",
    "print(\"the number of divisors are:\",count)\n",
    "\n",
    "# for i in range(1,10+1)\n",
    "# step-1: i=1   count=0+1=1  if 10%1==0  True  print\n",
    "# step-2: i=2  count=1+1=2  if 10%2==0   True  print\n",
    "# step-3: i=3  count=2+1=3  if 10%3==0   F\n"
   ]
  },
  {
   "cell_type": "code",
   "execution_count": 26,
   "id": "d1a50f98-a31d-4d07-a296-a112ffacae06",
   "metadata": {},
   "outputs": [
    {
     "name": "stdout",
     "output_type": "stream",
     "text": [
      "even 50\n",
      "even 20\n",
      "even 34\n",
      "odd 77\n",
      "even 20\n",
      "the number of evens are: 4\n",
      "the number of odds are: 1\n"
     ]
    }
   ],
   "source": [
    "# wap ask the user to enter a number 5 times\n",
    "# the loop should ask 5 times\n",
    "# you should calculate even odd\n",
    "# get the count of even and count of odd number\n",
    "\n",
    "import random\n",
    "even_count,odd_count=0,0\n",
    "for i in range(5):\n",
    "    num= random.randint(1,100)\n",
    "    if num%2==0:\n",
    "        print(f\"even {num}\")\n",
    "        even_count=even_count+1\n",
    "    else:\n",
    "        print(f\"odd {num}\")\n",
    "        odd_count=odd_count+1\n",
    "\n",
    "print(\"the number of evens are:\",even_count)\n",
    "print(\"the number of odds are:\",odd_count)"
   ]
  },
  {
   "cell_type": "code",
   "execution_count": 28,
   "id": "aadc850b-5484-4e3a-941d-b8b9fd0db866",
   "metadata": {},
   "outputs": [
    {
     "name": "stdin",
     "output_type": "stream",
     "text": [
      "enter which divisor you want 10\n"
     ]
    },
    {
     "name": "stdout",
     "output_type": "stream",
     "text": [
      "1 is a divisor for 10\n",
      "2 is a divisor for 10\n",
      "5 is a divisor for 10\n",
      "10 is a divisor for 10\n",
      "the number of divisors are: 4\n",
      "the divisors sum is: 18\n"
     ]
    }
   ],
   "source": [
    "count=0\n",
    "summ=0\n",
    "num=eval(input(\"enter which divisor you want\"))\n",
    "for i in range(1,num+1):   \n",
    "    if num%i==0:\n",
    "        count=count+1 # 2\n",
    "        summ=summ+i\n",
    "        print(f\"{i} is a divisor for {num}\")\n",
    "\n",
    "print(\"the number of divisors are:\",count)\n",
    "print(\"the divisors sum is:\",summ)"
   ]
  },
  {
   "cell_type": "code",
   "execution_count": 29,
   "id": "1093bbfe-224c-4a5f-96f7-7f3b9e20eecf",
   "metadata": {},
   "outputs": [
    {
     "name": "stdout",
     "output_type": "stream",
     "text": [
      "odd 73\n",
      "even 52\n",
      "even 80\n",
      "odd 71\n",
      "even 76\n",
      "the number of evens are: 3\n",
      "the number of odds are: 2\n",
      "the sum of evens are: 208\n",
      "the sum of odds are: 144\n"
     ]
    }
   ],
   "source": [
    "import random\n",
    "even_count,odd_count=0,0\n",
    "even_sum,odd_sum=0,0\n",
    "for i in range(5):\n",
    "    num= random.randint(1,100)\n",
    "    if num%2==0:\n",
    "        print(f\"even {num}\")\n",
    "        even_count=even_count+1\n",
    "        even_sum=even_sum+num\n",
    "    else:\n",
    "        print(f\"odd {num}\")\n",
    "        odd_count=odd_count+1\n",
    "        odd_sum=odd_sum+num\n",
    "\n",
    "print(\"the number of evens are:\",even_count)\n",
    "print(\"the number of odds are:\",odd_count)\n",
    "print(\"the sum of evens are:\",even_sum)\n",
    "print(\"the sum of odds are:\",odd_sum)"
   ]
  },
  {
   "cell_type": "code",
   "execution_count": 32,
   "id": "52e0ec55-d14f-45f0-91c8-c0179ad0adb0",
   "metadata": {},
   "outputs": [
    {
     "name": "stdout",
     "output_type": "stream",
     "text": [
      "5\n"
     ]
    },
    {
     "name": "stdin",
     "output_type": "stream",
     "text": [
      "enter the num: 5\n"
     ]
    },
    {
     "name": "stdout",
     "output_type": "stream",
     "text": [
      "won\n",
      "10\n"
     ]
    },
    {
     "name": "stdin",
     "output_type": "stream",
     "text": [
      "enter the num: 10\n"
     ]
    },
    {
     "name": "stdout",
     "output_type": "stream",
     "text": [
      "won\n",
      "8\n"
     ]
    },
    {
     "name": "stdin",
     "output_type": "stream",
     "text": [
      "enter the num: 9\n"
     ]
    },
    {
     "name": "stdout",
     "output_type": "stream",
     "text": [
      "lost\n"
     ]
    }
   ],
   "source": [
    "# wap ask the user get a random number n1 1,10\n",
    "#     ask the user enter a number n1\n",
    "# if both numbers are match print won\n",
    "# otherwise print lost\n",
    "# you should provide 3 times\n",
    "\n",
    "import random\n",
    "for i in range(3):\n",
    "    n1=random.randint(1,10)\n",
    "    print(n1)\n",
    "    n2=eval(input(\"enter the num:\"))\n",
    "    if n1==n2:\n",
    "        print('won')\n",
    "    else:\n",
    "        print('lost')"
   ]
  },
  {
   "cell_type": "code",
   "execution_count": 33,
   "id": "9c4fabb5-3668-49d7-9b32-30b38ce426d0",
   "metadata": {},
   "outputs": [
    {
     "name": "stdout",
     "output_type": "stream",
     "text": [
      "4\n"
     ]
    },
    {
     "name": "stdin",
     "output_type": "stream",
     "text": [
      "enter the num: 4\n"
     ]
    },
    {
     "name": "stdout",
     "output_type": "stream",
     "text": [
      "won\n"
     ]
    }
   ],
   "source": [
    "# Case-1\n",
    "import random\n",
    "for i in range(3):\n",
    "    n1=random.randint(1,10)\n",
    "    print(n1)\n",
    "    n2=eval(input(\"enter the num:\"))\n",
    "    if n1==n2:\n",
    "        print('won')\n",
    "        break\n",
    "    else:\n",
    "        print('lost')"
   ]
  },
  {
   "cell_type": "code",
   "execution_count": 1,
   "id": "19cdfe14-208f-45ef-8750-86c2ba285c9d",
   "metadata": {},
   "outputs": [],
   "source": [
    "# case-2: for every failure\n",
    "# the number of chances should display\n",
    "\n",
    "# Case-3: after the allthe chances are finished\n",
    "#  print all the chances are lost try after 24hours"
   ]
  },
  {
   "cell_type": "code",
   "execution_count": 5,
   "id": "e9483376",
   "metadata": {},
   "outputs": [
    {
     "name": "stdout",
     "output_type": "stream",
     "text": [
      "enter the number of chances you want to give:3\n",
      "4\n",
      "enter the num:5\n",
      "The chances left is: 2\n",
      "lost\n",
      "4\n",
      "enter the num:8\n",
      "The chances left is: 1\n",
      "lost\n",
      "9\n",
      "enter the num:2\n",
      "The chances left is: 0\n",
      "lost\n"
     ]
    }
   ],
   "source": [
    "import random\n",
    "num = eval(input(\"enter the number of chances you want to give:\"))\n",
    "for i in range(1, num+1):\n",
    "    n1=random.randint(1,10)\n",
    "    print(n1)\n",
    "    n2=eval(input(\"enter the num:\"))\n",
    "    if n1==n2:\n",
    "        print('won')\n",
    "        break\n",
    "    else:\n",
    "        print(\"The chances left is:\", num-i)\n",
    "        print('lost')"
   ]
  },
  {
   "cell_type": "code",
   "execution_count": 6,
   "id": "a612c422",
   "metadata": {},
   "outputs": [
    {
     "name": "stdout",
     "output_type": "stream",
     "text": [
      "enter the number of chances you want to give:3\n",
      "2\n",
      "enter the num:5\n",
      "The chances left is: 2\n",
      "lost\n",
      "3\n",
      "enter the num:5\n",
      "The chances left is: 1\n",
      "lost\n",
      "10\n",
      "enter the num:5\n",
      "All chances are over try after 24 Hours\n"
     ]
    }
   ],
   "source": [
    "import random\n",
    "num = eval(input(\"enter the number of chances you want to give:\"))\n",
    "for i in range(1, num+1):\n",
    "    n1=random.randint(1,10)\n",
    "    print(n1)\n",
    "    n2=eval(input(\"enter the num:\"))\n",
    "    if n1==n2:\n",
    "        print('won')\n",
    "        break\n",
    "    elif num-i==0:\n",
    "        print(\"All chances are over try after 24 Hours\")\n",
    "    else:\n",
    "        print(\"The chances left is:\", num-i)\n",
    "        print('lost')"
   ]
  },
  {
   "cell_type": "markdown",
   "id": "1c2634e9",
   "metadata": {},
   "source": [
    "**in**"
   ]
  },
  {
   "cell_type": "markdown",
   "id": "937b1037",
   "metadata": {},
   "source": [
    "- range operator expect a value inside\n",
    "- in operator access the value directly"
   ]
  },
  {
   "cell_type": "code",
   "execution_count": 9,
   "id": "f5b8a02f",
   "metadata": {},
   "outputs": [
    {
     "name": "stdout",
     "output_type": "stream",
     "text": [
      "p\n",
      "y\n",
      "t\n",
      "h\n",
      "o\n",
      "n\n"
     ]
    }
   ],
   "source": [
    "\"p\" in \"python\"\n",
    "\"y\" in \"python\"\n",
    "\"t\" in \"python\"\n",
    "\"h\" in \"python\"\n",
    "\"o\" in \"python\"\n",
    "\"n\" in \"python\"\n",
    "\n",
    "for i in \"python\": \n",
    "    print(i)"
   ]
  },
  {
   "cell_type": "code",
   "execution_count": 12,
   "id": "d4480b44",
   "metadata": {},
   "outputs": [
    {
     "data": {
      "text/plain": [
       "False"
      ]
     },
     "execution_count": 12,
     "metadata": {},
     "output_type": "execute_result"
    }
   ],
   "source": [
    "\"P\"==\"P\" #False\n",
    "\"p\"==\"p\" #True\n",
    "\"p\">\"P\"  #True\n",
    "\"p\"<\"P\"  #True"
   ]
  },
  {
   "cell_type": "code",
   "execution_count": 15,
   "id": "3a70a8ec",
   "metadata": {},
   "outputs": [],
   "source": [
    "#ASCII: American Standard Code for Information Interchange\n",
    "\n",
    "A = 65  \n",
    "a=97\n",
    "B = 66  \n",
    "b=98"
   ]
  },
  {
   "cell_type": "markdown",
   "id": "1fb02d89",
   "metadata": {},
   "source": [
    "**ord-chr**"
   ]
  },
  {
   "cell_type": "code",
   "execution_count": 17,
   "id": "ee9d16d6",
   "metadata": {},
   "outputs": [
    {
     "data": {
      "text/plain": [
       "65"
      ]
     },
     "execution_count": 17,
     "metadata": {},
     "output_type": "execute_result"
    }
   ],
   "source": [
    "ord(\"A\")"
   ]
  },
  {
   "cell_type": "code",
   "execution_count": 19,
   "id": "0bbf496a",
   "metadata": {},
   "outputs": [
    {
     "data": {
      "text/plain": [
       "'A'"
      ]
     },
     "execution_count": 19,
     "metadata": {},
     "output_type": "execute_result"
    }
   ],
   "source": [
    "chr(65)"
   ]
  },
  {
   "cell_type": "code",
   "execution_count": 20,
   "id": "bdb8965e",
   "metadata": {},
   "outputs": [
    {
     "data": {
      "text/plain": [
       "97"
      ]
     },
     "execution_count": 20,
     "metadata": {},
     "output_type": "execute_result"
    }
   ],
   "source": [
    "ord(\"a\")"
   ]
  },
  {
   "cell_type": "code",
   "execution_count": 21,
   "id": "f0e7398e",
   "metadata": {},
   "outputs": [
    {
     "data": {
      "text/plain": [
       "'a'"
      ]
     },
     "execution_count": 21,
     "metadata": {},
     "output_type": "execute_result"
    }
   ],
   "source": [
    "chr(97)"
   ]
  },
  {
   "cell_type": "code",
   "execution_count": 29,
   "id": "29a90aca",
   "metadata": {},
   "outputs": [
    {
     "name": "stdout",
     "output_type": "stream",
     "text": [
      "32 -->   33 --> ! 34 --> \" 35 --> # 36 --> $ 37 --> % 38 --> & 39 --> ' 40 --> ( 41 --> ) 42 --> * 43 --> + 44 --> , 45 --> - 46 --> . 47 --> / 48 --> 0 49 --> 1 50 --> 2 51 --> 3 52 --> 4 53 --> 5 54 --> 6 55 --> 7 56 --> 8 57 --> 9 58 --> : 59 --> ; 60 --> < 61 --> = 62 --> > 63 --> ? 64 --> @ 65 --> A 66 --> B 67 --> C 68 --> D 69 --> E 70 --> F 71 --> G 72 --> H 73 --> I 74 --> J 75 --> K 76 --> L 77 --> M 78 --> N 79 --> O 80 --> P 81 --> Q 82 --> R 83 --> S 84 --> T 85 --> U 86 --> V 87 --> W 88 --> X 89 --> Y 90 --> Z 91 --> [ 92 --> \\ 93 --> ] 94 --> ^ 95 --> _ 96 --> ` 97 --> a 98 --> b 99 --> c 100 --> d 101 --> e 102 --> f 103 --> g 104 --> h 105 --> i 106 --> j 107 --> k 108 --> l 109 --> m 110 --> n 111 --> o 112 --> p 113 --> q 114 --> r 115 --> s 116 --> t 117 --> u 118 --> v 119 --> w 120 --> x 121 --> y 122 --> z 123 --> { 124 --> | 125 --> } 126 --> ~ "
     ]
    }
   ],
   "source": [
    "for i in range(32,127):\n",
    "    print(i,\"-->\",chr(i),end=\" \")"
   ]
  },
  {
   "cell_type": "code",
   "execution_count": 30,
   "id": "48b6c299",
   "metadata": {},
   "outputs": [
    {
     "name": "stdout",
     "output_type": "stream",
     "text": [
      "1000 --> Ϩ 1001 --> ϩ 1002 --> Ϫ 1003 --> ϫ 1004 --> Ϭ 1005 --> ϭ 1006 --> Ϯ 1007 --> ϯ 1008 --> ϰ 1009 --> ϱ 1010 --> ϲ 1011 --> ϳ 1012 --> ϴ 1013 --> ϵ 1014 --> ϶ 1015 --> Ϸ 1016 --> ϸ 1017 --> Ϲ 1018 --> Ϻ 1019 --> ϻ 1020 --> ϼ 1021 --> Ͻ 1022 --> Ͼ 1023 --> Ͽ 1024 --> Ѐ 1025 --> Ё 1026 --> Ђ 1027 --> Ѓ 1028 --> Є 1029 --> Ѕ 1030 --> І 1031 --> Ї 1032 --> Ј 1033 --> Љ 1034 --> Њ 1035 --> Ћ 1036 --> Ќ 1037 --> Ѝ 1038 --> Ў 1039 --> Џ 1040 --> А 1041 --> Б 1042 --> В 1043 --> Г 1044 --> Д 1045 --> Е 1046 --> Ж 1047 --> З 1048 --> И 1049 --> Й 1050 --> К 1051 --> Л 1052 --> М 1053 --> Н 1054 --> О 1055 --> П 1056 --> Р 1057 --> С 1058 --> Т 1059 --> У 1060 --> Ф 1061 --> Х 1062 --> Ц 1063 --> Ч 1064 --> Ш 1065 --> Щ 1066 --> Ъ 1067 --> Ы 1068 --> Ь 1069 --> Э 1070 --> Ю 1071 --> Я 1072 --> а 1073 --> б 1074 --> в 1075 --> г 1076 --> д 1077 --> е 1078 --> ж 1079 --> з 1080 --> и 1081 --> й 1082 --> к 1083 --> л 1084 --> м 1085 --> н 1086 --> о 1087 --> п 1088 --> р 1089 --> с 1090 --> т 1091 --> у 1092 --> ф 1093 --> х 1094 --> ц 1095 --> ч 1096 --> ш 1097 --> щ 1098 --> ъ 1099 --> ы "
     ]
    }
   ],
   "source": [
    "for i in range(1000,1100):\n",
    "    print(i,\"-->\",chr(i),end=\" \")"
   ]
  },
  {
   "cell_type": "code",
   "execution_count": 32,
   "id": "597b889f",
   "metadata": {},
   "outputs": [
    {
     "name": "stdout",
     "output_type": "stream",
     "text": [
      "3000 --> ஸ 3001 --> ஹ 3002 --> ஺ 3003 --> ஻ 3004 --> ஼ 3005 --> ஽ 3006 --> ா 3007 --> ி 3008 --> ீ 3009 --> ு 3010 --> ூ 3011 --> ௃ 3012 --> ௄ 3013 --> ௅ 3014 --> ெ 3015 --> ே 3016 --> ை 3017 --> ௉ 3018 --> ொ 3019 --> ோ 3020 --> ௌ 3021 --> ் 3022 --> ௎ 3023 --> ௏ 3024 --> ௐ 3025 --> ௑ 3026 --> ௒ 3027 --> ௓ 3028 --> ௔ 3029 --> ௕ 3030 --> ௖ 3031 --> ௗ 3032 --> ௘ 3033 --> ௙ 3034 --> ௚ 3035 --> ௛ 3036 --> ௜ 3037 --> ௝ 3038 --> ௞ 3039 --> ௟ 3040 --> ௠ 3041 --> ௡ 3042 --> ௢ 3043 --> ௣ 3044 --> ௤ 3045 --> ௥ 3046 --> ௦ 3047 --> ௧ 3048 --> ௨ 3049 --> ௩ 3050 --> ௪ 3051 --> ௫ 3052 --> ௬ 3053 --> ௭ 3054 --> ௮ 3055 --> ௯ 3056 --> ௰ 3057 --> ௱ 3058 --> ௲ 3059 --> ௳ 3060 --> ௴ 3061 --> ௵ 3062 --> ௶ 3063 --> ௷ 3064 --> ௸ 3065 --> ௹ 3066 --> ௺ 3067 --> ௻ 3068 --> ௼ 3069 --> ௽ 3070 --> ௾ 3071 --> ௿ 3072 --> ఀ 3073 --> ఁ 3074 --> ం 3075 --> ః 3076 --> ఄ 3077 --> అ 3078 --> ఆ 3079 --> ఇ 3080 --> ఈ 3081 --> ఉ 3082 --> ఊ 3083 --> ఋ 3084 --> ఌ 3085 --> ఍ 3086 --> ఎ 3087 --> ఏ 3088 --> ఐ 3089 --> ఑ 3090 --> ఒ 3091 --> ఓ 3092 --> ఔ 3093 --> క 3094 --> ఖ 3095 --> గ 3096 --> ఘ 3097 --> ఙ 3098 --> చ 3099 --> ఛ 3100 --> జ 3101 --> ఝ 3102 --> ఞ 3103 --> ట 3104 --> ఠ 3105 --> డ 3106 --> ఢ 3107 --> ణ 3108 --> త 3109 --> థ 3110 --> ద 3111 --> ధ 3112 --> న 3113 --> ఩ 3114 --> ప 3115 --> ఫ 3116 --> బ 3117 --> భ 3118 --> మ 3119 --> య 3120 --> ర 3121 --> ఱ 3122 --> ల 3123 --> ళ 3124 --> ఴ 3125 --> వ 3126 --> శ 3127 --> ష 3128 --> స 3129 --> హ 3130 --> ఺ 3131 --> ఻ 3132 --> ఼ 3133 --> ఽ 3134 --> ా 3135 --> ి 3136 --> ీ 3137 --> ు 3138 --> ూ 3139 --> ృ 3140 --> ౄ 3141 --> ౅ 3142 --> ె 3143 --> ే 3144 --> ై 3145 --> ౉ 3146 --> ొ 3147 --> ో 3148 --> ౌ 3149 --> ్ 3150 --> ౎ 3151 --> ౏ 3152 --> ౐ 3153 --> ౑ 3154 --> ౒ 3155 --> ౓ 3156 --> ౔ 3157 --> ౕ 3158 --> ౖ 3159 --> ౗ 3160 --> ౘ 3161 --> ౙ 3162 --> ౚ 3163 --> ౛ 3164 --> ౜ 3165 --> ౝ 3166 --> ౞ 3167 --> ౟ 3168 --> ౠ 3169 --> ౡ 3170 --> ౢ 3171 --> ౣ 3172 --> ౤ 3173 --> ౥ 3174 --> ౦ 3175 --> ౧ 3176 --> ౨ 3177 --> ౩ 3178 --> ౪ 3179 --> ౫ 3180 --> ౬ 3181 --> ౭ 3182 --> ౮ 3183 --> ౯ 3184 --> ౰ 3185 --> ౱ 3186 --> ౲ 3187 --> ౳ 3188 --> ౴ 3189 --> ౵ 3190 --> ౶ 3191 --> ౷ 3192 --> ౸ 3193 --> ౹ 3194 --> ౺ 3195 --> ౻ 3196 --> ౼ 3197 --> ౽ 3198 --> ౾ 3199 --> ౿ 3200 --> ಀ 3201 --> ಁ 3202 --> ಂ 3203 --> ಃ 3204 --> ಄ 3205 --> ಅ 3206 --> ಆ 3207 --> ಇ 3208 --> ಈ 3209 --> ಉ 3210 --> ಊ 3211 --> ಋ 3212 --> ಌ 3213 --> ಍ 3214 --> ಎ 3215 --> ಏ 3216 --> ಐ 3217 --> ಑ 3218 --> ಒ 3219 --> ಓ 3220 --> ಔ 3221 --> ಕ 3222 --> ಖ 3223 --> ಗ 3224 --> ಘ 3225 --> ಙ 3226 --> ಚ 3227 --> ಛ 3228 --> ಜ 3229 --> ಝ 3230 --> ಞ 3231 --> ಟ 3232 --> ಠ 3233 --> ಡ 3234 --> ಢ 3235 --> ಣ 3236 --> ತ 3237 --> ಥ 3238 --> ದ 3239 --> ಧ 3240 --> ನ 3241 --> ಩ 3242 --> ಪ 3243 --> ಫ 3244 --> ಬ 3245 --> ಭ 3246 --> ಮ 3247 --> ಯ 3248 --> ರ 3249 --> ಱ 3250 --> ಲ 3251 --> ಳ 3252 --> ಴ 3253 --> ವ 3254 --> ಶ 3255 --> ಷ 3256 --> ಸ 3257 --> ಹ 3258 --> ಺ 3259 --> ಻ 3260 --> ಼ 3261 --> ಽ 3262 --> ಾ 3263 --> ಿ 3264 --> ೀ 3265 --> ು 3266 --> ೂ 3267 --> ೃ 3268 --> ೄ 3269 --> ೅ 3270 --> ೆ 3271 --> ೇ 3272 --> ೈ 3273 --> ೉ 3274 --> ೊ 3275 --> ೋ 3276 --> ೌ 3277 --> ್ 3278 --> ೎ 3279 --> ೏ 3280 --> ೐ 3281 --> ೑ 3282 --> ೒ 3283 --> ೓ 3284 --> ೔ 3285 --> ೕ 3286 --> ೖ 3287 --> ೗ 3288 --> ೘ 3289 --> ೙ 3290 --> ೚ 3291 --> ೛ 3292 --> ೜ 3293 --> ೝ 3294 --> ೞ 3295 --> ೟ 3296 --> ೠ 3297 --> ೡ 3298 --> ೢ 3299 --> ೣ "
     ]
    }
   ],
   "source": [
    "for i in range(3000,3300):\n",
    "    print(i,\"-->\",chr(i),end=\" \")"
   ]
  },
  {
   "cell_type": "code",
   "execution_count": 53,
   "id": "39c9c80a",
   "metadata": {},
   "outputs": [
    {
     "name": "stdout",
     "output_type": "stream",
     "text": [
      "A 65\n",
      "B 66\n",
      "C 67\n",
      "D 68\n",
      "E 69\n",
      "F 70\n",
      "G 71\n",
      "H 72\n",
      "I 73\n",
      "J 74\n",
      "K 75\n",
      "L 76\n",
      "M 77\n",
      "N 78\n",
      "O 79\n",
      "P 80\n",
      "Q 81\n",
      "R 82\n",
      "S 83\n",
      "T 84\n",
      "U 85\n",
      "V 86\n",
      "W 87\n",
      "X 88\n",
      "Y 89\n",
      "Z 90\n"
     ]
    }
   ],
   "source": [
    "import string\n",
    "for i in string.ascii_uppercase:\n",
    "    print(i,ord(i))"
   ]
  },
  {
   "cell_type": "markdown",
   "id": "b55d8ec2",
   "metadata": {},
   "source": [
    "**iterator**"
   ]
  },
  {
   "cell_type": "markdown",
   "id": "755a7b4f",
   "metadata": {},
   "source": [
    "- in operator access direct elements which is called iterator\n",
    "- iterator means \n",
    "   - string\n",
    "   - tuple\n",
    "   - list\n",
    "   - dictionary\n",
    "- iterator means which can be print by using for loop\n",
    "- whenever we use in operator dont give the numbers\n",
    "- whenever we us range operator dont give any iterator\n",
    "- range needs only a number"
   ]
  },
  {
   "cell_type": "code",
   "execution_count": 58,
   "id": "914cf75e",
   "metadata": {},
   "outputs": [
    {
     "data": {
      "text/plain": [
       "['h', 'n', 'o', 'p', 't', 'y']"
      ]
     },
     "execution_count": 58,
     "metadata": {},
     "output_type": "execute_result"
    }
   ],
   "source": [
    "sorted(\"python\")"
   ]
  },
  {
   "cell_type": "code",
   "execution_count": 59,
   "id": "cbd9f052",
   "metadata": {},
   "outputs": [
    {
     "data": {
      "text/plain": [
       "(112, 121, 116, 104, 111, 110)"
      ]
     },
     "execution_count": 59,
     "metadata": {},
     "output_type": "execute_result"
    }
   ],
   "source": [
    "ord(\"p\"),ord(\"y\"),ord(\"t\"),ord(\"h\"),ord(\"o\"),ord(\"n\")"
   ]
  },
  {
   "cell_type": "code",
   "execution_count": null,
   "id": "611517a6",
   "metadata": {},
   "outputs": [],
   "source": []
  }
 ],
 "metadata": {
  "kernelspec": {
   "display_name": "Python 3 (ipykernel)",
   "language": "python",
   "name": "python3"
  },
  "language_info": {
   "codemirror_mode": {
    "name": "ipython",
    "version": 3
   },
   "file_extension": ".py",
   "mimetype": "text/x-python",
   "name": "python",
   "nbconvert_exporter": "python",
   "pygments_lexer": "ipython3",
   "version": "3.11.5"
  }
 },
 "nbformat": 4,
 "nbformat_minor": 5
}
