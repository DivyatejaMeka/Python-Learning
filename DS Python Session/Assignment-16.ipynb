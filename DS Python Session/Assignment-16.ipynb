{
 "cells": [
  {
   "cell_type": "code",
   "execution_count": 1,
   "id": "d6f44ee8",
   "metadata": {},
   "outputs": [
    {
     "name": "stdout",
     "output_type": "stream",
     "text": [
      "{}\n"
     ]
    }
   ],
   "source": [
    "#clear()\n",
    "my_dict = {'a': 1, 'b': 2}\n",
    "my_dict.clear()\n",
    "print(my_dict)  "
   ]
  },
  {
   "cell_type": "code",
   "execution_count": 2,
   "id": "67b95406",
   "metadata": {},
   "outputs": [
    {
     "name": "stdout",
     "output_type": "stream",
     "text": [
      "{'x': 10, 'y': 20}\n"
     ]
    }
   ],
   "source": [
    "#copy()\n",
    "original = {'x': 10, 'y': 20}\n",
    "copied = original.copy()\n",
    "print(copied) "
   ]
  },
  {
   "cell_type": "code",
   "execution_count": 4,
   "id": "eb5a34d5",
   "metadata": {},
   "outputs": [
    {
     "name": "stdout",
     "output_type": "stream",
     "text": [
      "dict_items([('a', 1), ('b', 2)])\n"
     ]
    }
   ],
   "source": [
    "#items()\n",
    "my_dict = {'a': 1, 'b': 2}\n",
    "print(my_dict.items())  "
   ]
  },
  {
   "cell_type": "code",
   "execution_count": 6,
   "id": "11b48989",
   "metadata": {},
   "outputs": [
    {
     "name": "stdout",
     "output_type": "stream",
     "text": [
      "dict_values([1, 2])\n"
     ]
    }
   ],
   "source": [
    "#values()\n",
    "my_dict = {'a': 1, 'b': 2}\n",
    "print(my_dict.values())  "
   ]
  },
  {
   "cell_type": "code",
   "execution_count": 8,
   "id": "555c74f1",
   "metadata": {},
   "outputs": [
    {
     "name": "stdout",
     "output_type": "stream",
     "text": [
      "dict_keys(['a', 'b'])\n"
     ]
    }
   ],
   "source": [
    "#keys()\n",
    "my_dict = {'a': 1, 'b': 2}\n",
    "print(my_dict.keys()) "
   ]
  },
  {
   "cell_type": "code",
   "execution_count": 9,
   "id": "78baa20e",
   "metadata": {},
   "outputs": [
    {
     "name": "stdout",
     "output_type": "stream",
     "text": [
      "1\n",
      "Not Found\n"
     ]
    }
   ],
   "source": [
    "#get()\n",
    "my_dict = {'a': 1, 'b': 2}\n",
    "print(my_dict.get('a'))\n",
    "print(my_dict.get('c', 'Not Found')) "
   ]
  },
  {
   "cell_type": "code",
   "execution_count": 11,
   "id": "86f24f48",
   "metadata": {},
   "outputs": [
    {
     "name": "stdout",
     "output_type": "stream",
     "text": [
      "1\n",
      "{'b': 2}\n"
     ]
    }
   ],
   "source": [
    "#pop()\n",
    "my_dict = {'a': 1, 'b': 2}\n",
    "print(my_dict.pop('a'))  \n",
    "print(my_dict)"
   ]
  },
  {
   "cell_type": "code",
   "execution_count": null,
   "id": "e627e942",
   "metadata": {},
   "outputs": [],
   "source": []
  }
 ],
 "metadata": {
  "kernelspec": {
   "display_name": "Python 3 (ipykernel)",
   "language": "python",
   "name": "python3"
  },
  "language_info": {
   "codemirror_mode": {
    "name": "ipython",
    "version": 3
   },
   "file_extension": ".py",
   "mimetype": "text/x-python",
   "name": "python",
   "nbconvert_exporter": "python",
   "pygments_lexer": "ipython3",
   "version": "3.11.5"
  }
 },
 "nbformat": 4,
 "nbformat_minor": 5
}
